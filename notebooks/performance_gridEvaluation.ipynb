{
 "cells": [
  {
   "cell_type": "markdown",
   "metadata": {},
   "source": [
    "# Performance evaluation and benchmarking\n",
    "\n",
    "In this notebook we will go step-by-step through the model evaluation part of our paper, where we compare the predictions of the XGBoost and EA-LSTM models.\n",
    "\n",
    "Note:\n",
    "If you want to run this notebook locally and reproduce the figures of our paper\n",
    "- make sure you have our pre-trained models. See the [README.md](link) in the repository for further instructions.\n",
    "\n",
    "- make sure to have the CAMELS benchmark data set. See the [README.md](link) in the repository for further instructions.\n",
    "\n",
    "#### Adapt the lines below according to your local system"
   ]
  },
  {
   "cell_type": "code",
   "execution_count": null,
   "metadata": {},
   "outputs": [],
   "source": [
    "# Needed if no precomputed results are used. Main directory containing all runs\n",
    "BASE_RUN_DIR = \"/home/mgauch/ealstm_regional_modeling/runs/run_grid_3010_2119/\"\n",
    "\n",
    "# Path to the main directory of this repository\n",
    "BASE_CODE_DIR = \"/home/mgauch/ealstm_regional_modeling\""
   ]
  },
  {
   "cell_type": "code",
   "execution_count": 2,
   "metadata": {},
   "outputs": [],
   "source": [
    "# Imports\n",
    "import pickle\n",
    "import sys\n",
    "from collections import defaultdict\n",
    "from pathlib import Path\n",
    "import itertools\n",
    "\n",
    "import matplotlib.pyplot as plt\n",
    "import pandas as pd\n",
    "import tqdm\n",
    "from scipy.stats import wilcoxon\n",
    "\n",
    "# Add repository to Python path\n",
    "sys.path.append(BASE_CODE_DIR)\n",
    "from papercode.plotutils import model_draw_style, model_specs_gridEvaluation, ecdf\n",
    "from papercode.evalutils import (get_run_dirs_gridEvaluation, eval_datadriven_models, \n",
    "                                 eval_benchmark_models, get_pvals, \n",
    "                                 get_mean_basin_performance, get_cohens_d)\n",
    "from papercode.metrics import *"
   ]
  },
  {
   "cell_type": "markdown",
   "metadata": {},
   "source": [
    "Definition of global variables. \n",
    "\n",
    "**Note**: If you want to recompute all model metrics, change the `PRECOMPUTED_DATA` flag to `False`. No GPU is required. If you want to use the pre-calculated metrics, make sure the flag is set to `True`"
   ]
  },
  {
   "cell_type": "code",
   "execution_count": 3,
   "metadata": {},
   "outputs": [],
   "source": [
    "# If True load pre-computed metrics from pickle file, else re-calculate everything\n",
    "PRECOMPUTED_DATA = False\n",
    "\n",
    "# Convert to PosixPaths\n",
    "BASE_RUN_DIR = Path(BASE_RUN_DIR)\n",
    "\n",
    "# Set of evaluation functions\n",
    "EVAL_FUNCS = {'NSE': calc_nse, \n",
    "              'alpha_nse': calc_alpha_nse, \n",
    "              'beta_nse': calc_beta_nse,\n",
    "              'FHV': calc_fdc_fhv, \n",
    "              'FLV': calc_fdc_flv, \n",
    "              'FMS': calc_fdc_fms}"
   ]
  },
  {
   "cell_type": "markdown",
   "metadata": {},
   "source": [
    "# Evaluate data-driven models\n",
    "\n",
    "First, we compare the XGBoost models with EA-LSTM models on different amounts of training data. There are nine different setups, resulting from the combinations of the following dimensions:\n",
    "\n",
    "1. Number of training years: 3, 6, or 9\n",
    "2. Number of basins: 13, 26, 53, 265, or 531\n",
    "\n",
    "For each of the 3*5 settings, we trained 8 models (using different random initializations). We combined these 8 models to an ensemble (by averaging the k=8 model simulations), which is what we evaluate here.\n",
    "\n",
    "To account for differences in the basins, we evaluate the performance on 13, 26, 53 and 265 basins on five different random basin subsets."
   ]
  },
  {
   "cell_type": "code",
   "execution_count": 4,
   "metadata": {
    "scrolled": false
   },
   "outputs": [
    {
     "name": "stderr",
     "output_type": "stream",
     "text": [
      "  0%|          | 0/8 [00:00<?, ?it/s]"
     ]
    },
    {
     "name": "stdout",
     "output_type": "stream",
     "text": [
      "Calculating metric: NSE\n",
      "Model: xgboost, Training years: 3, number of basins: 13\n"
     ]
    },
    {
     "name": "stderr",
     "output_type": "stream",
     "text": [
      "100%|██████████| 8/8 [00:00<00:00, 60.55it/s]\n",
      "100%|██████████| 8/8 [00:00<00:00, 65.91it/s]\n",
      "100%|██████████| 8/8 [00:00<00:00, 65.29it/s]\n",
      "100%|██████████| 8/8 [00:00<00:00, 64.76it/s]\n",
      "100%|██████████| 8/8 [00:00<00:00, 64.02it/s]\n",
      "  0%|          | 0/8 [00:00<?, ?it/s]"
     ]
    },
    {
     "name": "stdout",
     "output_type": "stream",
     "text": [
      "Model: xgboost, Training years: 3, number of basins: 26\n"
     ]
    },
    {
     "name": "stderr",
     "output_type": "stream",
     "text": [
      "100%|██████████| 8/8 [00:00<00:00, 33.37it/s]\n",
      "100%|██████████| 8/8 [00:00<00:00, 33.69it/s]\n",
      "100%|██████████| 8/8 [00:00<00:00, 33.79it/s]\n",
      "100%|██████████| 8/8 [00:00<00:00, 33.74it/s]\n",
      "100%|██████████| 8/8 [00:00<00:00, 34.11it/s]\n",
      "  0%|          | 0/8 [00:00<?, ?it/s]"
     ]
    },
    {
     "name": "stdout",
     "output_type": "stream",
     "text": [
      "Model: xgboost, Training years: 3, number of basins: 53\n"
     ]
    },
    {
     "name": "stderr",
     "output_type": "stream",
     "text": [
      "100%|██████████| 8/8 [00:00<00:00, 12.75it/s]\n",
      "100%|██████████| 8/8 [00:00<00:00, 16.43it/s]\n",
      "100%|██████████| 8/8 [00:00<00:00, 16.33it/s]\n",
      "100%|██████████| 8/8 [00:00<00:00, 16.28it/s]\n",
      "100%|██████████| 8/8 [00:00<00:00, 14.42it/s]\n",
      "  0%|          | 0/8 [00:00<?, ?it/s]"
     ]
    },
    {
     "name": "stdout",
     "output_type": "stream",
     "text": [
      "Model: xgboost, Training years: 3, number of basins: 265\n"
     ]
    },
    {
     "name": "stderr",
     "output_type": "stream",
     "text": [
      "100%|██████████| 8/8 [00:02<00:00,  3.14it/s]\n",
      "100%|██████████| 8/8 [00:02<00:00,  3.02it/s]\n",
      "100%|██████████| 8/8 [00:02<00:00,  3.16it/s]\n",
      "100%|██████████| 8/8 [00:02<00:00,  2.97it/s]\n",
      "100%|██████████| 8/8 [00:02<00:00,  3.14it/s]\n",
      "  0%|          | 0/8 [00:00<?, ?it/s]"
     ]
    },
    {
     "name": "stdout",
     "output_type": "stream",
     "text": [
      "Model: xgboost, Training years: 3, number of basins: 531\n"
     ]
    },
    {
     "name": "stderr",
     "output_type": "stream",
     "text": [
      "100%|██████████| 8/8 [00:05<00:00,  1.56it/s]\n",
      "  0%|          | 0/8 [00:00<?, ?it/s]"
     ]
    },
    {
     "name": "stdout",
     "output_type": "stream",
     "text": [
      "Model: xgboost, Training years: 6, number of basins: 13\n"
     ]
    },
    {
     "name": "stderr",
     "output_type": "stream",
     "text": [
      "100%|██████████| 8/8 [00:00<00:00, 65.72it/s]\n",
      "100%|██████████| 8/8 [00:00<00:00, 65.06it/s]\n",
      "100%|██████████| 8/8 [00:00<00:00, 65.66it/s]\n",
      "100%|██████████| 8/8 [00:00<00:00, 66.01it/s]\n",
      "100%|██████████| 8/8 [00:00<00:00, 64.81it/s]\n",
      "  0%|          | 0/8 [00:00<?, ?it/s]"
     ]
    },
    {
     "name": "stdout",
     "output_type": "stream",
     "text": [
      "Model: xgboost, Training years: 6, number of basins: 26\n"
     ]
    },
    {
     "name": "stderr",
     "output_type": "stream",
     "text": [
      "100%|██████████| 8/8 [00:00<00:00, 33.87it/s]\n",
      "100%|██████████| 8/8 [00:00<00:00, 33.96it/s]\n",
      "100%|██████████| 8/8 [00:00<00:00, 33.94it/s]\n",
      "100%|██████████| 8/8 [00:00<00:00, 33.92it/s]\n",
      "100%|██████████| 8/8 [00:00<00:00, 33.63it/s]\n",
      "  0%|          | 0/8 [00:00<?, ?it/s]"
     ]
    },
    {
     "name": "stdout",
     "output_type": "stream",
     "text": [
      "Model: xgboost, Training years: 6, number of basins: 53\n"
     ]
    },
    {
     "name": "stderr",
     "output_type": "stream",
     "text": [
      "100%|██████████| 8/8 [00:00<00:00, 16.25it/s]\n",
      "100%|██████████| 8/8 [00:00<00:00, 16.35it/s]\n",
      "100%|██████████| 8/8 [00:00<00:00, 16.42it/s]\n",
      "100%|██████████| 8/8 [00:00<00:00, 16.33it/s]\n",
      "100%|██████████| 8/8 [00:00<00:00, 14.80it/s]\n",
      "  0%|          | 0/8 [00:00<?, ?it/s]"
     ]
    },
    {
     "name": "stdout",
     "output_type": "stream",
     "text": [
      "Model: xgboost, Training years: 6, number of basins: 265\n"
     ]
    },
    {
     "name": "stderr",
     "output_type": "stream",
     "text": [
      "100%|██████████| 8/8 [00:02<00:00,  3.09it/s]\n",
      "100%|██████████| 8/8 [00:02<00:00,  3.18it/s]\n",
      "100%|██████████| 8/8 [00:02<00:00,  3.16it/s]\n",
      "100%|██████████| 8/8 [00:02<00:00,  3.20it/s]\n",
      "100%|██████████| 8/8 [00:02<00:00,  3.17it/s]\n",
      "  0%|          | 0/8 [00:00<?, ?it/s]"
     ]
    },
    {
     "name": "stdout",
     "output_type": "stream",
     "text": [
      "Model: xgboost, Training years: 6, number of basins: 531\n"
     ]
    },
    {
     "name": "stderr",
     "output_type": "stream",
     "text": [
      "100%|██████████| 8/8 [00:05<00:00,  1.56it/s]\n",
      "  0%|          | 0/8 [00:00<?, ?it/s]"
     ]
    },
    {
     "name": "stdout",
     "output_type": "stream",
     "text": [
      "Model: xgboost, Training years: 9, number of basins: 13\n"
     ]
    },
    {
     "name": "stderr",
     "output_type": "stream",
     "text": [
      "100%|██████████| 8/8 [00:00<00:00, 65.03it/s]\n",
      "100%|██████████| 8/8 [00:00<00:00, 64.73it/s]\n",
      "100%|██████████| 8/8 [00:00<00:00, 63.92it/s]\n",
      "100%|██████████| 8/8 [00:00<00:00, 62.70it/s]\n",
      "100%|██████████| 8/8 [00:00<00:00, 51.36it/s]\n",
      "  0%|          | 0/8 [00:00<?, ?it/s]"
     ]
    },
    {
     "name": "stdout",
     "output_type": "stream",
     "text": [
      "Model: xgboost, Training years: 9, number of basins: 26\n"
     ]
    },
    {
     "name": "stderr",
     "output_type": "stream",
     "text": [
      "100%|██████████| 8/8 [00:00<00:00, 30.23it/s]\n",
      "100%|██████████| 8/8 [00:00<00:00, 31.39it/s]\n",
      "100%|██████████| 8/8 [00:00<00:00, 31.34it/s]\n",
      "100%|██████████| 8/8 [00:00<00:00, 33.60it/s]\n",
      "100%|██████████| 8/8 [00:00<00:00, 33.37it/s]\n",
      "  0%|          | 0/8 [00:00<?, ?it/s]"
     ]
    },
    {
     "name": "stdout",
     "output_type": "stream",
     "text": [
      "Model: xgboost, Training years: 9, number of basins: 53\n"
     ]
    },
    {
     "name": "stderr",
     "output_type": "stream",
     "text": [
      "100%|██████████| 8/8 [00:00<00:00, 16.20it/s]\n",
      "100%|██████████| 8/8 [00:00<00:00, 15.32it/s]\n",
      "100%|██████████| 8/8 [00:00<00:00, 16.13it/s]\n",
      "100%|██████████| 8/8 [00:00<00:00, 16.36it/s]\n",
      "100%|██████████| 8/8 [00:00<00:00, 16.25it/s]\n",
      "  0%|          | 0/8 [00:00<?, ?it/s]"
     ]
    },
    {
     "name": "stdout",
     "output_type": "stream",
     "text": [
      "Model: xgboost, Training years: 9, number of basins: 265\n"
     ]
    },
    {
     "name": "stderr",
     "output_type": "stream",
     "text": [
      "100%|██████████| 8/8 [00:02<00:00,  2.96it/s]\n",
      "100%|██████████| 8/8 [00:02<00:00,  3.05it/s]\n",
      "100%|██████████| 8/8 [00:02<00:00,  2.90it/s]\n",
      "100%|██████████| 8/8 [00:02<00:00,  3.06it/s]\n",
      "100%|██████████| 8/8 [00:02<00:00,  2.98it/s]\n",
      "  0%|          | 0/8 [00:00<?, ?it/s]"
     ]
    },
    {
     "name": "stdout",
     "output_type": "stream",
     "text": [
      "Model: xgboost, Training years: 9, number of basins: 531\n"
     ]
    },
    {
     "name": "stderr",
     "output_type": "stream",
     "text": [
      "100%|██████████| 8/8 [00:05<00:00,  1.51it/s]\n",
      "  0%|          | 0/8 [00:00<?, ?it/s]"
     ]
    },
    {
     "name": "stdout",
     "output_type": "stream",
     "text": [
      "Model: ealstm, Training years: 3, number of basins: 13\n"
     ]
    },
    {
     "name": "stderr",
     "output_type": "stream",
     "text": [
      "100%|██████████| 8/8 [00:00<00:00, 61.43it/s]\n",
      "100%|██████████| 8/8 [00:00<00:00, 62.04it/s]\n",
      "100%|██████████| 8/8 [00:00<00:00, 63.11it/s]\n",
      "100%|██████████| 8/8 [00:00<00:00, 63.27it/s]\n",
      "100%|██████████| 8/8 [00:00<00:00, 64.08it/s]\n",
      "  0%|          | 0/8 [00:00<?, ?it/s]"
     ]
    },
    {
     "name": "stdout",
     "output_type": "stream",
     "text": [
      "Model: ealstm, Training years: 3, number of basins: 26\n"
     ]
    },
    {
     "name": "stderr",
     "output_type": "stream",
     "text": [
      "100%|██████████| 8/8 [00:00<00:00, 33.85it/s]\n",
      "100%|██████████| 8/8 [00:00<00:00, 33.86it/s]\n",
      "100%|██████████| 8/8 [00:00<00:00, 34.12it/s]\n",
      "100%|██████████| 8/8 [00:00<00:00, 33.89it/s]\n",
      "100%|██████████| 8/8 [00:00<00:00, 34.04it/s]\n",
      "  0%|          | 0/8 [00:00<?, ?it/s]"
     ]
    },
    {
     "name": "stdout",
     "output_type": "stream",
     "text": [
      "Model: ealstm, Training years: 3, number of basins: 53\n"
     ]
    },
    {
     "name": "stderr",
     "output_type": "stream",
     "text": [
      "100%|██████████| 8/8 [00:00<00:00, 16.06it/s]\n",
      "100%|██████████| 8/8 [00:00<00:00, 15.30it/s]\n",
      "100%|██████████| 8/8 [00:00<00:00, 16.22it/s]\n",
      "100%|██████████| 8/8 [00:00<00:00, 16.21it/s]\n",
      "100%|██████████| 8/8 [00:00<00:00, 16.34it/s]\n",
      "  0%|          | 0/8 [00:00<?, ?it/s]"
     ]
    },
    {
     "name": "stdout",
     "output_type": "stream",
     "text": [
      "Model: ealstm, Training years: 3, number of basins: 265\n"
     ]
    },
    {
     "name": "stderr",
     "output_type": "stream",
     "text": [
      "100%|██████████| 8/8 [00:02<00:00,  3.11it/s]\n",
      "100%|██████████| 8/8 [00:02<00:00,  3.16it/s]\n",
      "100%|██████████| 8/8 [00:02<00:00,  3.05it/s]\n",
      "100%|██████████| 8/8 [00:02<00:00,  3.15it/s]\n",
      "100%|██████████| 8/8 [00:02<00:00,  3.10it/s]\n",
      "  0%|          | 0/8 [00:00<?, ?it/s]"
     ]
    },
    {
     "name": "stdout",
     "output_type": "stream",
     "text": [
      "Model: ealstm, Training years: 3, number of basins: 531\n"
     ]
    },
    {
     "name": "stderr",
     "output_type": "stream",
     "text": [
      "100%|██████████| 8/8 [00:05<00:00,  1.55it/s]\n",
      "  0%|          | 0/8 [00:00<?, ?it/s]"
     ]
    },
    {
     "name": "stdout",
     "output_type": "stream",
     "text": [
      "Model: ealstm, Training years: 6, number of basins: 13\n"
     ]
    },
    {
     "name": "stderr",
     "output_type": "stream",
     "text": [
      "100%|██████████| 8/8 [00:00<00:00, 63.40it/s]\n",
      "100%|██████████| 8/8 [00:00<00:00, 64.07it/s]\n",
      "100%|██████████| 8/8 [00:00<00:00, 64.31it/s]\n",
      "100%|██████████| 8/8 [00:00<00:00, 64.94it/s]\n",
      "100%|██████████| 8/8 [00:00<00:00, 63.34it/s]\n",
      "  0%|          | 0/8 [00:00<?, ?it/s]"
     ]
    },
    {
     "name": "stdout",
     "output_type": "stream",
     "text": [
      "Model: ealstm, Training years: 6, number of basins: 26\n"
     ]
    },
    {
     "name": "stderr",
     "output_type": "stream",
     "text": [
      "100%|██████████| 8/8 [00:00<00:00, 26.97it/s]\n",
      "100%|██████████| 8/8 [00:00<00:00, 33.91it/s]\n",
      "100%|██████████| 8/8 [00:00<00:00, 33.65it/s]\n",
      "100%|██████████| 8/8 [00:00<00:00, 34.11it/s]\n",
      "100%|██████████| 8/8 [00:00<00:00, 33.64it/s]\n",
      "  0%|          | 0/8 [00:00<?, ?it/s]"
     ]
    },
    {
     "name": "stdout",
     "output_type": "stream",
     "text": [
      "Model: ealstm, Training years: 6, number of basins: 53\n"
     ]
    },
    {
     "name": "stderr",
     "output_type": "stream",
     "text": [
      "100%|██████████| 8/8 [00:00<00:00, 16.21it/s]\n",
      "100%|██████████| 8/8 [00:00<00:00, 16.26it/s]\n",
      "100%|██████████| 8/8 [00:00<00:00, 15.26it/s]\n",
      "100%|██████████| 8/8 [00:00<00:00, 16.10it/s]\n",
      "100%|██████████| 8/8 [00:00<00:00, 16.28it/s]\n",
      "  0%|          | 0/8 [00:00<?, ?it/s]"
     ]
    },
    {
     "name": "stdout",
     "output_type": "stream",
     "text": [
      "Model: ealstm, Training years: 6, number of basins: 265\n"
     ]
    },
    {
     "name": "stderr",
     "output_type": "stream",
     "text": [
      "100%|██████████| 8/8 [00:02<00:00,  2.97it/s]\n",
      "100%|██████████| 8/8 [00:02<00:00,  3.07it/s]\n",
      "100%|██████████| 8/8 [00:02<00:00,  2.95it/s]\n",
      "100%|██████████| 8/8 [00:02<00:00,  3.05it/s]\n",
      "100%|██████████| 8/8 [00:02<00:00,  2.93it/s]\n",
      "  0%|          | 0/8 [00:00<?, ?it/s]"
     ]
    },
    {
     "name": "stdout",
     "output_type": "stream",
     "text": [
      "Model: ealstm, Training years: 6, number of basins: 531\n"
     ]
    },
    {
     "name": "stderr",
     "output_type": "stream",
     "text": [
      "100%|██████████| 8/8 [00:05<00:00,  1.49it/s]\n",
      "  0%|          | 0/8 [00:00<?, ?it/s]"
     ]
    },
    {
     "name": "stdout",
     "output_type": "stream",
     "text": [
      "Model: ealstm, Training years: 9, number of basins: 13\n"
     ]
    },
    {
     "name": "stderr",
     "output_type": "stream",
     "text": [
      "100%|██████████| 8/8 [00:00<00:00, 60.58it/s]\n",
      "100%|██████████| 8/8 [00:00<00:00, 62.80it/s]\n",
      "100%|██████████| 8/8 [00:00<00:00, 62.84it/s]\n",
      "100%|██████████| 8/8 [00:00<00:00, 63.32it/s]\n",
      "100%|██████████| 8/8 [00:00<00:00, 63.49it/s]\n",
      "  0%|          | 0/8 [00:00<?, ?it/s]"
     ]
    },
    {
     "name": "stdout",
     "output_type": "stream",
     "text": [
      "Model: ealstm, Training years: 9, number of basins: 26\n"
     ]
    },
    {
     "name": "stderr",
     "output_type": "stream",
     "text": [
      "100%|██████████| 8/8 [00:00<00:00, 28.19it/s]\n",
      "100%|██████████| 8/8 [00:00<00:00, 31.34it/s]\n",
      "100%|██████████| 8/8 [00:00<00:00, 31.38it/s]\n",
      "100%|██████████| 8/8 [00:00<00:00, 31.34it/s]\n",
      "100%|██████████| 8/8 [00:00<00:00, 26.32it/s]\n",
      "  0%|          | 0/8 [00:00<?, ?it/s]"
     ]
    },
    {
     "name": "stdout",
     "output_type": "stream",
     "text": [
      "Model: ealstm, Training years: 9, number of basins: 53\n"
     ]
    },
    {
     "name": "stderr",
     "output_type": "stream",
     "text": [
      "100%|██████████| 8/8 [00:00<00:00, 15.87it/s]\n",
      "100%|██████████| 8/8 [00:00<00:00, 14.51it/s]\n",
      "100%|██████████| 8/8 [00:00<00:00, 16.33it/s]\n",
      "100%|██████████| 8/8 [00:00<00:00, 15.84it/s]\n",
      "100%|██████████| 8/8 [00:00<00:00, 15.62it/s]\n",
      "  0%|          | 0/8 [00:00<?, ?it/s]"
     ]
    },
    {
     "name": "stdout",
     "output_type": "stream",
     "text": [
      "Model: ealstm, Training years: 9, number of basins: 265\n"
     ]
    },
    {
     "name": "stderr",
     "output_type": "stream",
     "text": [
      "100%|██████████| 8/8 [00:02<00:00,  2.73it/s]\n",
      "100%|██████████| 8/8 [00:03<00:00,  2.50it/s]\n",
      "100%|██████████| 8/8 [00:02<00:00,  2.68it/s]\n",
      "100%|██████████| 8/8 [00:02<00:00,  2.87it/s]\n",
      "100%|██████████| 8/8 [00:02<00:00,  2.99it/s]\n",
      "  0%|          | 0/8 [00:00<?, ?it/s]"
     ]
    },
    {
     "name": "stdout",
     "output_type": "stream",
     "text": [
      "Model: ealstm, Training years: 9, number of basins: 531\n"
     ]
    },
    {
     "name": "stderr",
     "output_type": "stream",
     "text": [
      "100%|██████████| 8/8 [00:05<00:00,  1.50it/s]\n",
      "  0%|          | 0/8 [00:00<?, ?it/s]"
     ]
    },
    {
     "name": "stdout",
     "output_type": "stream",
     "text": [
      "Calculating metric: alpha_nse\n",
      "Model: xgboost, Training years: 3, number of basins: 13\n"
     ]
    },
    {
     "name": "stderr",
     "output_type": "stream",
     "text": [
      "100%|██████████| 8/8 [00:00<00:00, 59.96it/s]\n",
      "100%|██████████| 8/8 [00:00<00:00, 60.15it/s]\n",
      "100%|██████████| 8/8 [00:00<00:00, 60.64it/s]\n",
      "100%|██████████| 8/8 [00:00<00:00, 60.30it/s]\n",
      "100%|██████████| 8/8 [00:00<00:00, 60.53it/s]\n",
      "  0%|          | 0/8 [00:00<?, ?it/s]"
     ]
    },
    {
     "name": "stdout",
     "output_type": "stream",
     "text": [
      "Model: xgboost, Training years: 3, number of basins: 26\n"
     ]
    },
    {
     "name": "stderr",
     "output_type": "stream",
     "text": [
      "100%|██████████| 8/8 [00:00<00:00, 31.18it/s]\n",
      "100%|██████████| 8/8 [00:00<00:00, 30.06it/s]\n",
      "100%|██████████| 8/8 [00:00<00:00, 30.43it/s]\n",
      "100%|██████████| 8/8 [00:00<00:00, 30.23it/s]\n",
      "100%|██████████| 8/8 [00:00<00:00, 30.25it/s]\n",
      "  0%|          | 0/8 [00:00<?, ?it/s]"
     ]
    },
    {
     "name": "stdout",
     "output_type": "stream",
     "text": [
      "Model: xgboost, Training years: 3, number of basins: 53\n"
     ]
    },
    {
     "name": "stderr",
     "output_type": "stream",
     "text": [
      "100%|██████████| 8/8 [00:00<00:00, 15.49it/s]\n",
      "100%|██████████| 8/8 [00:00<00:00, 15.41it/s]\n",
      "100%|██████████| 8/8 [00:00<00:00, 13.96it/s]\n",
      "100%|██████████| 8/8 [00:00<00:00, 14.70it/s]\n",
      "100%|██████████| 8/8 [00:00<00:00, 15.82it/s]\n",
      "  0%|          | 0/8 [00:00<?, ?it/s]"
     ]
    },
    {
     "name": "stdout",
     "output_type": "stream",
     "text": [
      "Model: xgboost, Training years: 3, number of basins: 265\n"
     ]
    },
    {
     "name": "stderr",
     "output_type": "stream",
     "text": [
      "100%|██████████| 8/8 [00:02<00:00,  2.91it/s]\n",
      "100%|██████████| 8/8 [00:02<00:00,  3.01it/s]\n",
      "100%|██████████| 8/8 [00:02<00:00,  3.07it/s]\n",
      "100%|██████████| 8/8 [00:02<00:00,  3.03it/s]\n",
      "100%|██████████| 8/8 [00:02<00:00,  3.06it/s]\n",
      "  0%|          | 0/8 [00:00<?, ?it/s]"
     ]
    },
    {
     "name": "stdout",
     "output_type": "stream",
     "text": [
      "Model: xgboost, Training years: 3, number of basins: 531\n"
     ]
    },
    {
     "name": "stderr",
     "output_type": "stream",
     "text": [
      "100%|██████████| 8/8 [00:05<00:00,  1.48it/s]\n",
      "  0%|          | 0/8 [00:00<?, ?it/s]"
     ]
    },
    {
     "name": "stdout",
     "output_type": "stream",
     "text": [
      "Model: xgboost, Training years: 6, number of basins: 13\n"
     ]
    },
    {
     "name": "stderr",
     "output_type": "stream",
     "text": [
      "100%|██████████| 8/8 [00:00<00:00, 63.31it/s]\n",
      "100%|██████████| 8/8 [00:00<00:00, 61.51it/s]\n",
      "100%|██████████| 8/8 [00:00<00:00, 62.52it/s]\n",
      "100%|██████████| 8/8 [00:00<00:00, 61.29it/s]\n",
      "100%|██████████| 8/8 [00:00<00:00, 62.87it/s]\n",
      "  0%|          | 0/8 [00:00<?, ?it/s]"
     ]
    },
    {
     "name": "stdout",
     "output_type": "stream",
     "text": [
      "Model: xgboost, Training years: 6, number of basins: 26\n"
     ]
    },
    {
     "name": "stderr",
     "output_type": "stream",
     "text": [
      "100%|██████████| 8/8 [00:00<00:00, 31.92it/s]\n",
      "100%|██████████| 8/8 [00:00<00:00, 31.70it/s]\n",
      "100%|██████████| 8/8 [00:00<00:00, 31.91it/s]\n",
      "100%|██████████| 8/8 [00:00<00:00, 32.67it/s]\n",
      "100%|██████████| 8/8 [00:00<00:00, 31.94it/s]\n",
      "  0%|          | 0/8 [00:00<?, ?it/s]"
     ]
    },
    {
     "name": "stdout",
     "output_type": "stream",
     "text": [
      "Model: xgboost, Training years: 6, number of basins: 53\n"
     ]
    },
    {
     "name": "stderr",
     "output_type": "stream",
     "text": [
      "100%|██████████| 8/8 [00:00<00:00, 13.84it/s]\n",
      "100%|██████████| 8/8 [00:00<00:00, 16.16it/s]\n",
      "100%|██████████| 8/8 [00:00<00:00, 16.14it/s]\n",
      "100%|██████████| 8/8 [00:00<00:00, 16.02it/s]\n",
      "100%|██████████| 8/8 [00:00<00:00, 14.71it/s]\n",
      "  0%|          | 0/8 [00:00<?, ?it/s]"
     ]
    },
    {
     "name": "stdout",
     "output_type": "stream",
     "text": [
      "Model: xgboost, Training years: 6, number of basins: 265\n"
     ]
    },
    {
     "name": "stderr",
     "output_type": "stream",
     "text": [
      "100%|██████████| 8/8 [00:02<00:00,  3.01it/s]\n",
      "100%|██████████| 8/8 [00:02<00:00,  3.05it/s]\n",
      "100%|██████████| 8/8 [00:02<00:00,  3.03it/s]\n",
      "100%|██████████| 8/8 [00:02<00:00,  3.06it/s]\n",
      "100%|██████████| 8/8 [00:02<00:00,  3.03it/s]\n",
      "  0%|          | 0/8 [00:00<?, ?it/s]"
     ]
    },
    {
     "name": "stdout",
     "output_type": "stream",
     "text": [
      "Model: xgboost, Training years: 6, number of basins: 531\n"
     ]
    },
    {
     "name": "stderr",
     "output_type": "stream",
     "text": [
      "100%|██████████| 8/8 [00:05<00:00,  1.47it/s]\n",
      "  0%|          | 0/8 [00:00<?, ?it/s]"
     ]
    },
    {
     "name": "stdout",
     "output_type": "stream",
     "text": [
      "Model: xgboost, Training years: 9, number of basins: 13\n"
     ]
    },
    {
     "name": "stderr",
     "output_type": "stream",
     "text": [
      "100%|██████████| 8/8 [00:00<00:00, 60.44it/s]\n",
      "100%|██████████| 8/8 [00:00<00:00, 45.99it/s]\n",
      "100%|██████████| 8/8 [00:00<00:00, 61.93it/s]\n",
      "100%|██████████| 8/8 [00:00<00:00, 60.80it/s]\n",
      "100%|██████████| 8/8 [00:00<00:00, 60.81it/s]\n",
      "  0%|          | 0/8 [00:00<?, ?it/s]"
     ]
    },
    {
     "name": "stdout",
     "output_type": "stream",
     "text": [
      "Model: xgboost, Training years: 9, number of basins: 26\n"
     ]
    },
    {
     "name": "stderr",
     "output_type": "stream",
     "text": [
      "100%|██████████| 8/8 [00:00<00:00, 30.85it/s]\n",
      "100%|██████████| 8/8 [00:00<00:00, 31.09it/s]\n",
      "100%|██████████| 8/8 [00:00<00:00, 30.62it/s]\n",
      "100%|██████████| 8/8 [00:00<00:00, 29.24it/s]\n",
      "100%|██████████| 8/8 [00:00<00:00, 30.97it/s]\n",
      "  0%|          | 0/8 [00:00<?, ?it/s]"
     ]
    },
    {
     "name": "stdout",
     "output_type": "stream",
     "text": [
      "Model: xgboost, Training years: 9, number of basins: 53\n"
     ]
    },
    {
     "name": "stderr",
     "output_type": "stream",
     "text": [
      "100%|██████████| 8/8 [00:00<00:00, 15.61it/s]\n",
      "100%|██████████| 8/8 [00:00<00:00, 15.72it/s]\n",
      "100%|██████████| 8/8 [00:00<00:00, 15.69it/s]\n",
      "100%|██████████| 8/8 [00:00<00:00, 15.75it/s]\n",
      "100%|██████████| 8/8 [00:00<00:00, 14.73it/s]\n",
      "  0%|          | 0/8 [00:00<?, ?it/s]"
     ]
    },
    {
     "name": "stdout",
     "output_type": "stream",
     "text": [
      "Model: xgboost, Training years: 9, number of basins: 265\n"
     ]
    },
    {
     "name": "stderr",
     "output_type": "stream",
     "text": [
      "100%|██████████| 8/8 [00:02<00:00,  2.98it/s]\n",
      "100%|██████████| 8/8 [00:02<00:00,  3.01it/s]\n",
      "100%|██████████| 8/8 [00:02<00:00,  2.97it/s]\n",
      "100%|██████████| 8/8 [00:02<00:00,  3.00it/s]\n",
      "100%|██████████| 8/8 [00:02<00:00,  2.98it/s]\n",
      "  0%|          | 0/8 [00:00<?, ?it/s]"
     ]
    },
    {
     "name": "stdout",
     "output_type": "stream",
     "text": [
      "Model: xgboost, Training years: 9, number of basins: 531\n"
     ]
    },
    {
     "name": "stderr",
     "output_type": "stream",
     "text": [
      "100%|██████████| 8/8 [00:05<00:00,  1.47it/s]\n",
      "  0%|          | 0/8 [00:00<?, ?it/s]"
     ]
    },
    {
     "name": "stdout",
     "output_type": "stream",
     "text": [
      "Model: ealstm, Training years: 3, number of basins: 13\n"
     ]
    },
    {
     "name": "stderr",
     "output_type": "stream",
     "text": [
      "100%|██████████| 8/8 [00:00<00:00, 60.37it/s]\n",
      "100%|██████████| 8/8 [00:00<00:00, 60.66it/s]\n",
      "100%|██████████| 8/8 [00:00<00:00, 60.01it/s]\n",
      "100%|██████████| 8/8 [00:00<00:00, 62.42it/s]\n",
      "100%|██████████| 8/8 [00:00<00:00, 62.67it/s]\n",
      "  0%|          | 0/8 [00:00<?, ?it/s]"
     ]
    },
    {
     "name": "stdout",
     "output_type": "stream",
     "text": [
      "Model: ealstm, Training years: 3, number of basins: 26\n"
     ]
    },
    {
     "name": "stderr",
     "output_type": "stream",
     "text": [
      "100%|██████████| 8/8 [00:00<00:00, 31.53it/s]\n",
      "100%|██████████| 8/8 [00:00<00:00, 31.12it/s]\n",
      "100%|██████████| 8/8 [00:00<00:00, 30.99it/s]\n",
      "100%|██████████| 8/8 [00:00<00:00, 31.22it/s]\n",
      "100%|██████████| 8/8 [00:00<00:00, 31.09it/s]\n",
      "  0%|          | 0/8 [00:00<?, ?it/s]"
     ]
    },
    {
     "name": "stdout",
     "output_type": "stream",
     "text": [
      "Model: ealstm, Training years: 3, number of basins: 53\n"
     ]
    },
    {
     "name": "stderr",
     "output_type": "stream",
     "text": [
      "100%|██████████| 8/8 [00:00<00:00, 15.87it/s]\n",
      "100%|██████████| 8/8 [00:00<00:00, 15.09it/s]\n",
      "100%|██████████| 8/8 [00:00<00:00, 15.97it/s]\n",
      "100%|██████████| 8/8 [00:00<00:00, 15.57it/s]\n",
      "100%|██████████| 8/8 [00:00<00:00, 15.41it/s]\n",
      "  0%|          | 0/8 [00:00<?, ?it/s]"
     ]
    },
    {
     "name": "stdout",
     "output_type": "stream",
     "text": [
      "Model: ealstm, Training years: 3, number of basins: 265\n"
     ]
    },
    {
     "name": "stderr",
     "output_type": "stream",
     "text": [
      "100%|██████████| 8/8 [00:02<00:00,  2.89it/s]\n",
      "100%|██████████| 8/8 [00:02<00:00,  3.01it/s]\n",
      "100%|██████████| 8/8 [00:02<00:00,  2.90it/s]\n",
      "100%|██████████| 8/8 [00:02<00:00,  3.02it/s]\n",
      "100%|██████████| 8/8 [00:02<00:00,  2.94it/s]\n",
      "  0%|          | 0/8 [00:00<?, ?it/s]"
     ]
    },
    {
     "name": "stdout",
     "output_type": "stream",
     "text": [
      "Model: ealstm, Training years: 3, number of basins: 531\n"
     ]
    },
    {
     "name": "stderr",
     "output_type": "stream",
     "text": [
      "100%|██████████| 8/8 [00:05<00:00,  1.49it/s]\n",
      "  0%|          | 0/8 [00:00<?, ?it/s]"
     ]
    },
    {
     "name": "stdout",
     "output_type": "stream",
     "text": [
      "Model: ealstm, Training years: 6, number of basins: 13\n"
     ]
    },
    {
     "name": "stderr",
     "output_type": "stream",
     "text": [
      "100%|██████████| 8/8 [00:00<00:00, 62.36it/s]\n",
      "100%|██████████| 8/8 [00:00<00:00, 62.59it/s]\n",
      "100%|██████████| 8/8 [00:00<00:00, 62.65it/s]\n",
      "100%|██████████| 8/8 [00:00<00:00, 61.65it/s]\n",
      "100%|██████████| 8/8 [00:00<00:00, 61.57it/s]\n",
      "  0%|          | 0/8 [00:00<?, ?it/s]"
     ]
    },
    {
     "name": "stdout",
     "output_type": "stream",
     "text": [
      "Model: ealstm, Training years: 6, number of basins: 26\n"
     ]
    },
    {
     "name": "stderr",
     "output_type": "stream",
     "text": [
      "100%|██████████| 8/8 [00:00<00:00, 31.19it/s]\n",
      "100%|██████████| 8/8 [00:00<00:00, 31.29it/s]\n",
      "100%|██████████| 8/8 [00:00<00:00, 31.52it/s]\n",
      "100%|██████████| 8/8 [00:00<00:00, 32.52it/s]\n",
      "100%|██████████| 8/8 [00:00<00:00, 31.47it/s]\n",
      "  0%|          | 0/8 [00:00<?, ?it/s]"
     ]
    },
    {
     "name": "stdout",
     "output_type": "stream",
     "text": [
      "Model: ealstm, Training years: 6, number of basins: 53\n"
     ]
    },
    {
     "name": "stderr",
     "output_type": "stream",
     "text": [
      "100%|██████████| 8/8 [00:00<00:00, 15.86it/s]\n",
      "100%|██████████| 8/8 [00:00<00:00, 15.89it/s]\n",
      "100%|██████████| 8/8 [00:00<00:00, 15.89it/s]\n",
      "100%|██████████| 8/8 [00:00<00:00, 15.82it/s]\n",
      "100%|██████████| 8/8 [00:00<00:00, 15.90it/s]\n",
      "  0%|          | 0/8 [00:00<?, ?it/s]"
     ]
    },
    {
     "name": "stdout",
     "output_type": "stream",
     "text": [
      "Model: ealstm, Training years: 6, number of basins: 265\n"
     ]
    },
    {
     "name": "stderr",
     "output_type": "stream",
     "text": [
      "100%|██████████| 8/8 [00:02<00:00,  2.93it/s]\n",
      "100%|██████████| 8/8 [00:02<00:00,  3.03it/s]\n",
      "100%|██████████| 8/8 [00:02<00:00,  2.91it/s]\n",
      "100%|██████████| 8/8 [00:02<00:00,  3.01it/s]\n",
      "100%|██████████| 8/8 [00:02<00:00,  2.95it/s]\n",
      "  0%|          | 0/8 [00:00<?, ?it/s]"
     ]
    },
    {
     "name": "stdout",
     "output_type": "stream",
     "text": [
      "Model: ealstm, Training years: 6, number of basins: 531\n"
     ]
    },
    {
     "name": "stderr",
     "output_type": "stream",
     "text": [
      "100%|██████████| 8/8 [00:05<00:00,  1.49it/s]\n",
      "  0%|          | 0/8 [00:00<?, ?it/s]"
     ]
    },
    {
     "name": "stdout",
     "output_type": "stream",
     "text": [
      "Model: ealstm, Training years: 9, number of basins: 13\n"
     ]
    },
    {
     "name": "stderr",
     "output_type": "stream",
     "text": [
      "100%|██████████| 8/8 [00:00<00:00, 63.03it/s]\n",
      "100%|██████████| 8/8 [00:00<00:00, 61.27it/s]\n",
      "100%|██████████| 8/8 [00:00<00:00, 60.44it/s]\n",
      "100%|██████████| 8/8 [00:00<00:00, 60.99it/s]\n",
      "100%|██████████| 8/8 [00:00<00:00, 62.16it/s]\n",
      "  0%|          | 0/8 [00:00<?, ?it/s]"
     ]
    },
    {
     "name": "stdout",
     "output_type": "stream",
     "text": [
      "Model: ealstm, Training years: 9, number of basins: 26\n"
     ]
    },
    {
     "name": "stderr",
     "output_type": "stream",
     "text": [
      "100%|██████████| 8/8 [00:00<00:00, 31.23it/s]\n",
      "100%|██████████| 8/8 [00:00<00:00, 31.36it/s]\n",
      "100%|██████████| 8/8 [00:00<00:00, 31.00it/s]\n",
      "100%|██████████| 8/8 [00:00<00:00, 31.50it/s]\n",
      "100%|██████████| 8/8 [00:00<00:00, 31.05it/s]\n",
      "  0%|          | 0/8 [00:00<?, ?it/s]"
     ]
    },
    {
     "name": "stdout",
     "output_type": "stream",
     "text": [
      "Model: ealstm, Training years: 9, number of basins: 53\n"
     ]
    },
    {
     "name": "stderr",
     "output_type": "stream",
     "text": [
      "100%|██████████| 8/8 [00:00<00:00, 15.94it/s]\n",
      "100%|██████████| 8/8 [00:00<00:00, 16.10it/s]\n",
      "100%|██████████| 8/8 [00:00<00:00, 14.27it/s]\n",
      "100%|██████████| 8/8 [00:00<00:00, 15.97it/s]\n",
      "100%|██████████| 8/8 [00:00<00:00, 16.05it/s]\n",
      "  0%|          | 0/8 [00:00<?, ?it/s]"
     ]
    },
    {
     "name": "stdout",
     "output_type": "stream",
     "text": [
      "Model: ealstm, Training years: 9, number of basins: 265\n"
     ]
    },
    {
     "name": "stderr",
     "output_type": "stream",
     "text": [
      "100%|██████████| 8/8 [00:02<00:00,  2.95it/s]\n",
      "100%|██████████| 8/8 [00:02<00:00,  3.02it/s]\n",
      "100%|██████████| 8/8 [00:02<00:00,  2.85it/s]\n",
      "100%|██████████| 8/8 [00:02<00:00,  3.04it/s]\n",
      "100%|██████████| 8/8 [00:02<00:00,  2.91it/s]\n",
      "  0%|          | 0/8 [00:00<?, ?it/s]"
     ]
    },
    {
     "name": "stdout",
     "output_type": "stream",
     "text": [
      "Model: ealstm, Training years: 9, number of basins: 531\n"
     ]
    },
    {
     "name": "stderr",
     "output_type": "stream",
     "text": [
      "100%|██████████| 8/8 [00:05<00:00,  1.51it/s]\n",
      "  0%|          | 0/8 [00:00<?, ?it/s]"
     ]
    },
    {
     "name": "stdout",
     "output_type": "stream",
     "text": [
      "Calculating metric: beta_nse\n",
      "Model: xgboost, Training years: 3, number of basins: 13\n"
     ]
    },
    {
     "name": "stderr",
     "output_type": "stream",
     "text": [
      "100%|██████████| 8/8 [00:00<00:00, 62.36it/s]\n",
      "100%|██████████| 8/8 [00:00<00:00, 62.22it/s]\n",
      "100%|██████████| 8/8 [00:00<00:00, 64.05it/s]\n",
      "100%|██████████| 8/8 [00:00<00:00, 63.18it/s]\n",
      "100%|██████████| 8/8 [00:00<00:00, 63.08it/s]\n",
      "  0%|          | 0/8 [00:00<?, ?it/s]"
     ]
    },
    {
     "name": "stdout",
     "output_type": "stream",
     "text": [
      "Model: xgboost, Training years: 3, number of basins: 26\n"
     ]
    },
    {
     "name": "stderr",
     "output_type": "stream",
     "text": [
      "100%|██████████| 8/8 [00:00<00:00, 26.75it/s]\n",
      "100%|██████████| 8/8 [00:00<00:00, 31.98it/s]\n",
      "100%|██████████| 8/8 [00:00<00:00, 33.20it/s]\n",
      "100%|██████████| 8/8 [00:00<00:00, 33.28it/s]\n",
      "100%|██████████| 8/8 [00:00<00:00, 33.16it/s]\n",
      "  0%|          | 0/8 [00:00<?, ?it/s]"
     ]
    },
    {
     "name": "stdout",
     "output_type": "stream",
     "text": [
      "Model: xgboost, Training years: 3, number of basins: 53\n"
     ]
    },
    {
     "name": "stderr",
     "output_type": "stream",
     "text": [
      "100%|██████████| 8/8 [00:00<00:00, 15.76it/s]\n",
      "100%|██████████| 8/8 [00:00<00:00, 14.51it/s]\n",
      "100%|██████████| 8/8 [00:00<00:00, 16.31it/s]\n",
      "100%|██████████| 8/8 [00:00<00:00, 15.84it/s]\n",
      "100%|██████████| 8/8 [00:00<00:00, 15.94it/s]\n",
      "  0%|          | 0/8 [00:00<?, ?it/s]"
     ]
    },
    {
     "name": "stdout",
     "output_type": "stream",
     "text": [
      "Model: xgboost, Training years: 3, number of basins: 265\n"
     ]
    },
    {
     "name": "stderr",
     "output_type": "stream",
     "text": [
      "100%|██████████| 8/8 [00:02<00:00,  3.00it/s]\n",
      "100%|██████████| 8/8 [00:02<00:00,  3.09it/s]\n",
      "100%|██████████| 8/8 [00:02<00:00,  3.03it/s]\n",
      "100%|██████████| 8/8 [00:02<00:00,  3.08it/s]\n",
      "100%|██████████| 8/8 [00:02<00:00,  2.98it/s]\n",
      "  0%|          | 0/8 [00:00<?, ?it/s]"
     ]
    },
    {
     "name": "stdout",
     "output_type": "stream",
     "text": [
      "Model: xgboost, Training years: 3, number of basins: 531\n"
     ]
    },
    {
     "name": "stderr",
     "output_type": "stream",
     "text": [
      "100%|██████████| 8/8 [00:05<00:00,  1.51it/s]\n",
      "  0%|          | 0/8 [00:00<?, ?it/s]"
     ]
    },
    {
     "name": "stdout",
     "output_type": "stream",
     "text": [
      "Model: xgboost, Training years: 6, number of basins: 13\n"
     ]
    },
    {
     "name": "stderr",
     "output_type": "stream",
     "text": [
      "100%|██████████| 8/8 [00:00<00:00, 61.30it/s]\n",
      "100%|██████████| 8/8 [00:00<00:00, 63.47it/s]\n",
      "100%|██████████| 8/8 [00:00<00:00, 64.27it/s]\n",
      "100%|██████████| 8/8 [00:00<00:00, 62.86it/s]\n",
      "100%|██████████| 8/8 [00:00<00:00, 63.93it/s]\n",
      "  0%|          | 0/8 [00:00<?, ?it/s]"
     ]
    },
    {
     "name": "stdout",
     "output_type": "stream",
     "text": [
      "Model: xgboost, Training years: 6, number of basins: 26\n"
     ]
    },
    {
     "name": "stderr",
     "output_type": "stream",
     "text": [
      "100%|██████████| 8/8 [00:00<00:00, 27.13it/s]\n",
      "100%|██████████| 8/8 [00:00<00:00, 33.02it/s]\n",
      "100%|██████████| 8/8 [00:00<00:00, 30.88it/s]\n",
      "100%|██████████| 8/8 [00:00<00:00, 30.59it/s]\n",
      "100%|██████████| 8/8 [00:00<00:00, 31.01it/s]\n",
      "  0%|          | 0/8 [00:00<?, ?it/s]"
     ]
    },
    {
     "name": "stdout",
     "output_type": "stream",
     "text": [
      "Model: xgboost, Training years: 6, number of basins: 53\n"
     ]
    },
    {
     "name": "stderr",
     "output_type": "stream",
     "text": [
      "100%|██████████| 8/8 [00:00<00:00, 15.80it/s]\n",
      "100%|██████████| 8/8 [00:00<00:00, 16.01it/s]\n",
      "100%|██████████| 8/8 [00:00<00:00, 15.00it/s]\n",
      "100%|██████████| 8/8 [00:00<00:00, 15.61it/s]\n",
      "100%|██████████| 8/8 [00:00<00:00, 15.71it/s]\n",
      "  0%|          | 0/8 [00:00<?, ?it/s]"
     ]
    },
    {
     "name": "stdout",
     "output_type": "stream",
     "text": [
      "Model: xgboost, Training years: 6, number of basins: 265\n"
     ]
    },
    {
     "name": "stderr",
     "output_type": "stream",
     "text": [
      "100%|██████████| 8/8 [00:02<00:00,  2.90it/s]\n",
      "100%|██████████| 8/8 [00:02<00:00,  3.01it/s]\n",
      "100%|██████████| 8/8 [00:02<00:00,  2.98it/s]\n",
      "100%|██████████| 8/8 [00:02<00:00,  2.98it/s]\n",
      "100%|██████████| 8/8 [00:02<00:00,  3.02it/s]\n"
     ]
    },
    {
     "name": "stdout",
     "output_type": "stream",
     "text": [
      "Model: xgboost, Training years: 6, number of basins: 531\n"
     ]
    },
    {
     "name": "stderr",
     "output_type": "stream",
     "text": [
      "100%|██████████| 8/8 [00:05<00:00,  1.47it/s]\n",
      "  0%|          | 0/8 [00:00<?, ?it/s]"
     ]
    },
    {
     "name": "stdout",
     "output_type": "stream",
     "text": [
      "Model: xgboost, Training years: 9, number of basins: 13\n"
     ]
    },
    {
     "name": "stderr",
     "output_type": "stream",
     "text": [
      "100%|██████████| 8/8 [00:00<00:00, 61.62it/s]\n",
      "100%|██████████| 8/8 [00:00<00:00, 61.24it/s]\n",
      "100%|██████████| 8/8 [00:00<00:00, 62.17it/s]\n",
      "100%|██████████| 8/8 [00:00<00:00, 62.53it/s]\n",
      "100%|██████████| 8/8 [00:00<00:00, 60.95it/s]\n",
      "  0%|          | 0/8 [00:00<?, ?it/s]"
     ]
    },
    {
     "name": "stdout",
     "output_type": "stream",
     "text": [
      "Model: xgboost, Training years: 9, number of basins: 26\n"
     ]
    },
    {
     "name": "stderr",
     "output_type": "stream",
     "text": [
      "100%|██████████| 8/8 [00:00<00:00, 30.70it/s]\n",
      "100%|██████████| 8/8 [00:00<00:00, 30.97it/s]\n",
      "100%|██████████| 8/8 [00:00<00:00, 30.81it/s]\n",
      "100%|██████████| 8/8 [00:00<00:00, 25.70it/s]\n",
      "100%|██████████| 8/8 [00:00<00:00, 31.43it/s]\n",
      "  0%|          | 0/8 [00:00<?, ?it/s]"
     ]
    },
    {
     "name": "stdout",
     "output_type": "stream",
     "text": [
      "Model: xgboost, Training years: 9, number of basins: 53\n"
     ]
    },
    {
     "name": "stderr",
     "output_type": "stream",
     "text": [
      "100%|██████████| 8/8 [00:00<00:00, 15.94it/s]\n",
      "100%|██████████| 8/8 [00:00<00:00, 15.25it/s]\n",
      "100%|██████████| 8/8 [00:00<00:00, 15.20it/s]\n",
      "100%|██████████| 8/8 [00:00<00:00, 14.47it/s]\n",
      "100%|██████████| 8/8 [00:00<00:00, 15.67it/s]\n",
      "  0%|          | 0/8 [00:00<?, ?it/s]"
     ]
    },
    {
     "name": "stdout",
     "output_type": "stream",
     "text": [
      "Model: xgboost, Training years: 9, number of basins: 265\n"
     ]
    },
    {
     "name": "stderr",
     "output_type": "stream",
     "text": [
      "100%|██████████| 8/8 [00:02<00:00,  2.94it/s]\n",
      "100%|██████████| 8/8 [00:02<00:00,  2.85it/s]\n",
      "100%|██████████| 8/8 [00:02<00:00,  3.03it/s]\n",
      "100%|██████████| 8/8 [00:02<00:00,  3.05it/s]\n",
      "100%|██████████| 8/8 [00:02<00:00,  3.05it/s]\n",
      "  0%|          | 0/8 [00:00<?, ?it/s]"
     ]
    },
    {
     "name": "stdout",
     "output_type": "stream",
     "text": [
      "Model: xgboost, Training years: 9, number of basins: 531\n"
     ]
    },
    {
     "name": "stderr",
     "output_type": "stream",
     "text": [
      "100%|██████████| 8/8 [00:05<00:00,  1.47it/s]\n",
      "  0%|          | 0/8 [00:00<?, ?it/s]"
     ]
    },
    {
     "name": "stdout",
     "output_type": "stream",
     "text": [
      "Model: ealstm, Training years: 3, number of basins: 13\n"
     ]
    },
    {
     "name": "stderr",
     "output_type": "stream",
     "text": [
      "100%|██████████| 8/8 [00:00<00:00, 61.15it/s]\n",
      "100%|██████████| 8/8 [00:00<00:00, 61.70it/s]\n",
      "100%|██████████| 8/8 [00:00<00:00, 61.91it/s]\n",
      "100%|██████████| 8/8 [00:00<00:00, 61.40it/s]\n",
      "100%|██████████| 8/8 [00:00<00:00, 62.59it/s]\n",
      "  0%|          | 0/8 [00:00<?, ?it/s]"
     ]
    },
    {
     "name": "stdout",
     "output_type": "stream",
     "text": [
      "Model: ealstm, Training years: 3, number of basins: 26\n"
     ]
    },
    {
     "name": "stderr",
     "output_type": "stream",
     "text": [
      "100%|██████████| 8/8 [00:00<00:00, 31.11it/s]\n",
      "100%|██████████| 8/8 [00:00<00:00, 31.25it/s]\n",
      "100%|██████████| 8/8 [00:00<00:00, 26.63it/s]\n",
      "100%|██████████| 8/8 [00:00<00:00, 31.42it/s]\n",
      "100%|██████████| 8/8 [00:00<00:00, 30.92it/s]\n",
      "  0%|          | 0/8 [00:00<?, ?it/s]"
     ]
    },
    {
     "name": "stdout",
     "output_type": "stream",
     "text": [
      "Model: ealstm, Training years: 3, number of basins: 53\n"
     ]
    },
    {
     "name": "stderr",
     "output_type": "stream",
     "text": [
      "100%|██████████| 8/8 [00:00<00:00, 15.81it/s]\n",
      "100%|██████████| 8/8 [00:00<00:00, 16.02it/s]\n",
      "100%|██████████| 8/8 [00:00<00:00, 15.35it/s]\n",
      "100%|██████████| 8/8 [00:00<00:00, 15.64it/s]\n",
      "100%|██████████| 8/8 [00:00<00:00, 16.09it/s]\n",
      "  0%|          | 0/8 [00:00<?, ?it/s]"
     ]
    },
    {
     "name": "stdout",
     "output_type": "stream",
     "text": [
      "Model: ealstm, Training years: 3, number of basins: 265\n"
     ]
    },
    {
     "name": "stderr",
     "output_type": "stream",
     "text": [
      "100%|██████████| 8/8 [00:02<00:00,  2.93it/s]\n",
      "100%|██████████| 8/8 [00:02<00:00,  3.05it/s]\n",
      "100%|██████████| 8/8 [00:02<00:00,  2.93it/s]\n",
      "100%|██████████| 8/8 [00:02<00:00,  3.01it/s]\n",
      "100%|██████████| 8/8 [00:02<00:00,  3.06it/s]\n",
      "  0%|          | 0/8 [00:00<?, ?it/s]"
     ]
    },
    {
     "name": "stdout",
     "output_type": "stream",
     "text": [
      "Model: ealstm, Training years: 3, number of basins: 531\n"
     ]
    },
    {
     "name": "stderr",
     "output_type": "stream",
     "text": [
      "100%|██████████| 8/8 [00:05<00:00,  1.47it/s]\n",
      "  0%|          | 0/8 [00:00<?, ?it/s]"
     ]
    },
    {
     "name": "stdout",
     "output_type": "stream",
     "text": [
      "Model: ealstm, Training years: 6, number of basins: 13\n"
     ]
    },
    {
     "name": "stderr",
     "output_type": "stream",
     "text": [
      "100%|██████████| 8/8 [00:00<00:00, 59.90it/s]\n",
      "100%|██████████| 8/8 [00:00<00:00, 60.32it/s]\n",
      "100%|██████████| 8/8 [00:00<00:00, 60.55it/s]\n",
      "100%|██████████| 8/8 [00:00<00:00, 60.75it/s]\n",
      "100%|██████████| 8/8 [00:00<00:00, 59.28it/s]\n",
      "  0%|          | 0/8 [00:00<?, ?it/s]"
     ]
    },
    {
     "name": "stdout",
     "output_type": "stream",
     "text": [
      "Model: ealstm, Training years: 6, number of basins: 26\n"
     ]
    },
    {
     "name": "stderr",
     "output_type": "stream",
     "text": [
      "100%|██████████| 8/8 [00:00<00:00, 29.46it/s]\n",
      "100%|██████████| 8/8 [00:00<00:00, 30.72it/s]\n",
      "100%|██████████| 8/8 [00:00<00:00, 25.86it/s]\n",
      "100%|██████████| 8/8 [00:00<00:00, 31.21it/s]\n",
      "100%|██████████| 8/8 [00:00<00:00, 31.31it/s]\n",
      "  0%|          | 0/8 [00:00<?, ?it/s]"
     ]
    },
    {
     "name": "stdout",
     "output_type": "stream",
     "text": [
      "Model: ealstm, Training years: 6, number of basins: 53\n"
     ]
    },
    {
     "name": "stderr",
     "output_type": "stream",
     "text": [
      "100%|██████████| 8/8 [00:00<00:00, 15.85it/s]\n",
      "100%|██████████| 8/8 [00:00<00:00, 15.77it/s]\n",
      "100%|██████████| 8/8 [00:00<00:00, 15.80it/s]\n",
      "100%|██████████| 8/8 [00:00<00:00, 14.05it/s]\n",
      "100%|██████████| 8/8 [00:00<00:00, 15.85it/s]\n",
      "  0%|          | 0/8 [00:00<?, ?it/s]"
     ]
    },
    {
     "name": "stdout",
     "output_type": "stream",
     "text": [
      "Model: ealstm, Training years: 6, number of basins: 265\n"
     ]
    },
    {
     "name": "stderr",
     "output_type": "stream",
     "text": [
      "100%|██████████| 8/8 [00:02<00:00,  3.00it/s]\n",
      "100%|██████████| 8/8 [00:02<00:00,  2.92it/s]\n",
      "100%|██████████| 8/8 [00:02<00:00,  3.02it/s]\n",
      "100%|██████████| 8/8 [00:02<00:00,  2.92it/s]\n",
      "100%|██████████| 8/8 [00:02<00:00,  3.01it/s]\n",
      "  0%|          | 0/8 [00:00<?, ?it/s]"
     ]
    },
    {
     "name": "stdout",
     "output_type": "stream",
     "text": [
      "Model: ealstm, Training years: 6, number of basins: 531\n"
     ]
    },
    {
     "name": "stderr",
     "output_type": "stream",
     "text": [
      "100%|██████████| 8/8 [00:05<00:00,  1.52it/s]\n",
      "  0%|          | 0/8 [00:00<?, ?it/s]"
     ]
    },
    {
     "name": "stdout",
     "output_type": "stream",
     "text": [
      "Model: ealstm, Training years: 9, number of basins: 13\n"
     ]
    },
    {
     "name": "stderr",
     "output_type": "stream",
     "text": [
      "100%|██████████| 8/8 [00:00<00:00, 62.24it/s]\n",
      "100%|██████████| 8/8 [00:00<00:00, 62.71it/s]\n",
      "100%|██████████| 8/8 [00:00<00:00, 62.83it/s]\n",
      "100%|██████████| 8/8 [00:00<00:00, 63.85it/s]\n",
      "100%|██████████| 8/8 [00:00<00:00, 62.93it/s]\n",
      "  0%|          | 0/8 [00:00<?, ?it/s]"
     ]
    },
    {
     "name": "stdout",
     "output_type": "stream",
     "text": [
      "Model: ealstm, Training years: 9, number of basins: 26\n"
     ]
    },
    {
     "name": "stderr",
     "output_type": "stream",
     "text": [
      "100%|██████████| 8/8 [00:00<00:00, 31.77it/s]\n",
      "100%|██████████| 8/8 [00:00<00:00, 32.83it/s]\n",
      "100%|██████████| 8/8 [00:00<00:00, 33.07it/s]\n",
      "100%|██████████| 8/8 [00:00<00:00, 31.82it/s]\n",
      "100%|██████████| 8/8 [00:00<00:00, 31.72it/s]\n",
      "  0%|          | 0/8 [00:00<?, ?it/s]"
     ]
    },
    {
     "name": "stdout",
     "output_type": "stream",
     "text": [
      "Model: ealstm, Training years: 9, number of basins: 53\n"
     ]
    },
    {
     "name": "stderr",
     "output_type": "stream",
     "text": [
      "100%|██████████| 8/8 [00:00<00:00, 16.10it/s]\n",
      "100%|██████████| 8/8 [00:00<00:00, 15.22it/s]\n",
      "100%|██████████| 8/8 [00:00<00:00, 15.96it/s]\n",
      "100%|██████████| 8/8 [00:00<00:00, 16.21it/s]\n",
      "100%|██████████| 8/8 [00:00<00:00, 16.23it/s]\n",
      "  0%|          | 0/8 [00:00<?, ?it/s]"
     ]
    },
    {
     "name": "stdout",
     "output_type": "stream",
     "text": [
      "Model: ealstm, Training years: 9, number of basins: 265\n"
     ]
    },
    {
     "name": "stderr",
     "output_type": "stream",
     "text": [
      "100%|██████████| 8/8 [00:02<00:00,  3.02it/s]\n",
      "100%|██████████| 8/8 [00:02<00:00,  3.07it/s]\n",
      "100%|██████████| 8/8 [00:02<00:00,  2.97it/s]\n",
      "100%|██████████| 8/8 [00:02<00:00,  3.08it/s]\n",
      "100%|██████████| 8/8 [00:02<00:00,  2.99it/s]\n",
      "  0%|          | 0/8 [00:00<?, ?it/s]"
     ]
    },
    {
     "name": "stdout",
     "output_type": "stream",
     "text": [
      "Model: ealstm, Training years: 9, number of basins: 531\n"
     ]
    },
    {
     "name": "stderr",
     "output_type": "stream",
     "text": [
      "100%|██████████| 8/8 [00:05<00:00,  1.52it/s]\n",
      "  0%|          | 0/8 [00:00<?, ?it/s]"
     ]
    },
    {
     "name": "stdout",
     "output_type": "stream",
     "text": [
      "Calculating metric: FHV\n",
      "Model: xgboost, Training years: 3, number of basins: 13\n"
     ]
    },
    {
     "name": "stderr",
     "output_type": "stream",
     "text": [
      "100%|██████████| 8/8 [00:00<00:00, 45.70it/s]\n",
      "100%|██████████| 8/8 [00:00<00:00, 47.31it/s]\n",
      "100%|██████████| 8/8 [00:00<00:00, 45.82it/s]\n",
      "100%|██████████| 8/8 [00:00<00:00, 45.82it/s]\n",
      "100%|██████████| 8/8 [00:00<00:00, 46.26it/s]\n",
      "  0%|          | 0/8 [00:00<?, ?it/s]"
     ]
    },
    {
     "name": "stdout",
     "output_type": "stream",
     "text": [
      "Model: xgboost, Training years: 3, number of basins: 26\n"
     ]
    },
    {
     "name": "stderr",
     "output_type": "stream",
     "text": [
      "100%|██████████| 8/8 [00:00<00:00, 23.62it/s]\n",
      "100%|██████████| 8/8 [00:00<00:00, 23.12it/s]\n",
      "100%|██████████| 8/8 [00:00<00:00, 23.51it/s]\n",
      "100%|██████████| 8/8 [00:00<00:00, 23.18it/s]\n",
      "100%|██████████| 8/8 [00:00<00:00, 23.50it/s]\n",
      "  0%|          | 0/8 [00:00<?, ?it/s]"
     ]
    },
    {
     "name": "stdout",
     "output_type": "stream",
     "text": [
      "Model: xgboost, Training years: 3, number of basins: 53\n"
     ]
    },
    {
     "name": "stderr",
     "output_type": "stream",
     "text": [
      "100%|██████████| 8/8 [00:00<00:00, 11.72it/s]\n",
      "100%|██████████| 8/8 [00:00<00:00, 11.62it/s]\n",
      "100%|██████████| 8/8 [00:00<00:00, 11.68it/s]\n",
      "100%|██████████| 8/8 [00:00<00:00, 11.72it/s]\n",
      "100%|██████████| 8/8 [00:00<00:00, 11.74it/s]\n",
      "  0%|          | 0/8 [00:00<?, ?it/s]"
     ]
    },
    {
     "name": "stdout",
     "output_type": "stream",
     "text": [
      "Model: xgboost, Training years: 3, number of basins: 265\n"
     ]
    },
    {
     "name": "stderr",
     "output_type": "stream",
     "text": [
      "100%|██████████| 8/8 [00:03<00:00,  2.22it/s]\n",
      "100%|██████████| 8/8 [00:03<00:00,  2.30it/s]\n",
      "100%|██████████| 8/8 [00:03<00:00,  2.24it/s]\n",
      "100%|██████████| 8/8 [00:03<00:00,  2.30it/s]\n",
      "100%|██████████| 8/8 [00:03<00:00,  2.18it/s]\n",
      "  0%|          | 0/8 [00:00<?, ?it/s]"
     ]
    },
    {
     "name": "stdout",
     "output_type": "stream",
     "text": [
      "Model: xgboost, Training years: 3, number of basins: 531\n"
     ]
    },
    {
     "name": "stderr",
     "output_type": "stream",
     "text": [
      "100%|██████████| 8/8 [00:07<00:00,  1.09it/s]\n",
      "  0%|          | 0/8 [00:00<?, ?it/s]"
     ]
    },
    {
     "name": "stdout",
     "output_type": "stream",
     "text": [
      "Model: xgboost, Training years: 6, number of basins: 13\n"
     ]
    },
    {
     "name": "stderr",
     "output_type": "stream",
     "text": [
      "100%|██████████| 8/8 [00:00<00:00, 44.95it/s]\n",
      "100%|██████████| 8/8 [00:00<00:00, 46.78it/s]\n",
      "100%|██████████| 8/8 [00:00<00:00, 45.98it/s]\n",
      "100%|██████████| 8/8 [00:00<00:00, 44.93it/s]\n",
      "100%|██████████| 8/8 [00:00<00:00, 45.62it/s]\n"
     ]
    },
    {
     "name": "stdout",
     "output_type": "stream",
     "text": [
      "Model: xgboost, Training years: 6, number of basins: 26\n"
     ]
    },
    {
     "name": "stderr",
     "output_type": "stream",
     "text": [
      "100%|██████████| 8/8 [00:00<00:00, 23.00it/s]\n",
      "100%|██████████| 8/8 [00:00<00:00, 22.77it/s]\n",
      "100%|██████████| 8/8 [00:00<00:00, 23.17it/s]\n",
      "100%|██████████| 8/8 [00:00<00:00, 23.09it/s]\n",
      "100%|██████████| 8/8 [00:00<00:00, 23.33it/s]\n",
      "  0%|          | 0/8 [00:00<?, ?it/s]"
     ]
    },
    {
     "name": "stdout",
     "output_type": "stream",
     "text": [
      "Model: xgboost, Training years: 6, number of basins: 53\n"
     ]
    },
    {
     "name": "stderr",
     "output_type": "stream",
     "text": [
      "100%|██████████| 8/8 [00:00<00:00, 11.75it/s]\n",
      "100%|██████████| 8/8 [00:00<00:00, 11.41it/s]\n",
      "100%|██████████| 8/8 [00:00<00:00, 10.63it/s]\n",
      "100%|██████████| 8/8 [00:00<00:00, 11.64it/s]\n",
      "100%|██████████| 8/8 [00:00<00:00, 11.55it/s]\n",
      "  0%|          | 0/8 [00:00<?, ?it/s]"
     ]
    },
    {
     "name": "stdout",
     "output_type": "stream",
     "text": [
      "Model: xgboost, Training years: 6, number of basins: 265\n"
     ]
    },
    {
     "name": "stderr",
     "output_type": "stream",
     "text": [
      "100%|██████████| 8/8 [00:03<00:00,  2.20it/s]\n",
      "100%|██████████| 8/8 [00:03<00:00,  2.24it/s]\n",
      "100%|██████████| 8/8 [00:03<00:00,  2.21it/s]\n",
      "100%|██████████| 8/8 [00:03<00:00,  2.26it/s]\n",
      "100%|██████████| 8/8 [00:03<00:00,  2.19it/s]\n",
      "  0%|          | 0/8 [00:00<?, ?it/s]"
     ]
    },
    {
     "name": "stdout",
     "output_type": "stream",
     "text": [
      "Model: xgboost, Training years: 6, number of basins: 531\n"
     ]
    },
    {
     "name": "stderr",
     "output_type": "stream",
     "text": [
      "100%|██████████| 8/8 [00:07<00:00,  1.12it/s]\n",
      "  0%|          | 0/8 [00:00<?, ?it/s]"
     ]
    },
    {
     "name": "stdout",
     "output_type": "stream",
     "text": [
      "Model: xgboost, Training years: 9, number of basins: 13\n"
     ]
    },
    {
     "name": "stderr",
     "output_type": "stream",
     "text": [
      "100%|██████████| 8/8 [00:00<00:00, 45.29it/s]\n",
      "100%|██████████| 8/8 [00:00<00:00, 45.72it/s]\n",
      "100%|██████████| 8/8 [00:00<00:00, 46.58it/s]\n",
      "100%|██████████| 8/8 [00:00<00:00, 46.58it/s]\n",
      "100%|██████████| 8/8 [00:00<00:00, 45.71it/s]\n",
      "  0%|          | 0/8 [00:00<?, ?it/s]"
     ]
    },
    {
     "name": "stdout",
     "output_type": "stream",
     "text": [
      "Model: xgboost, Training years: 9, number of basins: 26\n"
     ]
    },
    {
     "name": "stderr",
     "output_type": "stream",
     "text": [
      "100%|██████████| 8/8 [00:00<00:00, 21.21it/s]\n",
      "100%|██████████| 8/8 [00:00<00:00, 23.06it/s]\n",
      "100%|██████████| 8/8 [00:00<00:00, 23.26it/s]\n",
      "100%|██████████| 8/8 [00:00<00:00, 23.03it/s]\n",
      "100%|██████████| 8/8 [00:00<00:00, 23.23it/s]\n",
      "  0%|          | 0/8 [00:00<?, ?it/s]"
     ]
    },
    {
     "name": "stdout",
     "output_type": "stream",
     "text": [
      "Model: xgboost, Training years: 9, number of basins: 53\n"
     ]
    },
    {
     "name": "stderr",
     "output_type": "stream",
     "text": [
      "100%|██████████| 8/8 [00:00<00:00, 11.83it/s]\n",
      "100%|██████████| 8/8 [00:00<00:00, 10.59it/s]\n",
      "100%|██████████| 8/8 [00:00<00:00, 11.62it/s]\n",
      "100%|██████████| 8/8 [00:00<00:00, 11.73it/s]\n",
      "100%|██████████| 8/8 [00:00<00:00, 11.64it/s]\n",
      "  0%|          | 0/8 [00:00<?, ?it/s]"
     ]
    },
    {
     "name": "stdout",
     "output_type": "stream",
     "text": [
      "Model: xgboost, Training years: 9, number of basins: 265\n"
     ]
    },
    {
     "name": "stderr",
     "output_type": "stream",
     "text": [
      "100%|██████████| 8/8 [00:03<00:00,  2.23it/s]\n",
      "100%|██████████| 8/8 [00:03<00:00,  2.30it/s]\n",
      "100%|██████████| 8/8 [00:03<00:00,  2.26it/s]\n",
      "100%|██████████| 8/8 [00:03<00:00,  2.28it/s]\n",
      "100%|██████████| 8/8 [00:03<00:00,  2.23it/s]\n",
      "  0%|          | 0/8 [00:00<?, ?it/s]"
     ]
    },
    {
     "name": "stdout",
     "output_type": "stream",
     "text": [
      "Model: xgboost, Training years: 9, number of basins: 531\n"
     ]
    },
    {
     "name": "stderr",
     "output_type": "stream",
     "text": [
      "100%|██████████| 8/8 [00:07<00:00,  1.12it/s]\n",
      "  0%|          | 0/8 [00:00<?, ?it/s]"
     ]
    },
    {
     "name": "stdout",
     "output_type": "stream",
     "text": [
      "Model: ealstm, Training years: 3, number of basins: 13\n"
     ]
    },
    {
     "name": "stderr",
     "output_type": "stream",
     "text": [
      "100%|██████████| 8/8 [00:00<00:00, 46.47it/s]\n",
      "100%|██████████| 8/8 [00:00<00:00, 47.10it/s]\n",
      "100%|██████████| 8/8 [00:00<00:00, 46.98it/s]\n",
      "100%|██████████| 8/8 [00:00<00:00, 47.05it/s]\n",
      "100%|██████████| 8/8 [00:00<00:00, 46.62it/s]\n",
      "  0%|          | 0/8 [00:00<?, ?it/s]"
     ]
    },
    {
     "name": "stdout",
     "output_type": "stream",
     "text": [
      "Model: ealstm, Training years: 3, number of basins: 26\n"
     ]
    },
    {
     "name": "stderr",
     "output_type": "stream",
     "text": [
      "100%|██████████| 8/8 [00:00<00:00, 19.35it/s]\n",
      "100%|██████████| 8/8 [00:00<00:00, 23.47it/s]\n",
      "100%|██████████| 8/8 [00:00<00:00, 23.47it/s]\n",
      "100%|██████████| 8/8 [00:00<00:00, 23.65it/s]\n",
      "100%|██████████| 8/8 [00:00<00:00, 24.01it/s]\n",
      "  0%|          | 0/8 [00:00<?, ?it/s]"
     ]
    },
    {
     "name": "stdout",
     "output_type": "stream",
     "text": [
      "Model: ealstm, Training years: 3, number of basins: 53\n"
     ]
    },
    {
     "name": "stderr",
     "output_type": "stream",
     "text": [
      "100%|██████████| 8/8 [00:00<00:00, 11.99it/s]\n",
      "100%|██████████| 8/8 [00:00<00:00, 11.95it/s]\n",
      "100%|██████████| 8/8 [00:00<00:00, 11.43it/s]\n",
      "100%|██████████| 8/8 [00:00<00:00, 12.01it/s]\n",
      "100%|██████████| 8/8 [00:00<00:00, 11.97it/s]\n",
      "  0%|          | 0/8 [00:00<?, ?it/s]"
     ]
    },
    {
     "name": "stdout",
     "output_type": "stream",
     "text": [
      "Model: ealstm, Training years: 3, number of basins: 265\n"
     ]
    },
    {
     "name": "stderr",
     "output_type": "stream",
     "text": [
      "100%|██████████| 8/8 [00:03<00:00,  2.23it/s]\n",
      "100%|██████████| 8/8 [00:03<00:00,  2.28it/s]\n",
      "100%|██████████| 8/8 [00:03<00:00,  2.32it/s]\n",
      "100%|██████████| 8/8 [00:03<00:00,  2.05it/s]\n",
      "100%|██████████| 8/8 [00:03<00:00,  2.29it/s]\n"
     ]
    },
    {
     "name": "stdout",
     "output_type": "stream",
     "text": [
      "Model: ealstm, Training years: 3, number of basins: 531\n"
     ]
    },
    {
     "name": "stderr",
     "output_type": "stream",
     "text": [
      "100%|██████████| 8/8 [00:06<00:00,  1.12it/s]\n",
      "  0%|          | 0/8 [00:00<?, ?it/s]"
     ]
    },
    {
     "name": "stdout",
     "output_type": "stream",
     "text": [
      "Model: ealstm, Training years: 6, number of basins: 13\n"
     ]
    },
    {
     "name": "stderr",
     "output_type": "stream",
     "text": [
      "100%|██████████| 8/8 [00:00<00:00, 45.95it/s]\n",
      "100%|██████████| 8/8 [00:00<00:00, 45.86it/s]\n",
      "100%|██████████| 8/8 [00:00<00:00, 46.46it/s]\n",
      "100%|██████████| 8/8 [00:00<00:00, 46.00it/s]\n",
      "100%|██████████| 8/8 [00:00<00:00, 46.12it/s]\n",
      "  0%|          | 0/8 [00:00<?, ?it/s]"
     ]
    },
    {
     "name": "stdout",
     "output_type": "stream",
     "text": [
      "Model: ealstm, Training years: 6, number of basins: 26\n"
     ]
    },
    {
     "name": "stderr",
     "output_type": "stream",
     "text": [
      "100%|██████████| 8/8 [00:00<00:00, 23.47it/s]\n",
      "100%|██████████| 8/8 [00:00<00:00, 23.44it/s]\n",
      "100%|██████████| 8/8 [00:00<00:00, 23.21it/s]\n",
      "100%|██████████| 8/8 [00:00<00:00, 20.29it/s]\n",
      "100%|██████████| 8/8 [00:00<00:00, 23.76it/s]\n",
      "  0%|          | 0/8 [00:00<?, ?it/s]"
     ]
    },
    {
     "name": "stdout",
     "output_type": "stream",
     "text": [
      "Model: ealstm, Training years: 6, number of basins: 53\n"
     ]
    },
    {
     "name": "stderr",
     "output_type": "stream",
     "text": [
      "100%|██████████| 8/8 [00:00<00:00, 12.03it/s]\n",
      "100%|██████████| 8/8 [00:00<00:00, 11.71it/s]\n",
      "100%|██████████| 8/8 [00:00<00:00, 11.72it/s]\n",
      "100%|██████████| 8/8 [00:00<00:00, 10.90it/s]\n",
      "100%|██████████| 8/8 [00:00<00:00, 11.70it/s]\n",
      "  0%|          | 0/8 [00:00<?, ?it/s]"
     ]
    },
    {
     "name": "stdout",
     "output_type": "stream",
     "text": [
      "Model: ealstm, Training years: 6, number of basins: 265\n"
     ]
    },
    {
     "name": "stderr",
     "output_type": "stream",
     "text": [
      "100%|██████████| 8/8 [00:03<00:00,  2.29it/s]\n",
      "100%|██████████| 8/8 [00:03<00:00,  2.26it/s]\n",
      "100%|██████████| 8/8 [00:03<00:00,  2.30it/s]\n",
      "100%|██████████| 8/8 [00:03<00:00,  2.22it/s]\n",
      "100%|██████████| 8/8 [00:03<00:00,  2.27it/s]\n",
      "  0%|          | 0/8 [00:00<?, ?it/s]"
     ]
    },
    {
     "name": "stdout",
     "output_type": "stream",
     "text": [
      "Model: ealstm, Training years: 6, number of basins: 531\n"
     ]
    },
    {
     "name": "stderr",
     "output_type": "stream",
     "text": [
      "100%|██████████| 8/8 [00:07<00:00,  1.11it/s]\n",
      "  0%|          | 0/8 [00:00<?, ?it/s]"
     ]
    },
    {
     "name": "stdout",
     "output_type": "stream",
     "text": [
      "Model: ealstm, Training years: 9, number of basins: 13\n"
     ]
    },
    {
     "name": "stderr",
     "output_type": "stream",
     "text": [
      "100%|██████████| 8/8 [00:00<00:00, 45.32it/s]\n",
      "100%|██████████| 8/8 [00:00<00:00, 46.68it/s]\n",
      "100%|██████████| 8/8 [00:00<00:00, 47.12it/s]\n",
      "100%|██████████| 8/8 [00:00<00:00, 46.23it/s]\n",
      "100%|██████████| 8/8 [00:00<00:00, 45.40it/s]\n",
      "  0%|          | 0/8 [00:00<?, ?it/s]"
     ]
    },
    {
     "name": "stdout",
     "output_type": "stream",
     "text": [
      "Model: ealstm, Training years: 9, number of basins: 26\n"
     ]
    },
    {
     "name": "stderr",
     "output_type": "stream",
     "text": [
      "100%|██████████| 8/8 [00:00<00:00, 23.28it/s]\n",
      "100%|██████████| 8/8 [00:00<00:00, 23.27it/s]\n",
      "100%|██████████| 8/8 [00:00<00:00, 23.52it/s]\n",
      "100%|██████████| 8/8 [00:00<00:00, 23.32it/s]\n",
      "100%|██████████| 8/8 [00:00<00:00, 23.58it/s]\n",
      "  0%|          | 0/8 [00:00<?, ?it/s]"
     ]
    },
    {
     "name": "stdout",
     "output_type": "stream",
     "text": [
      "Model: ealstm, Training years: 9, number of basins: 53\n"
     ]
    },
    {
     "name": "stderr",
     "output_type": "stream",
     "text": [
      "100%|██████████| 8/8 [00:00<00:00, 11.89it/s]\n",
      "100%|██████████| 8/8 [00:00<00:00, 11.94it/s]\n",
      "100%|██████████| 8/8 [00:00<00:00, 11.08it/s]\n",
      "100%|██████████| 8/8 [00:00<00:00, 11.98it/s]\n",
      "100%|██████████| 8/8 [00:00<00:00, 11.90it/s]\n",
      "  0%|          | 0/8 [00:00<?, ?it/s]"
     ]
    },
    {
     "name": "stdout",
     "output_type": "stream",
     "text": [
      "Model: ealstm, Training years: 9, number of basins: 265\n"
     ]
    },
    {
     "name": "stderr",
     "output_type": "stream",
     "text": [
      "100%|██████████| 8/8 [00:03<00:00,  2.22it/s]\n",
      "100%|██████████| 8/8 [00:03<00:00,  2.29it/s]\n",
      "100%|██████████| 8/8 [00:03<00:00,  2.31it/s]\n",
      "100%|██████████| 8/8 [00:03<00:00,  2.26it/s]\n",
      "100%|██████████| 8/8 [00:03<00:00,  2.30it/s]\n",
      "  0%|          | 0/8 [00:00<?, ?it/s]"
     ]
    },
    {
     "name": "stdout",
     "output_type": "stream",
     "text": [
      "Model: ealstm, Training years: 9, number of basins: 531\n"
     ]
    },
    {
     "name": "stderr",
     "output_type": "stream",
     "text": [
      "100%|██████████| 8/8 [00:07<00:00,  1.07it/s]\n",
      "  0%|          | 0/8 [00:00<?, ?it/s]"
     ]
    },
    {
     "name": "stdout",
     "output_type": "stream",
     "text": [
      "Calculating metric: FLV\n",
      "Model: xgboost, Training years: 3, number of basins: 13\n"
     ]
    },
    {
     "name": "stderr",
     "output_type": "stream",
     "text": [
      "100%|██████████| 8/8 [00:00<00:00, 43.86it/s]\n",
      "100%|██████████| 8/8 [00:00<00:00, 44.30it/s]\n",
      "100%|██████████| 8/8 [00:00<00:00, 43.80it/s]\n",
      "100%|██████████| 8/8 [00:00<00:00, 43.64it/s]\n",
      "100%|██████████| 8/8 [00:00<00:00, 43.57it/s]\n",
      "  0%|          | 0/8 [00:00<?, ?it/s]"
     ]
    },
    {
     "name": "stdout",
     "output_type": "stream",
     "text": [
      "Model: xgboost, Training years: 3, number of basins: 26\n"
     ]
    },
    {
     "name": "stderr",
     "output_type": "stream",
     "text": [
      "100%|██████████| 8/8 [00:00<00:00, 22.10it/s]\n",
      "100%|██████████| 8/8 [00:00<00:00, 21.67it/s]\n",
      "100%|██████████| 8/8 [00:00<00:00, 21.85it/s]\n",
      "100%|██████████| 8/8 [00:00<00:00, 18.67it/s]\n",
      "100%|██████████| 8/8 [00:00<00:00, 22.32it/s]\n",
      "  0%|          | 0/8 [00:00<?, ?it/s]"
     ]
    },
    {
     "name": "stdout",
     "output_type": "stream",
     "text": [
      "Model: xgboost, Training years: 3, number of basins: 53\n"
     ]
    },
    {
     "name": "stderr",
     "output_type": "stream",
     "text": [
      "100%|██████████| 8/8 [00:00<00:00, 11.22it/s]\n",
      "100%|██████████| 8/8 [00:00<00:00, 11.16it/s]\n",
      "100%|██████████| 8/8 [00:00<00:00, 11.14it/s]\n",
      "100%|██████████| 8/8 [00:00<00:00, 10.40it/s]\n",
      "100%|██████████| 8/8 [00:00<00:00, 10.95it/s]\n",
      "  0%|          | 0/8 [00:00<?, ?it/s]"
     ]
    },
    {
     "name": "stdout",
     "output_type": "stream",
     "text": [
      "Model: xgboost, Training years: 3, number of basins: 265\n"
     ]
    },
    {
     "name": "stderr",
     "output_type": "stream",
     "text": [
      "100%|██████████| 8/8 [00:03<00:00,  2.12it/s]\n",
      "100%|██████████| 8/8 [00:03<00:00,  2.12it/s]\n",
      "100%|██████████| 8/8 [00:03<00:00,  2.15it/s]\n",
      "100%|██████████| 8/8 [00:03<00:00,  2.13it/s]\n",
      "100%|██████████| 8/8 [00:03<00:00,  2.16it/s]\n",
      "  0%|          | 0/8 [00:00<?, ?it/s]"
     ]
    },
    {
     "name": "stdout",
     "output_type": "stream",
     "text": [
      "Model: xgboost, Training years: 3, number of basins: 531\n"
     ]
    },
    {
     "name": "stderr",
     "output_type": "stream",
     "text": [
      "100%|██████████| 8/8 [00:07<00:00,  1.06it/s]\n",
      "  0%|          | 0/8 [00:00<?, ?it/s]"
     ]
    },
    {
     "name": "stdout",
     "output_type": "stream",
     "text": [
      "Model: xgboost, Training years: 6, number of basins: 13\n"
     ]
    },
    {
     "name": "stderr",
     "output_type": "stream",
     "text": [
      "100%|██████████| 8/8 [00:00<00:00, 43.86it/s]\n",
      "100%|██████████| 8/8 [00:00<00:00, 44.10it/s]\n",
      "100%|██████████| 8/8 [00:00<00:00, 43.91it/s]\n",
      "100%|██████████| 8/8 [00:00<00:00, 43.73it/s]\n",
      "100%|██████████| 8/8 [00:00<00:00, 43.47it/s]\n",
      "  0%|          | 0/8 [00:00<?, ?it/s]"
     ]
    },
    {
     "name": "stdout",
     "output_type": "stream",
     "text": [
      "Model: xgboost, Training years: 6, number of basins: 26\n"
     ]
    },
    {
     "name": "stderr",
     "output_type": "stream",
     "text": [
      "100%|██████████| 8/8 [00:00<00:00, 21.45it/s]\n",
      "100%|██████████| 8/8 [00:00<00:00, 22.15it/s]\n",
      "100%|██████████| 8/8 [00:00<00:00, 21.96it/s]\n",
      "100%|██████████| 8/8 [00:00<00:00, 21.90it/s]\n",
      "100%|██████████| 8/8 [00:00<00:00, 21.82it/s]\n",
      "  0%|          | 0/8 [00:00<?, ?it/s]"
     ]
    },
    {
     "name": "stdout",
     "output_type": "stream",
     "text": [
      "Model: xgboost, Training years: 6, number of basins: 53\n"
     ]
    },
    {
     "name": "stderr",
     "output_type": "stream",
     "text": [
      "100%|██████████| 8/8 [00:00<00:00, 11.21it/s]\n",
      "100%|██████████| 8/8 [00:00<00:00, 11.01it/s]\n",
      "100%|██████████| 8/8 [00:00<00:00, 10.04it/s]\n",
      "100%|██████████| 8/8 [00:00<00:00, 11.10it/s]\n",
      "100%|██████████| 8/8 [00:00<00:00, 11.04it/s]\n",
      "  0%|          | 0/8 [00:00<?, ?it/s]"
     ]
    },
    {
     "name": "stdout",
     "output_type": "stream",
     "text": [
      "Model: xgboost, Training years: 6, number of basins: 265\n"
     ]
    },
    {
     "name": "stderr",
     "output_type": "stream",
     "text": [
      "100%|██████████| 8/8 [00:03<00:00,  2.10it/s]\n",
      "100%|██████████| 8/8 [00:03<00:00,  2.13it/s]\n",
      "100%|██████████| 8/8 [00:03<00:00,  2.16it/s]\n",
      "100%|██████████| 8/8 [00:03<00:00,  2.15it/s]\n",
      "100%|██████████| 8/8 [00:03<00:00,  2.17it/s]\n",
      "  0%|          | 0/8 [00:00<?, ?it/s]"
     ]
    },
    {
     "name": "stdout",
     "output_type": "stream",
     "text": [
      "Model: xgboost, Training years: 6, number of basins: 531\n"
     ]
    },
    {
     "name": "stderr",
     "output_type": "stream",
     "text": [
      "100%|██████████| 8/8 [00:07<00:00,  1.06it/s]\n",
      "  0%|          | 0/8 [00:00<?, ?it/s]"
     ]
    },
    {
     "name": "stdout",
     "output_type": "stream",
     "text": [
      "Model: xgboost, Training years: 9, number of basins: 13\n"
     ]
    },
    {
     "name": "stderr",
     "output_type": "stream",
     "text": [
      "100%|██████████| 8/8 [00:00<00:00, 42.36it/s]\n",
      "100%|██████████| 8/8 [00:00<00:00, 43.16it/s]\n",
      "100%|██████████| 8/8 [00:00<00:00, 43.52it/s]\n",
      "100%|██████████| 8/8 [00:00<00:00, 43.56it/s]\n",
      "100%|██████████| 8/8 [00:00<00:00, 43.79it/s]\n",
      "  0%|          | 0/8 [00:00<?, ?it/s]"
     ]
    },
    {
     "name": "stdout",
     "output_type": "stream",
     "text": [
      "Model: xgboost, Training years: 9, number of basins: 26\n"
     ]
    },
    {
     "name": "stderr",
     "output_type": "stream",
     "text": [
      "100%|██████████| 8/8 [00:00<00:00, 22.08it/s]\n",
      "100%|██████████| 8/8 [00:00<00:00, 21.84it/s]\n",
      "100%|██████████| 8/8 [00:00<00:00, 22.10it/s]\n",
      "100%|██████████| 8/8 [00:00<00:00, 19.14it/s]\n",
      "100%|██████████| 8/8 [00:00<00:00, 22.07it/s]\n",
      "  0%|          | 0/8 [00:00<?, ?it/s]"
     ]
    },
    {
     "name": "stdout",
     "output_type": "stream",
     "text": [
      "Model: xgboost, Training years: 9, number of basins: 53\n"
     ]
    },
    {
     "name": "stderr",
     "output_type": "stream",
     "text": [
      "100%|██████████| 8/8 [00:00<00:00, 11.12it/s]\n",
      "100%|██████████| 8/8 [00:00<00:00, 11.15it/s]\n",
      "100%|██████████| 8/8 [00:00<00:00, 11.26it/s]\n",
      "100%|██████████| 8/8 [00:00<00:00, 10.53it/s]\n",
      "100%|██████████| 8/8 [00:00<00:00, 11.08it/s]\n",
      "  0%|          | 0/8 [00:00<?, ?it/s]"
     ]
    },
    {
     "name": "stdout",
     "output_type": "stream",
     "text": [
      "Model: xgboost, Training years: 9, number of basins: 265\n"
     ]
    },
    {
     "name": "stderr",
     "output_type": "stream",
     "text": [
      "100%|██████████| 8/8 [00:03<00:00,  2.16it/s]\n",
      "100%|██████████| 8/8 [00:03<00:00,  2.13it/s]\n",
      "100%|██████████| 8/8 [00:03<00:00,  2.16it/s]\n",
      "100%|██████████| 8/8 [00:03<00:00,  2.14it/s]\n",
      "100%|██████████| 8/8 [00:03<00:00,  2.16it/s]\n",
      "  0%|          | 0/8 [00:00<?, ?it/s]"
     ]
    },
    {
     "name": "stdout",
     "output_type": "stream",
     "text": [
      "Model: xgboost, Training years: 9, number of basins: 531\n"
     ]
    },
    {
     "name": "stderr",
     "output_type": "stream",
     "text": [
      "100%|██████████| 8/8 [00:07<00:00,  1.06it/s]\n",
      "  0%|          | 0/8 [00:00<?, ?it/s]"
     ]
    },
    {
     "name": "stdout",
     "output_type": "stream",
     "text": [
      "Model: ealstm, Training years: 3, number of basins: 13\n"
     ]
    },
    {
     "name": "stderr",
     "output_type": "stream",
     "text": [
      "100%|██████████| 8/8 [00:00<00:00, 44.10it/s]\n",
      "100%|██████████| 8/8 [00:00<00:00, 44.19it/s]\n",
      "100%|██████████| 8/8 [00:00<00:00, 43.96it/s]\n",
      "100%|██████████| 8/8 [00:00<00:00, 44.01it/s]\n",
      "100%|██████████| 8/8 [00:00<00:00, 42.96it/s]\n",
      "  0%|          | 0/8 [00:00<?, ?it/s]"
     ]
    },
    {
     "name": "stdout",
     "output_type": "stream",
     "text": [
      "Model: ealstm, Training years: 3, number of basins: 26\n"
     ]
    },
    {
     "name": "stderr",
     "output_type": "stream",
     "text": [
      "100%|██████████| 8/8 [00:00<00:00, 22.05it/s]\n",
      "100%|██████████| 8/8 [00:00<00:00, 21.99it/s]\n",
      "100%|██████████| 8/8 [00:00<00:00, 22.05it/s]\n",
      "100%|██████████| 8/8 [00:00<00:00, 21.94it/s]\n",
      "100%|██████████| 8/8 [00:00<00:00, 22.23it/s]\n",
      "  0%|          | 0/8 [00:00<?, ?it/s]"
     ]
    },
    {
     "name": "stdout",
     "output_type": "stream",
     "text": [
      "Model: ealstm, Training years: 3, number of basins: 53\n"
     ]
    },
    {
     "name": "stderr",
     "output_type": "stream",
     "text": [
      "100%|██████████| 8/8 [00:00<00:00, 11.12it/s]\n",
      "100%|██████████| 8/8 [00:00<00:00, 11.15it/s]\n",
      "100%|██████████| 8/8 [00:00<00:00, 10.13it/s]\n",
      "100%|██████████| 8/8 [00:00<00:00, 11.19it/s]\n",
      "100%|██████████| 8/8 [00:00<00:00, 11.12it/s]\n",
      "  0%|          | 0/8 [00:00<?, ?it/s]"
     ]
    },
    {
     "name": "stdout",
     "output_type": "stream",
     "text": [
      "Model: ealstm, Training years: 3, number of basins: 265\n"
     ]
    },
    {
     "name": "stderr",
     "output_type": "stream",
     "text": [
      "100%|██████████| 8/8 [00:03<00:00,  2.10it/s]\n",
      "100%|██████████| 8/8 [00:03<00:00,  2.14it/s]\n",
      "100%|██████████| 8/8 [00:03<00:00,  2.17it/s]\n",
      "100%|██████████| 8/8 [00:03<00:00,  2.14it/s]\n",
      "100%|██████████| 8/8 [00:03<00:00,  2.16it/s]\n",
      "  0%|          | 0/8 [00:00<?, ?it/s]"
     ]
    },
    {
     "name": "stdout",
     "output_type": "stream",
     "text": [
      "Model: ealstm, Training years: 3, number of basins: 531\n"
     ]
    },
    {
     "name": "stderr",
     "output_type": "stream",
     "text": [
      "100%|██████████| 8/8 [00:07<00:00,  1.06it/s]\n",
      "  0%|          | 0/8 [00:00<?, ?it/s]"
     ]
    },
    {
     "name": "stdout",
     "output_type": "stream",
     "text": [
      "Model: ealstm, Training years: 6, number of basins: 13\n"
     ]
    },
    {
     "name": "stderr",
     "output_type": "stream",
     "text": [
      "100%|██████████| 8/8 [00:00<00:00, 44.04it/s]\n",
      "100%|██████████| 8/8 [00:00<00:00, 44.34it/s]\n",
      "100%|██████████| 8/8 [00:00<00:00, 43.61it/s]\n",
      "100%|██████████| 8/8 [00:00<00:00, 43.43it/s]\n",
      "100%|██████████| 8/8 [00:00<00:00, 42.87it/s]\n",
      "  0%|          | 0/8 [00:00<?, ?it/s]"
     ]
    },
    {
     "name": "stdout",
     "output_type": "stream",
     "text": [
      "Model: ealstm, Training years: 6, number of basins: 26\n"
     ]
    },
    {
     "name": "stderr",
     "output_type": "stream",
     "text": [
      "100%|██████████| 8/8 [00:00<00:00, 21.96it/s]\n",
      "100%|██████████| 8/8 [00:00<00:00, 21.93it/s]\n",
      "100%|██████████| 8/8 [00:00<00:00, 22.20it/s]\n",
      "100%|██████████| 8/8 [00:00<00:00, 19.13it/s]\n",
      "100%|██████████| 8/8 [00:00<00:00, 22.08it/s]\n",
      "  0%|          | 0/8 [00:00<?, ?it/s]"
     ]
    },
    {
     "name": "stdout",
     "output_type": "stream",
     "text": [
      "Model: ealstm, Training years: 6, number of basins: 53\n"
     ]
    },
    {
     "name": "stderr",
     "output_type": "stream",
     "text": [
      "100%|██████████| 8/8 [00:00<00:00, 11.14it/s]\n",
      "100%|██████████| 8/8 [00:00<00:00, 11.10it/s]\n",
      "100%|██████████| 8/8 [00:00<00:00, 11.05it/s]\n",
      "100%|██████████| 8/8 [00:00<00:00, 10.41it/s]\n",
      "100%|██████████| 8/8 [00:00<00:00, 11.20it/s]\n",
      "  0%|          | 0/8 [00:00<?, ?it/s]"
     ]
    },
    {
     "name": "stdout",
     "output_type": "stream",
     "text": [
      "Model: ealstm, Training years: 6, number of basins: 265\n"
     ]
    },
    {
     "name": "stderr",
     "output_type": "stream",
     "text": [
      "100%|██████████| 8/8 [00:03<00:00,  2.13it/s]\n",
      "100%|██████████| 8/8 [00:03<00:00,  2.15it/s]\n",
      "100%|██████████| 8/8 [00:03<00:00,  2.17it/s]\n",
      "100%|██████████| 8/8 [00:03<00:00,  2.09it/s]\n",
      "100%|██████████| 8/8 [00:03<00:00,  2.16it/s]\n",
      "  0%|          | 0/8 [00:00<?, ?it/s]"
     ]
    },
    {
     "name": "stdout",
     "output_type": "stream",
     "text": [
      "Model: ealstm, Training years: 6, number of basins: 531\n"
     ]
    },
    {
     "name": "stderr",
     "output_type": "stream",
     "text": [
      "100%|██████████| 8/8 [00:07<00:00,  1.05it/s]\n",
      "  0%|          | 0/8 [00:00<?, ?it/s]"
     ]
    },
    {
     "name": "stdout",
     "output_type": "stream",
     "text": [
      "Model: ealstm, Training years: 9, number of basins: 13\n"
     ]
    },
    {
     "name": "stderr",
     "output_type": "stream",
     "text": [
      "100%|██████████| 8/8 [00:00<00:00, 43.73it/s]\n",
      "100%|██████████| 8/8 [00:00<00:00, 44.52it/s]\n",
      "100%|██████████| 8/8 [00:00<00:00, 43.60it/s]\n",
      "100%|██████████| 8/8 [00:00<00:00, 44.19it/s]\n",
      "100%|██████████| 8/8 [00:00<00:00, 43.10it/s]\n",
      "  0%|          | 0/8 [00:00<?, ?it/s]"
     ]
    },
    {
     "name": "stdout",
     "output_type": "stream",
     "text": [
      "Model: ealstm, Training years: 9, number of basins: 26\n"
     ]
    },
    {
     "name": "stderr",
     "output_type": "stream",
     "text": [
      "100%|██████████| 8/8 [00:00<00:00, 22.07it/s]\n",
      "100%|██████████| 8/8 [00:00<00:00, 21.93it/s]\n",
      "100%|██████████| 8/8 [00:00<00:00, 22.01it/s]\n",
      "100%|██████████| 8/8 [00:00<00:00, 22.28it/s]\n",
      "100%|██████████| 8/8 [00:00<00:00, 22.12it/s]\n",
      "  0%|          | 0/8 [00:00<?, ?it/s]"
     ]
    },
    {
     "name": "stdout",
     "output_type": "stream",
     "text": [
      "Model: ealstm, Training years: 9, number of basins: 53\n"
     ]
    },
    {
     "name": "stderr",
     "output_type": "stream",
     "text": [
      "100%|██████████| 8/8 [00:00<00:00, 11.06it/s]\n",
      "100%|██████████| 8/8 [00:00<00:00, 10.94it/s]\n",
      "100%|██████████| 8/8 [00:00<00:00, 10.32it/s]\n",
      "100%|██████████| 8/8 [00:00<00:00, 11.13it/s]\n",
      "100%|██████████| 8/8 [00:00<00:00, 11.16it/s]\n",
      "  0%|          | 0/8 [00:00<?, ?it/s]"
     ]
    },
    {
     "name": "stdout",
     "output_type": "stream",
     "text": [
      "Model: ealstm, Training years: 9, number of basins: 265\n"
     ]
    },
    {
     "name": "stderr",
     "output_type": "stream",
     "text": [
      "100%|██████████| 8/8 [00:03<00:00,  2.07it/s]\n",
      "100%|██████████| 8/8 [00:03<00:00,  2.14it/s]\n",
      "100%|██████████| 8/8 [00:03<00:00,  2.17it/s]\n",
      "100%|██████████| 8/8 [00:03<00:00,  2.15it/s]\n",
      "100%|██████████| 8/8 [00:03<00:00,  2.15it/s]\n",
      "  0%|          | 0/8 [00:00<?, ?it/s]"
     ]
    },
    {
     "name": "stdout",
     "output_type": "stream",
     "text": [
      "Model: ealstm, Training years: 9, number of basins: 531\n"
     ]
    },
    {
     "name": "stderr",
     "output_type": "stream",
     "text": [
      "100%|██████████| 8/8 [00:07<00:00,  1.05it/s]\n",
      "  0%|          | 0/8 [00:00<?, ?it/s]"
     ]
    },
    {
     "name": "stdout",
     "output_type": "stream",
     "text": [
      "Calculating metric: FMS\n",
      "Model: xgboost, Training years: 3, number of basins: 13\n"
     ]
    },
    {
     "name": "stderr",
     "output_type": "stream",
     "text": [
      "100%|██████████| 8/8 [00:00<00:00, 45.66it/s]\n",
      "100%|██████████| 8/8 [00:00<00:00, 45.90it/s]\n",
      "100%|██████████| 8/8 [00:00<00:00, 45.43it/s]\n",
      "100%|██████████| 8/8 [00:00<00:00, 46.37it/s]\n",
      "100%|██████████| 8/8 [00:00<00:00, 45.65it/s]\n",
      "  0%|          | 0/8 [00:00<?, ?it/s]"
     ]
    },
    {
     "name": "stdout",
     "output_type": "stream",
     "text": [
      "Model: xgboost, Training years: 3, number of basins: 26\n"
     ]
    },
    {
     "name": "stderr",
     "output_type": "stream",
     "text": [
      "100%|██████████| 8/8 [00:00<00:00, 23.14it/s]\n",
      "100%|██████████| 8/8 [00:00<00:00, 22.90it/s]\n",
      "100%|██████████| 8/8 [00:00<00:00, 22.97it/s]\n",
      "100%|██████████| 8/8 [00:00<00:00, 22.90it/s]\n",
      "100%|██████████| 8/8 [00:00<00:00, 21.04it/s]\n",
      "  0%|          | 0/8 [00:00<?, ?it/s]"
     ]
    },
    {
     "name": "stdout",
     "output_type": "stream",
     "text": [
      "Model: xgboost, Training years: 3, number of basins: 53\n"
     ]
    },
    {
     "name": "stderr",
     "output_type": "stream",
     "text": [
      "100%|██████████| 8/8 [00:00<00:00, 11.54it/s]\n",
      "100%|██████████| 8/8 [00:00<00:00, 11.48it/s]\n",
      "100%|██████████| 8/8 [00:00<00:00, 11.45it/s]\n",
      "100%|██████████| 8/8 [00:00<00:00, 10.53it/s]\n",
      "100%|██████████| 8/8 [00:00<00:00, 11.43it/s]\n",
      "  0%|          | 0/8 [00:00<?, ?it/s]"
     ]
    },
    {
     "name": "stdout",
     "output_type": "stream",
     "text": [
      "Model: xgboost, Training years: 3, number of basins: 265\n"
     ]
    },
    {
     "name": "stderr",
     "output_type": "stream",
     "text": [
      "100%|██████████| 8/8 [00:03<00:00,  2.24it/s]\n",
      "100%|██████████| 8/8 [00:03<00:00,  2.18it/s]\n",
      "100%|██████████| 8/8 [00:03<00:00,  2.23it/s]\n",
      "100%|██████████| 8/8 [00:03<00:00,  2.22it/s]\n",
      "100%|██████████| 8/8 [00:03<00:00,  2.24it/s]\n",
      "  0%|          | 0/8 [00:00<?, ?it/s]"
     ]
    },
    {
     "name": "stdout",
     "output_type": "stream",
     "text": [
      "Model: xgboost, Training years: 3, number of basins: 531\n"
     ]
    },
    {
     "name": "stderr",
     "output_type": "stream",
     "text": [
      "100%|██████████| 8/8 [00:07<00:00,  1.06it/s]\n",
      "  0%|          | 0/8 [00:00<?, ?it/s]"
     ]
    },
    {
     "name": "stdout",
     "output_type": "stream",
     "text": [
      "Model: xgboost, Training years: 6, number of basins: 13\n"
     ]
    },
    {
     "name": "stderr",
     "output_type": "stream",
     "text": [
      "100%|██████████| 8/8 [00:00<00:00, 44.01it/s]\n",
      "100%|██████████| 8/8 [00:00<00:00, 45.05it/s]\n",
      "100%|██████████| 8/8 [00:00<00:00, 43.75it/s]\n",
      "100%|██████████| 8/8 [00:00<00:00, 43.83it/s]\n",
      "100%|██████████| 8/8 [00:00<00:00, 44.43it/s]\n",
      "  0%|          | 0/8 [00:00<?, ?it/s]"
     ]
    },
    {
     "name": "stdout",
     "output_type": "stream",
     "text": [
      "Model: xgboost, Training years: 6, number of basins: 26\n"
     ]
    },
    {
     "name": "stderr",
     "output_type": "stream",
     "text": [
      "100%|██████████| 8/8 [00:00<00:00, 22.23it/s]\n",
      "100%|██████████| 8/8 [00:00<00:00, 22.17it/s]\n",
      "100%|██████████| 8/8 [00:00<00:00, 22.43it/s]\n",
      "100%|██████████| 8/8 [00:00<00:00, 22.14it/s]\n",
      "100%|██████████| 8/8 [00:00<00:00, 22.29it/s]\n",
      "  0%|          | 0/8 [00:00<?, ?it/s]"
     ]
    },
    {
     "name": "stdout",
     "output_type": "stream",
     "text": [
      "Model: xgboost, Training years: 6, number of basins: 53\n"
     ]
    },
    {
     "name": "stderr",
     "output_type": "stream",
     "text": [
      "100%|██████████| 8/8 [00:00<00:00, 10.40it/s]\n",
      "100%|██████████| 8/8 [00:00<00:00, 11.09it/s]\n",
      "100%|██████████| 8/8 [00:00<00:00, 11.32it/s]\n",
      "100%|██████████| 8/8 [00:00<00:00, 11.31it/s]\n",
      "100%|██████████| 8/8 [00:00<00:00, 11.27it/s]\n"
     ]
    },
    {
     "name": "stdout",
     "output_type": "stream",
     "text": [
      "Model: xgboost, Training years: 6, number of basins: 265\n"
     ]
    },
    {
     "name": "stderr",
     "output_type": "stream",
     "text": [
      "100%|██████████| 8/8 [00:03<00:00,  2.17it/s]\n",
      "100%|██████████| 8/8 [00:03<00:00,  2.20it/s]\n",
      "100%|██████████| 8/8 [00:03<00:00,  2.16it/s]\n",
      "100%|██████████| 8/8 [00:03<00:00,  2.19it/s]\n",
      "100%|██████████| 8/8 [00:03<00:00,  2.14it/s]\n",
      "  0%|          | 0/8 [00:00<?, ?it/s]"
     ]
    },
    {
     "name": "stdout",
     "output_type": "stream",
     "text": [
      "Model: xgboost, Training years: 6, number of basins: 531\n"
     ]
    },
    {
     "name": "stderr",
     "output_type": "stream",
     "text": [
      "100%|██████████| 8/8 [00:07<00:00,  1.08it/s]\n",
      "  0%|          | 0/8 [00:00<?, ?it/s]"
     ]
    },
    {
     "name": "stdout",
     "output_type": "stream",
     "text": [
      "Model: xgboost, Training years: 9, number of basins: 13\n"
     ]
    },
    {
     "name": "stderr",
     "output_type": "stream",
     "text": [
      "100%|██████████| 8/8 [00:00<00:00, 43.77it/s]\n",
      "100%|██████████| 8/8 [00:00<00:00, 44.66it/s]\n",
      "100%|██████████| 8/8 [00:00<00:00, 45.01it/s]\n",
      "100%|██████████| 8/8 [00:00<00:00, 44.84it/s]\n",
      "100%|██████████| 8/8 [00:00<00:00, 44.00it/s]\n",
      "  0%|          | 0/8 [00:00<?, ?it/s]"
     ]
    },
    {
     "name": "stdout",
     "output_type": "stream",
     "text": [
      "Model: xgboost, Training years: 9, number of basins: 26\n"
     ]
    },
    {
     "name": "stderr",
     "output_type": "stream",
     "text": [
      "100%|██████████| 8/8 [00:00<00:00, 22.37it/s]\n",
      "100%|██████████| 8/8 [00:00<00:00, 22.15it/s]\n",
      "100%|██████████| 8/8 [00:00<00:00, 22.59it/s]\n",
      "100%|██████████| 8/8 [00:00<00:00, 20.62it/s]\n",
      "100%|██████████| 8/8 [00:00<00:00, 22.21it/s]\n",
      "  0%|          | 0/8 [00:00<?, ?it/s]"
     ]
    },
    {
     "name": "stdout",
     "output_type": "stream",
     "text": [
      "Model: xgboost, Training years: 9, number of basins: 53\n"
     ]
    },
    {
     "name": "stderr",
     "output_type": "stream",
     "text": [
      "100%|██████████| 8/8 [00:00<00:00, 11.22it/s]\n",
      "100%|██████████| 8/8 [00:00<00:00, 10.42it/s]\n",
      "100%|██████████| 8/8 [00:00<00:00, 11.22it/s]\n",
      "100%|██████████| 8/8 [00:00<00:00, 11.34it/s]\n",
      "100%|██████████| 8/8 [00:00<00:00, 11.33it/s]\n",
      "  0%|          | 0/8 [00:00<?, ?it/s]"
     ]
    },
    {
     "name": "stdout",
     "output_type": "stream",
     "text": [
      "Model: xgboost, Training years: 9, number of basins: 265\n"
     ]
    },
    {
     "name": "stderr",
     "output_type": "stream",
     "text": [
      "100%|██████████| 8/8 [00:03<00:00,  2.16it/s]\n",
      "100%|██████████| 8/8 [00:03<00:00,  2.20it/s]\n",
      "100%|██████████| 8/8 [00:03<00:00,  2.15it/s]\n",
      "100%|██████████| 8/8 [00:03<00:00,  2.20it/s]\n",
      "100%|██████████| 8/8 [00:03<00:00,  2.19it/s]\n",
      "  0%|          | 0/8 [00:00<?, ?it/s]"
     ]
    },
    {
     "name": "stdout",
     "output_type": "stream",
     "text": [
      "Model: xgboost, Training years: 9, number of basins: 531\n"
     ]
    },
    {
     "name": "stderr",
     "output_type": "stream",
     "text": [
      "100%|██████████| 8/8 [00:07<00:00,  1.08it/s]\n",
      "  0%|          | 0/8 [00:00<?, ?it/s]"
     ]
    },
    {
     "name": "stdout",
     "output_type": "stream",
     "text": [
      "Model: ealstm, Training years: 3, number of basins: 13\n"
     ]
    },
    {
     "name": "stderr",
     "output_type": "stream",
     "text": [
      "100%|██████████| 8/8 [00:00<00:00, 44.13it/s]\n",
      "100%|██████████| 8/8 [00:00<00:00, 44.26it/s]\n",
      "100%|██████████| 8/8 [00:00<00:00, 44.58it/s]\n",
      "100%|██████████| 8/8 [00:00<00:00, 43.87it/s]\n",
      "100%|██████████| 8/8 [00:00<00:00, 44.55it/s]\n"
     ]
    },
    {
     "name": "stdout",
     "output_type": "stream",
     "text": [
      "Model: ealstm, Training years: 3, number of basins: 26\n"
     ]
    },
    {
     "name": "stderr",
     "output_type": "stream",
     "text": [
      "100%|██████████| 8/8 [00:00<00:00, 22.70it/s]\n",
      "100%|██████████| 8/8 [00:00<00:00, 22.15it/s]\n",
      "100%|██████████| 8/8 [00:00<00:00, 21.33it/s]\n",
      "100%|██████████| 8/8 [00:00<00:00, 22.43it/s]\n",
      "100%|██████████| 8/8 [00:00<00:00, 22.36it/s]\n",
      "  0%|          | 0/8 [00:00<?, ?it/s]"
     ]
    },
    {
     "name": "stdout",
     "output_type": "stream",
     "text": [
      "Model: ealstm, Training years: 3, number of basins: 53\n"
     ]
    },
    {
     "name": "stderr",
     "output_type": "stream",
     "text": [
      "100%|██████████| 8/8 [00:00<00:00, 11.21it/s]\n",
      "100%|██████████| 8/8 [00:00<00:00, 11.18it/s]\n",
      "100%|██████████| 8/8 [00:00<00:00, 10.39it/s]\n",
      "100%|██████████| 8/8 [00:00<00:00, 11.27it/s]\n",
      "100%|██████████| 8/8 [00:00<00:00, 11.27it/s]\n",
      "  0%|          | 0/8 [00:00<?, ?it/s]"
     ]
    },
    {
     "name": "stdout",
     "output_type": "stream",
     "text": [
      "Model: ealstm, Training years: 3, number of basins: 265\n"
     ]
    },
    {
     "name": "stderr",
     "output_type": "stream",
     "text": [
      "100%|██████████| 8/8 [00:03<00:00,  2.16it/s]\n",
      "100%|██████████| 8/8 [00:03<00:00,  2.19it/s]\n",
      "100%|██████████| 8/8 [00:03<00:00,  2.14it/s]\n",
      "100%|██████████| 8/8 [00:03<00:00,  2.21it/s]\n",
      "100%|██████████| 8/8 [00:03<00:00,  2.18it/s]\n",
      "  0%|          | 0/8 [00:00<?, ?it/s]"
     ]
    },
    {
     "name": "stdout",
     "output_type": "stream",
     "text": [
      "Model: ealstm, Training years: 3, number of basins: 531\n"
     ]
    },
    {
     "name": "stderr",
     "output_type": "stream",
     "text": [
      "100%|██████████| 8/8 [00:07<00:00,  1.09it/s]\n",
      "  0%|          | 0/8 [00:00<?, ?it/s]"
     ]
    },
    {
     "name": "stdout",
     "output_type": "stream",
     "text": [
      "Model: ealstm, Training years: 6, number of basins: 13\n"
     ]
    },
    {
     "name": "stderr",
     "output_type": "stream",
     "text": [
      "100%|██████████| 8/8 [00:00<00:00, 44.88it/s]\n",
      "100%|██████████| 8/8 [00:00<00:00, 44.53it/s]\n",
      "100%|██████████| 8/8 [00:00<00:00, 43.63it/s]\n",
      "100%|██████████| 8/8 [00:00<00:00, 42.52it/s]\n",
      "100%|██████████| 8/8 [00:00<00:00, 44.51it/s]\n",
      "  0%|          | 0/8 [00:00<?, ?it/s]"
     ]
    },
    {
     "name": "stdout",
     "output_type": "stream",
     "text": [
      "Model: ealstm, Training years: 6, number of basins: 26\n"
     ]
    },
    {
     "name": "stderr",
     "output_type": "stream",
     "text": [
      "100%|██████████| 8/8 [00:00<00:00, 22.87it/s]\n",
      "100%|██████████| 8/8 [00:00<00:00, 19.77it/s]\n",
      "100%|██████████| 8/8 [00:00<00:00, 17.95it/s]\n",
      "100%|██████████| 8/8 [00:00<00:00, 22.66it/s]\n",
      "100%|██████████| 8/8 [00:00<00:00, 22.66it/s]\n",
      "  0%|          | 0/8 [00:00<?, ?it/s]"
     ]
    },
    {
     "name": "stdout",
     "output_type": "stream",
     "text": [
      "Model: ealstm, Training years: 6, number of basins: 53\n"
     ]
    },
    {
     "name": "stderr",
     "output_type": "stream",
     "text": [
      "100%|██████████| 8/8 [00:00<00:00, 11.42it/s]\n",
      "100%|██████████| 8/8 [00:00<00:00, 11.42it/s]\n",
      "100%|██████████| 8/8 [00:00<00:00, 11.37it/s]\n",
      "100%|██████████| 8/8 [00:00<00:00, 11.47it/s]\n",
      "100%|██████████| 8/8 [00:00<00:00, 11.32it/s]\n",
      "  0%|          | 0/8 [00:00<?, ?it/s]"
     ]
    },
    {
     "name": "stdout",
     "output_type": "stream",
     "text": [
      "Model: ealstm, Training years: 6, number of basins: 265\n"
     ]
    },
    {
     "name": "stderr",
     "output_type": "stream",
     "text": [
      "100%|██████████| 8/8 [00:03<00:00,  2.21it/s]\n",
      "100%|██████████| 8/8 [00:03<00:00,  2.17it/s]\n",
      "100%|██████████| 8/8 [00:03<00:00,  2.26it/s]\n",
      "100%|██████████| 8/8 [00:03<00:00,  2.23it/s]\n",
      "100%|██████████| 8/8 [00:03<00:00,  2.26it/s]\n",
      "  0%|          | 0/8 [00:00<?, ?it/s]"
     ]
    },
    {
     "name": "stdout",
     "output_type": "stream",
     "text": [
      "Model: ealstm, Training years: 6, number of basins: 531\n"
     ]
    },
    {
     "name": "stderr",
     "output_type": "stream",
     "text": [
      "100%|██████████| 8/8 [00:07<00:00,  1.09it/s]\n",
      "  0%|          | 0/8 [00:00<?, ?it/s]"
     ]
    },
    {
     "name": "stdout",
     "output_type": "stream",
     "text": [
      "Model: ealstm, Training years: 9, number of basins: 13\n"
     ]
    },
    {
     "name": "stderr",
     "output_type": "stream",
     "text": [
      "100%|██████████| 8/8 [00:00<00:00, 45.17it/s]\n",
      "100%|██████████| 8/8 [00:00<00:00, 46.35it/s]\n",
      "100%|██████████| 8/8 [00:00<00:00, 44.45it/s]\n",
      "100%|██████████| 8/8 [00:00<00:00, 45.00it/s]\n",
      "100%|██████████| 8/8 [00:00<00:00, 45.55it/s]\n",
      "  0%|          | 0/8 [00:00<?, ?it/s]"
     ]
    },
    {
     "name": "stdout",
     "output_type": "stream",
     "text": [
      "Model: ealstm, Training years: 9, number of basins: 26\n"
     ]
    },
    {
     "name": "stderr",
     "output_type": "stream",
     "text": [
      "100%|██████████| 8/8 [00:00<00:00, 23.14it/s]\n",
      "100%|██████████| 8/8 [00:00<00:00, 22.70it/s]\n",
      "100%|██████████| 8/8 [00:00<00:00, 22.74it/s]\n",
      "100%|██████████| 8/8 [00:00<00:00, 20.62it/s]\n",
      "100%|██████████| 8/8 [00:00<00:00, 22.87it/s]\n",
      "  0%|          | 0/8 [00:00<?, ?it/s]"
     ]
    },
    {
     "name": "stdout",
     "output_type": "stream",
     "text": [
      "Model: ealstm, Training years: 9, number of basins: 53\n"
     ]
    },
    {
     "name": "stderr",
     "output_type": "stream",
     "text": [
      "100%|██████████| 8/8 [00:00<00:00, 11.58it/s]\n",
      "100%|██████████| 8/8 [00:00<00:00, 11.46it/s]\n",
      "100%|██████████| 8/8 [00:00<00:00, 11.59it/s]\n",
      "100%|██████████| 8/8 [00:00<00:00, 11.62it/s]\n",
      "100%|██████████| 8/8 [00:00<00:00, 11.46it/s]\n",
      "  0%|          | 0/8 [00:00<?, ?it/s]"
     ]
    },
    {
     "name": "stdout",
     "output_type": "stream",
     "text": [
      "Model: ealstm, Training years: 9, number of basins: 265\n"
     ]
    },
    {
     "name": "stderr",
     "output_type": "stream",
     "text": [
      "100%|██████████| 8/8 [00:03<00:00,  2.23it/s]\n",
      "100%|██████████| 8/8 [00:03<00:00,  2.19it/s]\n",
      "100%|██████████| 8/8 [00:03<00:00,  2.24it/s]\n",
      "100%|██████████| 8/8 [00:03<00:00,  2.16it/s]\n",
      "100%|██████████| 8/8 [00:03<00:00,  2.18it/s]\n",
      "  0%|          | 0/8 [00:00<?, ?it/s]"
     ]
    },
    {
     "name": "stdout",
     "output_type": "stream",
     "text": [
      "Model: ealstm, Training years: 9, number of basins: 531\n"
     ]
    },
    {
     "name": "stderr",
     "output_type": "stream",
     "text": [
      "100%|██████████| 8/8 [00:07<00:00,  1.11it/s]\n"
     ]
    }
   ],
   "source": [
    "if PRECOMPUTED_DATA:\n",
    "    print(\"Loaded data from pre-computed pickle file\")\n",
    "    with open(BASE_RUN_DIR / \"all_metrics_gridEvaluation.p\", \"rb\") as fp:\n",
    "        all_metrics = pickle.load(fp)\n",
    "else:\n",
    "    all_metrics = {}\n",
    "    for func_name, func in EVAL_FUNCS.items():\n",
    "        tqdm.tqdm.write(f\"Calculating metric: {func_name}\")\n",
    "        model_metrics = {}\n",
    "        for model, training_years, n_basins in itertools.product(model_specs_gridEvaluation['models'], \n",
    "                                                                 model_specs_gridEvaluation['training_years'], \n",
    "                                                                 model_specs_gridEvaluation['n_basins']):\n",
    "            if not model in model_metrics: \n",
    "                model_metrics[model] = {}\n",
    "            if not training_years in model_metrics[model]:\n",
    "                model_metrics[model][training_years] = {}\n",
    "            tqdm.tqdm.write(f\"Model: {model}, Training years: {training_years}, number of basins: {n_basins}\")\n",
    "            for basin_subset in model_specs_gridEvaluation['basin_subsets'][n_basins]:\n",
    "                run_dirs = get_run_dirs_gridEvaluation(root_dir=BASE_RUN_DIR, model=model, basin_subset=basin_subset, training_years=training_years)\n",
    "                model_metrics[model][training_years][basin_subset] = eval_datadriven_models(run_dirs=run_dirs, func=func)\n",
    "\n",
    "        all_metrics[func_name] = model_metrics"
   ]
  },
  {
   "cell_type": "markdown",
   "metadata": {},
   "source": [
    "## Tabular comparison\n",
    "\n",
    "In a first step, we look at the mean, median NSE as well as the number of catastrophic failures. Catastrophic failures are defined as the number of basins, where the model has a NSE <= 0.\n",
    "We calculate the mean of each of this three statistics over the model (n=8) model repetitions and the random basin samples and report the standard deviation here as well. The repetitions are denoted as `ensemble=False` in the table below."
   ]
  },
  {
   "cell_type": "code",
   "execution_count": 8,
   "metadata": {},
   "outputs": [
    {
     "data": {
      "text/html": [
       "<div>\n",
       "<style scoped>\n",
       "    .dataframe tbody tr th:only-of-type {\n",
       "        vertical-align: middle;\n",
       "    }\n",
       "\n",
       "    .dataframe tbody tr th {\n",
       "        vertical-align: top;\n",
       "    }\n",
       "\n",
       "    .dataframe thead th {\n",
       "        text-align: right;\n",
       "    }\n",
       "</style>\n",
       "<table border=\"1\" class=\"dataframe\">\n",
       "  <thead>\n",
       "    <tr style=\"text-align: right;\">\n",
       "      <th></th>\n",
       "      <th></th>\n",
       "      <th></th>\n",
       "      <th></th>\n",
       "      <th>failures</th>\n",
       "      <th>max</th>\n",
       "      <th>mean</th>\n",
       "      <th>median</th>\n",
       "      <th>min</th>\n",
       "      <th>std_failures</th>\n",
       "      <th>std_mean</th>\n",
       "      <th>std_median</th>\n",
       "    </tr>\n",
       "    <tr>\n",
       "      <th>training_years</th>\n",
       "      <th>n_basins</th>\n",
       "      <th>ensemble</th>\n",
       "      <th>model</th>\n",
       "      <th></th>\n",
       "      <th></th>\n",
       "      <th></th>\n",
       "      <th></th>\n",
       "      <th></th>\n",
       "      <th></th>\n",
       "      <th></th>\n",
       "      <th></th>\n",
       "    </tr>\n",
       "  </thead>\n",
       "  <tbody>\n",
       "    <tr>\n",
       "      <th rowspan=\"20\" valign=\"top\">3</th>\n",
       "      <th rowspan=\"4\" valign=\"top\">13</th>\n",
       "      <th rowspan=\"2\" valign=\"top\">False</th>\n",
       "      <th>ealstm</th>\n",
       "      <td>2.100</td>\n",
       "      <td>0.596818</td>\n",
       "      <td>0.114757</td>\n",
       "      <td>0.150652</td>\n",
       "      <td>-1.397067</td>\n",
       "      <td>1.729162</td>\n",
       "      <td>0.102366</td>\n",
       "      <td>0.064668</td>\n",
       "    </tr>\n",
       "    <tr>\n",
       "      <th>xgboost</th>\n",
       "      <td>0.225</td>\n",
       "      <td>0.621599</td>\n",
       "      <td>0.301178</td>\n",
       "      <td>0.319213</td>\n",
       "      <td>-0.559515</td>\n",
       "      <td>0.473682</td>\n",
       "      <td>0.024938</td>\n",
       "      <td>0.057407</td>\n",
       "    </tr>\n",
       "    <tr>\n",
       "      <th rowspan=\"2\" valign=\"top\">True</th>\n",
       "      <th>ealstm</th>\n",
       "      <td>8.000</td>\n",
       "      <td>0.544058</td>\n",
       "      <td>0.147755</td>\n",
       "      <td>0.156288</td>\n",
       "      <td>-0.260149</td>\n",
       "      <td>NaN</td>\n",
       "      <td>NaN</td>\n",
       "      <td>NaN</td>\n",
       "    </tr>\n",
       "    <tr>\n",
       "      <th>xgboost</th>\n",
       "      <td>1.000</td>\n",
       "      <td>0.605091</td>\n",
       "      <td>0.306206</td>\n",
       "      <td>0.324908</td>\n",
       "      <td>-0.431334</td>\n",
       "      <td>NaN</td>\n",
       "      <td>NaN</td>\n",
       "      <td>NaN</td>\n",
       "    </tr>\n",
       "    <tr>\n",
       "      <th rowspan=\"4\" valign=\"top\">26</th>\n",
       "      <th rowspan=\"2\" valign=\"top\">False</th>\n",
       "      <th>ealstm</th>\n",
       "      <td>1.425</td>\n",
       "      <td>0.637282</td>\n",
       "      <td>0.264800</td>\n",
       "      <td>0.280765</td>\n",
       "      <td>-1.297110</td>\n",
       "      <td>1.376363</td>\n",
       "      <td>0.079462</td>\n",
       "      <td>0.080827</td>\n",
       "    </tr>\n",
       "    <tr>\n",
       "      <th>xgboost</th>\n",
       "      <td>0.725</td>\n",
       "      <td>0.742831</td>\n",
       "      <td>0.348929</td>\n",
       "      <td>0.394060</td>\n",
       "      <td>-3.667734</td>\n",
       "      <td>0.446514</td>\n",
       "      <td>0.032001</td>\n",
       "      <td>0.024937</td>\n",
       "    </tr>\n",
       "    <tr>\n",
       "      <th rowspan=\"2\" valign=\"top\">True</th>\n",
       "      <th>ealstm</th>\n",
       "      <td>1.000</td>\n",
       "      <td>0.562238</td>\n",
       "      <td>0.299730</td>\n",
       "      <td>0.307008</td>\n",
       "      <td>-0.086306</td>\n",
       "      <td>NaN</td>\n",
       "      <td>NaN</td>\n",
       "      <td>NaN</td>\n",
       "    </tr>\n",
       "    <tr>\n",
       "      <th>xgboost</th>\n",
       "      <td>3.000</td>\n",
       "      <td>0.734580</td>\n",
       "      <td>0.357131</td>\n",
       "      <td>0.401660</td>\n",
       "      <td>-2.039548</td>\n",
       "      <td>NaN</td>\n",
       "      <td>NaN</td>\n",
       "      <td>NaN</td>\n",
       "    </tr>\n",
       "    <tr>\n",
       "      <th rowspan=\"4\" valign=\"top\">53</th>\n",
       "      <th rowspan=\"2\" valign=\"top\">False</th>\n",
       "      <th>ealstm</th>\n",
       "      <td>0.750</td>\n",
       "      <td>0.832208</td>\n",
       "      <td>0.430060</td>\n",
       "      <td>0.452478</td>\n",
       "      <td>-1.015852</td>\n",
       "      <td>0.798436</td>\n",
       "      <td>0.051949</td>\n",
       "      <td>0.051083</td>\n",
       "    </tr>\n",
       "    <tr>\n",
       "      <th>xgboost</th>\n",
       "      <td>1.025</td>\n",
       "      <td>0.807143</td>\n",
       "      <td>0.438127</td>\n",
       "      <td>0.466102</td>\n",
       "      <td>-2.553632</td>\n",
       "      <td>1.083686</td>\n",
       "      <td>0.041171</td>\n",
       "      <td>0.024117</td>\n",
       "    </tr>\n",
       "    <tr>\n",
       "      <th rowspan=\"2\" valign=\"top\">True</th>\n",
       "      <th>ealstm</th>\n",
       "      <td>1.000</td>\n",
       "      <td>0.805019</td>\n",
       "      <td>0.462638</td>\n",
       "      <td>0.483833</td>\n",
       "      <td>-0.118457</td>\n",
       "      <td>NaN</td>\n",
       "      <td>NaN</td>\n",
       "      <td>NaN</td>\n",
       "    </tr>\n",
       "    <tr>\n",
       "      <th>xgboost</th>\n",
       "      <td>5.000</td>\n",
       "      <td>0.805987</td>\n",
       "      <td>0.444821</td>\n",
       "      <td>0.471337</td>\n",
       "      <td>-1.652938</td>\n",
       "      <td>NaN</td>\n",
       "      <td>NaN</td>\n",
       "      <td>NaN</td>\n",
       "    </tr>\n",
       "    <tr>\n",
       "      <th rowspan=\"4\" valign=\"top\">265</th>\n",
       "      <th rowspan=\"2\" valign=\"top\">False</th>\n",
       "      <th>ealstm</th>\n",
       "      <td>2.350</td>\n",
       "      <td>0.910680</td>\n",
       "      <td>0.562408</td>\n",
       "      <td>0.606922</td>\n",
       "      <td>-5.795502</td>\n",
       "      <td>1.696320</td>\n",
       "      <td>0.020283</td>\n",
       "      <td>0.018051</td>\n",
       "    </tr>\n",
       "    <tr>\n",
       "      <th>xgboost</th>\n",
       "      <td>4.825</td>\n",
       "      <td>0.846713</td>\n",
       "      <td>0.500750</td>\n",
       "      <td>0.541381</td>\n",
       "      <td>-2.356411</td>\n",
       "      <td>1.531135</td>\n",
       "      <td>0.008807</td>\n",
       "      <td>0.008421</td>\n",
       "    </tr>\n",
       "    <tr>\n",
       "      <th rowspan=\"2\" valign=\"top\">True</th>\n",
       "      <th>ealstm</th>\n",
       "      <td>2.000</td>\n",
       "      <td>0.899358</td>\n",
       "      <td>0.600707</td>\n",
       "      <td>0.639357</td>\n",
       "      <td>-0.233172</td>\n",
       "      <td>NaN</td>\n",
       "      <td>NaN</td>\n",
       "      <td>NaN</td>\n",
       "    </tr>\n",
       "    <tr>\n",
       "      <th>xgboost</th>\n",
       "      <td>24.000</td>\n",
       "      <td>0.843507</td>\n",
       "      <td>0.509154</td>\n",
       "      <td>0.549233</td>\n",
       "      <td>-1.924580</td>\n",
       "      <td>NaN</td>\n",
       "      <td>NaN</td>\n",
       "      <td>NaN</td>\n",
       "    </tr>\n",
       "    <tr>\n",
       "      <th rowspan=\"4\" valign=\"top\">531</th>\n",
       "      <th rowspan=\"2\" valign=\"top\">False</th>\n",
       "      <th>ealstm</th>\n",
       "      <td>2.500</td>\n",
       "      <td>0.920291</td>\n",
       "      <td>0.597223</td>\n",
       "      <td>0.640739</td>\n",
       "      <td>-2.283731</td>\n",
       "      <td>1.500000</td>\n",
       "      <td>0.008643</td>\n",
       "      <td>0.009626</td>\n",
       "    </tr>\n",
       "    <tr>\n",
       "      <th>xgboost</th>\n",
       "      <td>8.000</td>\n",
       "      <td>0.873397</td>\n",
       "      <td>0.520881</td>\n",
       "      <td>0.560167</td>\n",
       "      <td>-1.794076</td>\n",
       "      <td>0.866025</td>\n",
       "      <td>0.002773</td>\n",
       "      <td>0.003061</td>\n",
       "    </tr>\n",
       "    <tr>\n",
       "      <th rowspan=\"2\" valign=\"top\">True</th>\n",
       "      <th>ealstm</th>\n",
       "      <td>0.000</td>\n",
       "      <td>0.927415</td>\n",
       "      <td>0.636011</td>\n",
       "      <td>0.680531</td>\n",
       "      <td>0.031266</td>\n",
       "      <td>NaN</td>\n",
       "      <td>NaN</td>\n",
       "      <td>NaN</td>\n",
       "    </tr>\n",
       "    <tr>\n",
       "      <th>xgboost</th>\n",
       "      <td>8.000</td>\n",
       "      <td>0.873458</td>\n",
       "      <td>0.528879</td>\n",
       "      <td>0.568288</td>\n",
       "      <td>-1.341143</td>\n",
       "      <td>NaN</td>\n",
       "      <td>NaN</td>\n",
       "      <td>NaN</td>\n",
       "    </tr>\n",
       "    <tr>\n",
       "      <th rowspan=\"20\" valign=\"top\">6</th>\n",
       "      <th rowspan=\"4\" valign=\"top\">13</th>\n",
       "      <th rowspan=\"2\" valign=\"top\">False</th>\n",
       "      <th>ealstm</th>\n",
       "      <td>0.150</td>\n",
       "      <td>0.757458</td>\n",
       "      <td>0.386905</td>\n",
       "      <td>0.406100</td>\n",
       "      <td>-0.483846</td>\n",
       "      <td>0.357071</td>\n",
       "      <td>0.056523</td>\n",
       "      <td>0.072477</td>\n",
       "    </tr>\n",
       "    <tr>\n",
       "      <th>xgboost</th>\n",
       "      <td>0.550</td>\n",
       "      <td>0.749935</td>\n",
       "      <td>0.427680</td>\n",
       "      <td>0.471717</td>\n",
       "      <td>-0.605717</td>\n",
       "      <td>0.739932</td>\n",
       "      <td>0.038360</td>\n",
       "      <td>0.047368</td>\n",
       "    </tr>\n",
       "    <tr>\n",
       "      <th rowspan=\"2\" valign=\"top\">True</th>\n",
       "      <th>ealstm</th>\n",
       "      <td>1.000</td>\n",
       "      <td>0.680722</td>\n",
       "      <td>0.418537</td>\n",
       "      <td>0.439171</td>\n",
       "      <td>-0.073807</td>\n",
       "      <td>NaN</td>\n",
       "      <td>NaN</td>\n",
       "      <td>NaN</td>\n",
       "    </tr>\n",
       "    <tr>\n",
       "      <th>xgboost</th>\n",
       "      <td>3.000</td>\n",
       "      <td>0.743535</td>\n",
       "      <td>0.435575</td>\n",
       "      <td>0.486578</td>\n",
       "      <td>-0.365288</td>\n",
       "      <td>NaN</td>\n",
       "      <td>NaN</td>\n",
       "      <td>NaN</td>\n",
       "    </tr>\n",
       "    <tr>\n",
       "      <th rowspan=\"4\" valign=\"top\">26</th>\n",
       "      <th rowspan=\"2\" valign=\"top\">False</th>\n",
       "      <th>ealstm</th>\n",
       "      <td>0.450</td>\n",
       "      <td>0.819527</td>\n",
       "      <td>0.476888</td>\n",
       "      <td>0.507236</td>\n",
       "      <td>-0.236959</td>\n",
       "      <td>0.630476</td>\n",
       "      <td>0.055365</td>\n",
       "      <td>0.056916</td>\n",
       "    </tr>\n",
       "    <tr>\n",
       "      <th>xgboost</th>\n",
       "      <td>0.875</td>\n",
       "      <td>0.782179</td>\n",
       "      <td>0.446945</td>\n",
       "      <td>0.515710</td>\n",
       "      <td>-5.050832</td>\n",
       "      <td>0.399218</td>\n",
       "      <td>0.059603</td>\n",
       "      <td>0.036497</td>\n",
       "    </tr>\n",
       "    <tr>\n",
       "      <th rowspan=\"2\" valign=\"top\">True</th>\n",
       "      <th>ealstm</th>\n",
       "      <td>1.000</td>\n",
       "      <td>0.805620</td>\n",
       "      <td>0.515597</td>\n",
       "      <td>0.544026</td>\n",
       "      <td>-0.046617</td>\n",
       "      <td>NaN</td>\n",
       "      <td>NaN</td>\n",
       "      <td>NaN</td>\n",
       "    </tr>\n",
       "    <tr>\n",
       "      <th>xgboost</th>\n",
       "      <td>4.000</td>\n",
       "      <td>0.775792</td>\n",
       "      <td>0.460361</td>\n",
       "      <td>0.528359</td>\n",
       "      <td>-4.144493</td>\n",
       "      <td>NaN</td>\n",
       "      <td>NaN</td>\n",
       "      <td>NaN</td>\n",
       "    </tr>\n",
       "    <tr>\n",
       "      <th rowspan=\"4\" valign=\"top\">53</th>\n",
       "      <th rowspan=\"2\" valign=\"top\">False</th>\n",
       "      <th>ealstm</th>\n",
       "      <td>0.350</td>\n",
       "      <td>0.891978</td>\n",
       "      <td>0.563458</td>\n",
       "      <td>0.598802</td>\n",
       "      <td>-0.188340</td>\n",
       "      <td>0.526783</td>\n",
       "      <td>0.045751</td>\n",
       "      <td>0.040695</td>\n",
       "    </tr>\n",
       "    <tr>\n",
       "      <th>xgboost</th>\n",
       "      <td>0.700</td>\n",
       "      <td>0.863569</td>\n",
       "      <td>0.538368</td>\n",
       "      <td>0.569118</td>\n",
       "      <td>-1.455187</td>\n",
       "      <td>1.288410</td>\n",
       "      <td>0.039537</td>\n",
       "      <td>0.023642</td>\n",
       "    </tr>\n",
       "    <tr>\n",
       "      <th rowspan=\"2\" valign=\"top\">True</th>\n",
       "      <th>ealstm</th>\n",
       "      <td>0.000</td>\n",
       "      <td>0.892949</td>\n",
       "      <td>0.594758</td>\n",
       "      <td>0.625090</td>\n",
       "      <td>0.063587</td>\n",
       "      <td>NaN</td>\n",
       "      <td>NaN</td>\n",
       "      <td>NaN</td>\n",
       "    </tr>\n",
       "    <tr>\n",
       "      <th>xgboost</th>\n",
       "      <td>2.000</td>\n",
       "      <td>0.861374</td>\n",
       "      <td>0.546825</td>\n",
       "      <td>0.578642</td>\n",
       "      <td>-1.146967</td>\n",
       "      <td>NaN</td>\n",
       "      <td>NaN</td>\n",
       "      <td>NaN</td>\n",
       "    </tr>\n",
       "    <tr>\n",
       "      <th rowspan=\"4\" valign=\"top\">265</th>\n",
       "      <th rowspan=\"2\" valign=\"top\">False</th>\n",
       "      <th>ealstm</th>\n",
       "      <td>1.925</td>\n",
       "      <td>0.927027</td>\n",
       "      <td>0.636164</td>\n",
       "      <td>0.680973</td>\n",
       "      <td>-2.941916</td>\n",
       "      <td>1.191375</td>\n",
       "      <td>0.011833</td>\n",
       "      <td>0.009538</td>\n",
       "    </tr>\n",
       "    <tr>\n",
       "      <th>xgboost</th>\n",
       "      <td>4.050</td>\n",
       "      <td>0.901775</td>\n",
       "      <td>0.568214</td>\n",
       "      <td>0.617444</td>\n",
       "      <td>-4.960132</td>\n",
       "      <td>1.223724</td>\n",
       "      <td>0.005173</td>\n",
       "      <td>0.005388</td>\n",
       "    </tr>\n",
       "    <tr>\n",
       "      <th rowspan=\"2\" valign=\"top\">True</th>\n",
       "      <th>ealstm</th>\n",
       "      <td>6.000</td>\n",
       "      <td>0.942785</td>\n",
       "      <td>0.668031</td>\n",
       "      <td>0.707801</td>\n",
       "      <td>-0.200890</td>\n",
       "      <td>NaN</td>\n",
       "      <td>NaN</td>\n",
       "      <td>NaN</td>\n",
       "    </tr>\n",
       "    <tr>\n",
       "      <th>xgboost</th>\n",
       "      <td>18.000</td>\n",
       "      <td>0.901416</td>\n",
       "      <td>0.577949</td>\n",
       "      <td>0.625611</td>\n",
       "      <td>-3.078965</td>\n",
       "      <td>NaN</td>\n",
       "      <td>NaN</td>\n",
       "      <td>NaN</td>\n",
       "    </tr>\n",
       "    <tr>\n",
       "      <th rowspan=\"4\" valign=\"top\">531</th>\n",
       "      <th rowspan=\"2\" valign=\"top\">False</th>\n",
       "      <th>ealstm</th>\n",
       "      <td>3.500</td>\n",
       "      <td>0.931685</td>\n",
       "      <td>0.651181</td>\n",
       "      <td>0.692963</td>\n",
       "      <td>-4.838903</td>\n",
       "      <td>1.224745</td>\n",
       "      <td>0.006867</td>\n",
       "      <td>0.006241</td>\n",
       "    </tr>\n",
       "    <tr>\n",
       "      <th>xgboost</th>\n",
       "      <td>5.375</td>\n",
       "      <td>0.906579</td>\n",
       "      <td>0.586254</td>\n",
       "      <td>0.629535</td>\n",
       "      <td>-2.590614</td>\n",
       "      <td>0.695971</td>\n",
       "      <td>0.002445</td>\n",
       "      <td>0.001392</td>\n",
       "    </tr>\n",
       "    <tr>\n",
       "      <th rowspan=\"2\" valign=\"top\">True</th>\n",
       "      <th>ealstm</th>\n",
       "      <td>3.000</td>\n",
       "      <td>0.942158</td>\n",
       "      <td>0.684236</td>\n",
       "      <td>0.719334</td>\n",
       "      <td>-1.419325</td>\n",
       "      <td>NaN</td>\n",
       "      <td>NaN</td>\n",
       "      <td>NaN</td>\n",
       "    </tr>\n",
       "    <tr>\n",
       "      <th>xgboost</th>\n",
       "      <td>5.000</td>\n",
       "      <td>0.907671</td>\n",
       "      <td>0.595636</td>\n",
       "      <td>0.636779</td>\n",
       "      <td>-1.750687</td>\n",
       "      <td>NaN</td>\n",
       "      <td>NaN</td>\n",
       "      <td>NaN</td>\n",
       "    </tr>\n",
       "    <tr>\n",
       "      <th rowspan=\"20\" valign=\"top\">9</th>\n",
       "      <th rowspan=\"4\" valign=\"top\">13</th>\n",
       "      <th rowspan=\"2\" valign=\"top\">False</th>\n",
       "      <th>ealstm</th>\n",
       "      <td>0.050</td>\n",
       "      <td>0.811064</td>\n",
       "      <td>0.465839</td>\n",
       "      <td>0.484999</td>\n",
       "      <td>-0.300032</td>\n",
       "      <td>0.217945</td>\n",
       "      <td>0.049645</td>\n",
       "      <td>0.069644</td>\n",
       "    </tr>\n",
       "    <tr>\n",
       "      <th>xgboost</th>\n",
       "      <td>0.400</td>\n",
       "      <td>0.782670</td>\n",
       "      <td>0.471406</td>\n",
       "      <td>0.504808</td>\n",
       "      <td>-0.678141</td>\n",
       "      <td>0.800000</td>\n",
       "      <td>0.021196</td>\n",
       "      <td>0.052652</td>\n",
       "    </tr>\n",
       "    <tr>\n",
       "      <th rowspan=\"2\" valign=\"top\">True</th>\n",
       "      <th>ealstm</th>\n",
       "      <td>0.000</td>\n",
       "      <td>0.805370</td>\n",
       "      <td>0.496790</td>\n",
       "      <td>0.516359</td>\n",
       "      <td>0.082297</td>\n",
       "      <td>NaN</td>\n",
       "      <td>NaN</td>\n",
       "      <td>NaN</td>\n",
       "    </tr>\n",
       "    <tr>\n",
       "      <th>xgboost</th>\n",
       "      <td>2.000</td>\n",
       "      <td>0.777658</td>\n",
       "      <td>0.479068</td>\n",
       "      <td>0.514889</td>\n",
       "      <td>-0.303481</td>\n",
       "      <td>NaN</td>\n",
       "      <td>NaN</td>\n",
       "      <td>NaN</td>\n",
       "    </tr>\n",
       "    <tr>\n",
       "      <th rowspan=\"4\" valign=\"top\">26</th>\n",
       "      <th rowspan=\"2\" valign=\"top\">False</th>\n",
       "      <th>ealstm</th>\n",
       "      <td>0.225</td>\n",
       "      <td>0.889975</td>\n",
       "      <td>0.539954</td>\n",
       "      <td>0.577576</td>\n",
       "      <td>-0.360043</td>\n",
       "      <td>0.417582</td>\n",
       "      <td>0.048211</td>\n",
       "      <td>0.050639</td>\n",
       "    </tr>\n",
       "    <tr>\n",
       "      <th>xgboost</th>\n",
       "      <td>0.675</td>\n",
       "      <td>0.812857</td>\n",
       "      <td>0.499519</td>\n",
       "      <td>0.556974</td>\n",
       "      <td>-3.713112</td>\n",
       "      <td>0.519013</td>\n",
       "      <td>0.037052</td>\n",
       "      <td>0.025072</td>\n",
       "    </tr>\n",
       "    <tr>\n",
       "      <th rowspan=\"2\" valign=\"top\">True</th>\n",
       "      <th>ealstm</th>\n",
       "      <td>1.000</td>\n",
       "      <td>0.892473</td>\n",
       "      <td>0.570534</td>\n",
       "      <td>0.604552</td>\n",
       "      <td>-0.063569</td>\n",
       "      <td>NaN</td>\n",
       "      <td>NaN</td>\n",
       "      <td>NaN</td>\n",
       "    </tr>\n",
       "    <tr>\n",
       "      <th>xgboost</th>\n",
       "      <td>3.000</td>\n",
       "      <td>0.806738</td>\n",
       "      <td>0.510096</td>\n",
       "      <td>0.566572</td>\n",
       "      <td>-2.405994</td>\n",
       "      <td>NaN</td>\n",
       "      <td>NaN</td>\n",
       "      <td>NaN</td>\n",
       "    </tr>\n",
       "    <tr>\n",
       "      <th rowspan=\"4\" valign=\"top\">53</th>\n",
       "      <th rowspan=\"2\" valign=\"top\">False</th>\n",
       "      <th>ealstm</th>\n",
       "      <td>0.225</td>\n",
       "      <td>0.910975</td>\n",
       "      <td>0.602126</td>\n",
       "      <td>0.640402</td>\n",
       "      <td>-1.239564</td>\n",
       "      <td>0.417582</td>\n",
       "      <td>0.031511</td>\n",
       "      <td>0.033180</td>\n",
       "    </tr>\n",
       "    <tr>\n",
       "      <th>xgboost</th>\n",
       "      <td>0.650</td>\n",
       "      <td>0.893857</td>\n",
       "      <td>0.566804</td>\n",
       "      <td>0.602022</td>\n",
       "      <td>-2.180518</td>\n",
       "      <td>1.152172</td>\n",
       "      <td>0.045245</td>\n",
       "      <td>0.016658</td>\n",
       "    </tr>\n",
       "    <tr>\n",
       "      <th rowspan=\"2\" valign=\"top\">True</th>\n",
       "      <th>ealstm</th>\n",
       "      <td>1.000</td>\n",
       "      <td>0.917522</td>\n",
       "      <td>0.632637</td>\n",
       "      <td>0.669767</td>\n",
       "      <td>-0.029655</td>\n",
       "      <td>NaN</td>\n",
       "      <td>NaN</td>\n",
       "      <td>NaN</td>\n",
       "    </tr>\n",
       "    <tr>\n",
       "      <th>xgboost</th>\n",
       "      <td>3.000</td>\n",
       "      <td>0.894185</td>\n",
       "      <td>0.576258</td>\n",
       "      <td>0.609782</td>\n",
       "      <td>-1.220987</td>\n",
       "      <td>NaN</td>\n",
       "      <td>NaN</td>\n",
       "      <td>NaN</td>\n",
       "    </tr>\n",
       "    <tr>\n",
       "      <th rowspan=\"4\" valign=\"top\">265</th>\n",
       "      <th rowspan=\"2\" valign=\"top\">False</th>\n",
       "      <th>ealstm</th>\n",
       "      <td>1.600</td>\n",
       "      <td>0.955446</td>\n",
       "      <td>0.651419</td>\n",
       "      <td>0.701706</td>\n",
       "      <td>-59.894877</td>\n",
       "      <td>2.764055</td>\n",
       "      <td>0.055390</td>\n",
       "      <td>0.010404</td>\n",
       "    </tr>\n",
       "    <tr>\n",
       "      <th>xgboost</th>\n",
       "      <td>3.925</td>\n",
       "      <td>0.906802</td>\n",
       "      <td>0.592418</td>\n",
       "      <td>0.643694</td>\n",
       "      <td>-6.046382</td>\n",
       "      <td>1.034106</td>\n",
       "      <td>0.008042</td>\n",
       "      <td>0.005121</td>\n",
       "    </tr>\n",
       "    <tr>\n",
       "      <th rowspan=\"2\" valign=\"top\">True</th>\n",
       "      <th>ealstm</th>\n",
       "      <td>4.000</td>\n",
       "      <td>0.955251</td>\n",
       "      <td>0.689459</td>\n",
       "      <td>0.726104</td>\n",
       "      <td>-0.805657</td>\n",
       "      <td>NaN</td>\n",
       "      <td>NaN</td>\n",
       "      <td>NaN</td>\n",
       "    </tr>\n",
       "    <tr>\n",
       "      <th>xgboost</th>\n",
       "      <td>19.000</td>\n",
       "      <td>0.907741</td>\n",
       "      <td>0.602395</td>\n",
       "      <td>0.649422</td>\n",
       "      <td>-4.909284</td>\n",
       "      <td>NaN</td>\n",
       "      <td>NaN</td>\n",
       "      <td>NaN</td>\n",
       "    </tr>\n",
       "    <tr>\n",
       "      <th rowspan=\"4\" valign=\"top\">531</th>\n",
       "      <th rowspan=\"2\" valign=\"top\">False</th>\n",
       "      <th>ealstm</th>\n",
       "      <td>2.625</td>\n",
       "      <td>0.949444</td>\n",
       "      <td>0.671937</td>\n",
       "      <td>0.711044</td>\n",
       "      <td>-4.301371</td>\n",
       "      <td>0.992157</td>\n",
       "      <td>0.004913</td>\n",
       "      <td>0.005013</td>\n",
       "    </tr>\n",
       "    <tr>\n",
       "      <th>xgboost</th>\n",
       "      <td>5.875</td>\n",
       "      <td>0.912840</td>\n",
       "      <td>0.609623</td>\n",
       "      <td>0.653140</td>\n",
       "      <td>-1.836774</td>\n",
       "      <td>0.330719</td>\n",
       "      <td>0.001714</td>\n",
       "      <td>0.002286</td>\n",
       "    </tr>\n",
       "    <tr>\n",
       "      <th rowspan=\"2\" valign=\"top\">True</th>\n",
       "      <th>ealstm</th>\n",
       "      <td>2.000</td>\n",
       "      <td>0.950105</td>\n",
       "      <td>0.702461</td>\n",
       "      <td>0.736502</td>\n",
       "      <td>-1.098293</td>\n",
       "      <td>NaN</td>\n",
       "      <td>NaN</td>\n",
       "      <td>NaN</td>\n",
       "    </tr>\n",
       "    <tr>\n",
       "      <th>xgboost</th>\n",
       "      <td>6.000</td>\n",
       "      <td>0.914729</td>\n",
       "      <td>0.619139</td>\n",
       "      <td>0.658524</td>\n",
       "      <td>-1.206037</td>\n",
       "      <td>NaN</td>\n",
       "      <td>NaN</td>\n",
       "      <td>NaN</td>\n",
       "    </tr>\n",
       "  </tbody>\n",
       "</table>\n",
       "</div>"
      ],
      "text/plain": [
       "                                          failures       max      mean  \\\n",
       "training_years n_basins ensemble model                                   \n",
       "3              13       False    ealstm      2.100  0.596818  0.114757   \n",
       "                                 xgboost     0.225  0.621599  0.301178   \n",
       "                        True     ealstm      8.000  0.544058  0.147755   \n",
       "                                 xgboost     1.000  0.605091  0.306206   \n",
       "               26       False    ealstm      1.425  0.637282  0.264800   \n",
       "                                 xgboost     0.725  0.742831  0.348929   \n",
       "                        True     ealstm      1.000  0.562238  0.299730   \n",
       "                                 xgboost     3.000  0.734580  0.357131   \n",
       "               53       False    ealstm      0.750  0.832208  0.430060   \n",
       "                                 xgboost     1.025  0.807143  0.438127   \n",
       "                        True     ealstm      1.000  0.805019  0.462638   \n",
       "                                 xgboost     5.000  0.805987  0.444821   \n",
       "               265      False    ealstm      2.350  0.910680  0.562408   \n",
       "                                 xgboost     4.825  0.846713  0.500750   \n",
       "                        True     ealstm      2.000  0.899358  0.600707   \n",
       "                                 xgboost    24.000  0.843507  0.509154   \n",
       "               531      False    ealstm      2.500  0.920291  0.597223   \n",
       "                                 xgboost     8.000  0.873397  0.520881   \n",
       "                        True     ealstm      0.000  0.927415  0.636011   \n",
       "                                 xgboost     8.000  0.873458  0.528879   \n",
       "6              13       False    ealstm      0.150  0.757458  0.386905   \n",
       "                                 xgboost     0.550  0.749935  0.427680   \n",
       "                        True     ealstm      1.000  0.680722  0.418537   \n",
       "                                 xgboost     3.000  0.743535  0.435575   \n",
       "               26       False    ealstm      0.450  0.819527  0.476888   \n",
       "                                 xgboost     0.875  0.782179  0.446945   \n",
       "                        True     ealstm      1.000  0.805620  0.515597   \n",
       "                                 xgboost     4.000  0.775792  0.460361   \n",
       "               53       False    ealstm      0.350  0.891978  0.563458   \n",
       "                                 xgboost     0.700  0.863569  0.538368   \n",
       "                        True     ealstm      0.000  0.892949  0.594758   \n",
       "                                 xgboost     2.000  0.861374  0.546825   \n",
       "               265      False    ealstm      1.925  0.927027  0.636164   \n",
       "                                 xgboost     4.050  0.901775  0.568214   \n",
       "                        True     ealstm      6.000  0.942785  0.668031   \n",
       "                                 xgboost    18.000  0.901416  0.577949   \n",
       "               531      False    ealstm      3.500  0.931685  0.651181   \n",
       "                                 xgboost     5.375  0.906579  0.586254   \n",
       "                        True     ealstm      3.000  0.942158  0.684236   \n",
       "                                 xgboost     5.000  0.907671  0.595636   \n",
       "9              13       False    ealstm      0.050  0.811064  0.465839   \n",
       "                                 xgboost     0.400  0.782670  0.471406   \n",
       "                        True     ealstm      0.000  0.805370  0.496790   \n",
       "                                 xgboost     2.000  0.777658  0.479068   \n",
       "               26       False    ealstm      0.225  0.889975  0.539954   \n",
       "                                 xgboost     0.675  0.812857  0.499519   \n",
       "                        True     ealstm      1.000  0.892473  0.570534   \n",
       "                                 xgboost     3.000  0.806738  0.510096   \n",
       "               53       False    ealstm      0.225  0.910975  0.602126   \n",
       "                                 xgboost     0.650  0.893857  0.566804   \n",
       "                        True     ealstm      1.000  0.917522  0.632637   \n",
       "                                 xgboost     3.000  0.894185  0.576258   \n",
       "               265      False    ealstm      1.600  0.955446  0.651419   \n",
       "                                 xgboost     3.925  0.906802  0.592418   \n",
       "                        True     ealstm      4.000  0.955251  0.689459   \n",
       "                                 xgboost    19.000  0.907741  0.602395   \n",
       "               531      False    ealstm      2.625  0.949444  0.671937   \n",
       "                                 xgboost     5.875  0.912840  0.609623   \n",
       "                        True     ealstm      2.000  0.950105  0.702461   \n",
       "                                 xgboost     6.000  0.914729  0.619139   \n",
       "\n",
       "                                            median        min  std_failures  \\\n",
       "training_years n_basins ensemble model                                        \n",
       "3              13       False    ealstm   0.150652  -1.397067      1.729162   \n",
       "                                 xgboost  0.319213  -0.559515      0.473682   \n",
       "                        True     ealstm   0.156288  -0.260149           NaN   \n",
       "                                 xgboost  0.324908  -0.431334           NaN   \n",
       "               26       False    ealstm   0.280765  -1.297110      1.376363   \n",
       "                                 xgboost  0.394060  -3.667734      0.446514   \n",
       "                        True     ealstm   0.307008  -0.086306           NaN   \n",
       "                                 xgboost  0.401660  -2.039548           NaN   \n",
       "               53       False    ealstm   0.452478  -1.015852      0.798436   \n",
       "                                 xgboost  0.466102  -2.553632      1.083686   \n",
       "                        True     ealstm   0.483833  -0.118457           NaN   \n",
       "                                 xgboost  0.471337  -1.652938           NaN   \n",
       "               265      False    ealstm   0.606922  -5.795502      1.696320   \n",
       "                                 xgboost  0.541381  -2.356411      1.531135   \n",
       "                        True     ealstm   0.639357  -0.233172           NaN   \n",
       "                                 xgboost  0.549233  -1.924580           NaN   \n",
       "               531      False    ealstm   0.640739  -2.283731      1.500000   \n",
       "                                 xgboost  0.560167  -1.794076      0.866025   \n",
       "                        True     ealstm   0.680531   0.031266           NaN   \n",
       "                                 xgboost  0.568288  -1.341143           NaN   \n",
       "6              13       False    ealstm   0.406100  -0.483846      0.357071   \n",
       "                                 xgboost  0.471717  -0.605717      0.739932   \n",
       "                        True     ealstm   0.439171  -0.073807           NaN   \n",
       "                                 xgboost  0.486578  -0.365288           NaN   \n",
       "               26       False    ealstm   0.507236  -0.236959      0.630476   \n",
       "                                 xgboost  0.515710  -5.050832      0.399218   \n",
       "                        True     ealstm   0.544026  -0.046617           NaN   \n",
       "                                 xgboost  0.528359  -4.144493           NaN   \n",
       "               53       False    ealstm   0.598802  -0.188340      0.526783   \n",
       "                                 xgboost  0.569118  -1.455187      1.288410   \n",
       "                        True     ealstm   0.625090   0.063587           NaN   \n",
       "                                 xgboost  0.578642  -1.146967           NaN   \n",
       "               265      False    ealstm   0.680973  -2.941916      1.191375   \n",
       "                                 xgboost  0.617444  -4.960132      1.223724   \n",
       "                        True     ealstm   0.707801  -0.200890           NaN   \n",
       "                                 xgboost  0.625611  -3.078965           NaN   \n",
       "               531      False    ealstm   0.692963  -4.838903      1.224745   \n",
       "                                 xgboost  0.629535  -2.590614      0.695971   \n",
       "                        True     ealstm   0.719334  -1.419325           NaN   \n",
       "                                 xgboost  0.636779  -1.750687           NaN   \n",
       "9              13       False    ealstm   0.484999  -0.300032      0.217945   \n",
       "                                 xgboost  0.504808  -0.678141      0.800000   \n",
       "                        True     ealstm   0.516359   0.082297           NaN   \n",
       "                                 xgboost  0.514889  -0.303481           NaN   \n",
       "               26       False    ealstm   0.577576  -0.360043      0.417582   \n",
       "                                 xgboost  0.556974  -3.713112      0.519013   \n",
       "                        True     ealstm   0.604552  -0.063569           NaN   \n",
       "                                 xgboost  0.566572  -2.405994           NaN   \n",
       "               53       False    ealstm   0.640402  -1.239564      0.417582   \n",
       "                                 xgboost  0.602022  -2.180518      1.152172   \n",
       "                        True     ealstm   0.669767  -0.029655           NaN   \n",
       "                                 xgboost  0.609782  -1.220987           NaN   \n",
       "               265      False    ealstm   0.701706 -59.894877      2.764055   \n",
       "                                 xgboost  0.643694  -6.046382      1.034106   \n",
       "                        True     ealstm   0.726104  -0.805657           NaN   \n",
       "                                 xgboost  0.649422  -4.909284           NaN   \n",
       "               531      False    ealstm   0.711044  -4.301371      0.992157   \n",
       "                                 xgboost  0.653140  -1.836774      0.330719   \n",
       "                        True     ealstm   0.736502  -1.098293           NaN   \n",
       "                                 xgboost  0.658524  -1.206037           NaN   \n",
       "\n",
       "                                          std_mean  std_median  \n",
       "training_years n_basins ensemble model                          \n",
       "3              13       False    ealstm   0.102366    0.064668  \n",
       "                                 xgboost  0.024938    0.057407  \n",
       "                        True     ealstm        NaN         NaN  \n",
       "                                 xgboost       NaN         NaN  \n",
       "               26       False    ealstm   0.079462    0.080827  \n",
       "                                 xgboost  0.032001    0.024937  \n",
       "                        True     ealstm        NaN         NaN  \n",
       "                                 xgboost       NaN         NaN  \n",
       "               53       False    ealstm   0.051949    0.051083  \n",
       "                                 xgboost  0.041171    0.024117  \n",
       "                        True     ealstm        NaN         NaN  \n",
       "                                 xgboost       NaN         NaN  \n",
       "               265      False    ealstm   0.020283    0.018051  \n",
       "                                 xgboost  0.008807    0.008421  \n",
       "                        True     ealstm        NaN         NaN  \n",
       "                                 xgboost       NaN         NaN  \n",
       "               531      False    ealstm   0.008643    0.009626  \n",
       "                                 xgboost  0.002773    0.003061  \n",
       "                        True     ealstm        NaN         NaN  \n",
       "                                 xgboost       NaN         NaN  \n",
       "6              13       False    ealstm   0.056523    0.072477  \n",
       "                                 xgboost  0.038360    0.047368  \n",
       "                        True     ealstm        NaN         NaN  \n",
       "                                 xgboost       NaN         NaN  \n",
       "               26       False    ealstm   0.055365    0.056916  \n",
       "                                 xgboost  0.059603    0.036497  \n",
       "                        True     ealstm        NaN         NaN  \n",
       "                                 xgboost       NaN         NaN  \n",
       "               53       False    ealstm   0.045751    0.040695  \n",
       "                                 xgboost  0.039537    0.023642  \n",
       "                        True     ealstm        NaN         NaN  \n",
       "                                 xgboost       NaN         NaN  \n",
       "               265      False    ealstm   0.011833    0.009538  \n",
       "                                 xgboost  0.005173    0.005388  \n",
       "                        True     ealstm        NaN         NaN  \n",
       "                                 xgboost       NaN         NaN  \n",
       "               531      False    ealstm   0.006867    0.006241  \n",
       "                                 xgboost  0.002445    0.001392  \n",
       "                        True     ealstm        NaN         NaN  \n",
       "                                 xgboost       NaN         NaN  \n",
       "9              13       False    ealstm   0.049645    0.069644  \n",
       "                                 xgboost  0.021196    0.052652  \n",
       "                        True     ealstm        NaN         NaN  \n",
       "                                 xgboost       NaN         NaN  \n",
       "               26       False    ealstm   0.048211    0.050639  \n",
       "                                 xgboost  0.037052    0.025072  \n",
       "                        True     ealstm        NaN         NaN  \n",
       "                                 xgboost       NaN         NaN  \n",
       "               53       False    ealstm   0.031511    0.033180  \n",
       "                                 xgboost  0.045245    0.016658  \n",
       "                        True     ealstm        NaN         NaN  \n",
       "                                 xgboost       NaN         NaN  \n",
       "               265      False    ealstm   0.055390    0.010404  \n",
       "                                 xgboost  0.008042    0.005121  \n",
       "                        True     ealstm        NaN         NaN  \n",
       "                                 xgboost       NaN         NaN  \n",
       "               531      False    ealstm   0.004913    0.005013  \n",
       "                                 xgboost  0.001714    0.002286  \n",
       "                        True     ealstm        NaN         NaN  \n",
       "                                 xgboost       NaN         NaN  "
      ]
     },
     "execution_count": 8,
     "metadata": {},
     "output_type": "execute_result"
    }
   ],
   "source": [
    "data = []\n",
    "for model in model_specs_gridEvaluation['models']:\n",
    "    for training_years, n_basins in itertools.product(model_specs_gridEvaluation['training_years'], \n",
    "                                                      model_specs_gridEvaluation['n_basins']):\n",
    "        ensemble_nses = []\n",
    "        means, medians, failures, mins, maxs = [], [], [], [], []\n",
    "        for basin_subset in model_specs_gridEvaluation['basin_subsets'][n_basins]:\n",
    "            models = all_metrics['NSE'][model][training_years][basin_subset]\n",
    "            seeds = [k for k in models.keys() if \"seed\" in k]\n",
    "            if len(seeds) == 0:\n",
    "                print(f\"No data for {model}, {training_years} years, {n_basins} basins (subset no. {basin_subset})\")\n",
    "                continue\n",
    "            for seed in seeds:\n",
    "                values = list(models[seed].values())\n",
    "                mins.append(np.min(values))\n",
    "                maxs.append(np.max(values))\n",
    "                means.append(np.mean(values))\n",
    "                medians.append(np.median(values))\n",
    "                failures.append(len([v for v in values if v <= 0]))\n",
    "            ensemble_nses += list(models[\"ensemble\"].values())\n",
    "            \n",
    "        data_sing = {'model': model, \n",
    "                     'training_years': training_years,\n",
    "                     'n_basins': n_basins,\n",
    "                     'ensemble': False, \n",
    "                     'min': np.min(mins), \n",
    "                     'max': np.max(maxs), \n",
    "                     'mean': np.mean(means), \n",
    "                     'std_mean': np.std(means),\n",
    "                     'median': np.mean(medians),\n",
    "                     'std_median': np.std(medians),\n",
    "                     'failures': np.mean(failures),\n",
    "                     'std_failures': np.std(failures)}\n",
    "        data.append(data_sing)\n",
    "        data_ensemble = {'model': model, \n",
    "                         'training_years': training_years,\n",
    "                         'n_basins': n_basins,\n",
    "                         'ensemble': True,\n",
    "                         'min': np.min(ensemble_nses),\n",
    "                         'max': np.max(ensemble_nses),\n",
    "                         'mean': np.mean(ensemble_nses),\n",
    "                         'median': np.median(ensemble_nses),\n",
    "                         'failures': len([v for v in ensemble_nses if v <= 0]) }\n",
    "        data.append(data_ensemble)\n",
    "\n",
    "df = pd.DataFrame(data)\n",
    "df = df.set_index(keys=[\"training_years\", \"n_basins\", \"ensemble\", \"model\"])\n",
    "df.sort_values(by=[\"training_years\",\"n_basins\", \"ensemble\", \"model\"], inplace=True)\n",
    "df"
   ]
  },
  {
   "cell_type": "markdown",
   "metadata": {},
   "source": [
    "## Calculate statistical significance.\n",
    "\n",
    "Calculate statistical significance between XGBoost and EA-LSTM."
   ]
  },
  {
   "cell_type": "code",
   "execution_count": 10,
   "metadata": {},
   "outputs": [
    {
     "name": "stdout",
     "output_type": "stream",
     "text": [
      "3 training years, 13 basins\n",
      "For ensemble mean 1.06e-09\n",
      "Effect size: Ensemble mean d=1.010\n",
      "3 training years, 26 basins\n",
      "For ensemble mean 3.76e-10\n",
      "Effect size: Ensemble mean d=0.262\n",
      "3 training years, 53 basins\n",
      "For ensemble mean 3.35e-03\n",
      "Effect size: Ensemble mean d=0.101\n",
      "3 training years, 265 basins\n",
      "For ensemble mean 6.88e-154\n",
      "Effect size: Ensemble mean d=0.457\n",
      "3 training years, 531 basins\n",
      "For ensemble mean 2.26e-73\n",
      "Effect size: Ensemble mean d=0.579\n",
      "6 training years, 13 basins\n",
      "For ensemble mean 2.02e-02\n",
      "Effect size: Ensemble mean d=0.099\n",
      "6 training years, 26 basins\n",
      "For ensemble mean 4.34e-03\n",
      "Effect size: Ensemble mean d=0.169\n",
      "6 training years, 53 basins\n",
      "For ensemble mean 1.89e-17\n",
      "Effect size: Ensemble mean d=0.287\n",
      "6 training years, 265 basins\n",
      "For ensemble mean 5.72e-153\n",
      "Effect size: Ensemble mean d=0.424\n",
      "6 training years, 531 basins\n",
      "For ensemble mean 5.78e-70\n",
      "Effect size: Ensemble mean d=0.463\n",
      "9 training years, 13 basins\n",
      "For ensemble mean 4.58e-01\n",
      "Effect size: Ensemble mean d=0.110\n",
      "9 training years, 26 basins\n",
      "For ensemble mean 1.11e-08\n",
      "Effect size: Ensemble mean d=0.244\n",
      "9 training years, 53 basins\n",
      "For ensemble mean 3.07e-21\n",
      "Effect size: Ensemble mean d=0.326\n",
      "9 training years, 265 basins\n",
      "For ensemble mean 3.62e-159\n",
      "Effect size: Ensemble mean d=0.384\n",
      "9 training years, 531 basins\n",
      "For ensemble mean 1.57e-69\n",
      "Effect size: Ensemble mean d=0.453\n"
     ]
    }
   ],
   "source": [
    "p_values = {}\n",
    "d_values = {}\n",
    "for training_years in model_specs_gridEvaluation['training_years']:\n",
    "    p_values[training_years] = {}\n",
    "    d_values[training_years] = {}\n",
    "    for n_basins in model_specs_gridEvaluation['n_basins']:\n",
    "        print(f\"{training_years} training years, {n_basins} basins\")\n",
    "        \n",
    "        basin_subsets = model_specs_gridEvaluation[\"basin_subsets\"][n_basins]\n",
    "        xgb_nses = list(all_metrics['NSE'][\"xgboost\"][training_years][s][\"ensemble\"].values() for s in basin_subsets)\n",
    "        xgb_nses = [y for x in xgb_nses for y in x]  # flatten\n",
    "        ealstm_nses = list(all_metrics['NSE'][\"ealstm\"][training_years][s][\"ensemble\"].values() for s in basin_subsets)\n",
    "        ealstm_nses = [y for x in ealstm_nses for y in x]  # flatten\n",
    "        \n",
    "        _, p_val_ensemble = wilcoxon(xgb_nses, ealstm_nses)\n",
    "        print(f\"For ensemble mean {p_val_ensemble:.2e}\")\n",
    "        \n",
    "        d_ensemble = get_cohens_d(xgb_nses, ealstm_nses)\n",
    "        print(f\"Effect size: Ensemble mean d={d_ensemble:.3f}\")\n",
    "        \n",
    "        p_values[training_years][n_basins] = p_val_ensemble\n",
    "        d_values[training_years][n_basins] = d_ensemble"
   ]
  },
  {
   "cell_type": "markdown",
   "metadata": {},
   "source": [
    "## Cumulative density function plot\n",
    "\n",
    "Here we look at the CDF of the NSEs for each of our 3*5 configurations."
   ]
  },
  {
   "cell_type": "code",
   "execution_count": 14,
   "metadata": {},
   "outputs": [
    {
     "data": {
      "image/png": "[encoded data removed]",
      "text/plain": [
       "<Figure size 864x504 with 15 Axes>"
      ]
     },
     "metadata": {
      "needs_background": "light"
     },
     "output_type": "display_data"
    }
   ],
   "source": [
    "fig, ax = plt.subplots(nrows=3, ncols=5, sharex=True, sharey=True, figsize=(12,7))\n",
    "\n",
    "for i, training_years in enumerate(model_specs_gridEvaluation['training_years']):\n",
    "    for j, n_basins in enumerate(model_specs_gridEvaluation['n_basins']):\n",
    "        ax[i,j].set_xlim(0, 1)\n",
    "        ax[i,j].set_ylim(0, 1)\n",
    "        \n",
    "        for model in model_specs_gridEvaluation['models']:\n",
    "            model_label = \"XGBoost\" if model == \"xgboost\" else (\"EA-LSTM\" if model == \"ealstm\" else model)\n",
    "            model_color = \"#1b9e77\" if model == \"xgboost\" else (\"#d95f02\" if model == \"ealstm\" else \"#000\")\n",
    "            values = []\n",
    "            for basin_subset in model_specs_gridEvaluation['basin_subsets'][n_basins]:\n",
    "                values += list(b.values() for b in all_metrics[\"NSE\"][model][training_years][basin_subset].values())\n",
    "            values = [y for x in values for y in x]  # flatten\n",
    "            bin_, cdf_ = ecdf(values)\n",
    "            ax[i,j].plot(bin_, cdf_,\n",
    "                         label=model_label, color=model_color)\n",
    "            p_val = p_values[training_years][n_basins]\n",
    "            d_val = d_values[training_years][n_basins]\n",
    "            ax[i,j].set_title(f\"{training_years} years, {n_basins} basins \\np-value={p_val:.2f}, d={d_val:.2f}\", loc='left', fontsize=12, fontweight=0)\n",
    "ax[0,0].legend(loc=\"lower right\")\n",
    "ax[2,2].set_xlabel('NSE')\n",
    "ax[1,0].set_ylabel('Cumulative density')\n",
    "fig.text(0.5, -0.02, 'Number of basins →', ha='center', va='center', fontsize=12)\n",
    "fig.text(-0.02, 0.5, '← Number of training years', ha='center', va='center', rotation='vertical', fontsize=12)\n",
    "fig.tight_layout()\n",
    "_ = plt.suptitle(\"XGBoost vs. EA-LSTM on different amounts of training data\", fontsize=13, fontweight=0, color='black', y=1.02)"
   ]
  },
  {
   "cell_type": "code",
   "execution_count": 5,
   "metadata": {},
   "outputs": [
    {
     "name": "stdout",
     "output_type": "stream",
     "text": [
      "Stored precomputed data in 'all_metrics_gridEvaluation.p'\n"
     ]
    }
   ],
   "source": [
    "if not PRECOMPUTED_DATA:\n",
    "    with open(BASE_RUN_DIR / \"all_metrics_gridEvaluation.p\", \"wb\") as fp:\n",
    "        pickle.dump(all_metrics, fp)\n",
    "    print(\"Stored precomputed data in 'all_metrics_gridEvaluation.p'\")"
   ]
  },
  {
   "cell_type": "code",
   "execution_count": 13,
   "metadata": {},
   "outputs": [
    {
     "data": {
      "text/html": [
       "<div>\n",
       "<style scoped>\n",
       "    .dataframe tbody tr th:only-of-type {\n",
       "        vertical-align: middle;\n",
       "    }\n",
       "\n",
       "    .dataframe tbody tr th {\n",
       "        vertical-align: top;\n",
       "    }\n",
       "\n",
       "    .dataframe thead th {\n",
       "        text-align: right;\n",
       "    }\n",
       "</style>\n",
       "<table border=\"1\" class=\"dataframe\">\n",
       "  <thead>\n",
       "    <tr style=\"text-align: right;\">\n",
       "      <th></th>\n",
       "      <th></th>\n",
       "      <th></th>\n",
       "      <th></th>\n",
       "      <th></th>\n",
       "      <th>FHV median</th>\n",
       "      <th>FLV median</th>\n",
       "      <th>FMS median</th>\n",
       "      <th>NSE mean</th>\n",
       "      <th>NSE median</th>\n",
       "      <th>alpha_nse median</th>\n",
       "      <th>beta_nse median</th>\n",
       "      <th>failures</th>\n",
       "    </tr>\n",
       "    <tr>\n",
       "      <th>training_years</th>\n",
       "      <th>n_basins</th>\n",
       "      <th>basin_subset</th>\n",
       "      <th>ensemble</th>\n",
       "      <th>model</th>\n",
       "      <th></th>\n",
       "      <th></th>\n",
       "      <th></th>\n",
       "      <th></th>\n",
       "      <th></th>\n",
       "      <th></th>\n",
       "      <th></th>\n",
       "      <th></th>\n",
       "    </tr>\n",
       "  </thead>\n",
       "  <tbody>\n",
       "    <tr>\n",
       "      <th rowspan=\"30\" valign=\"top\">3</th>\n",
       "      <th rowspan=\"10\" valign=\"top\">13</th>\n",
       "      <th rowspan=\"2\" valign=\"top\">16</th>\n",
       "      <th rowspan=\"2\" valign=\"top\">True</th>\n",
       "      <th>EA-LSTM</th>\n",
       "      <td>-76.132173</td>\n",
       "      <td>40.880673</td>\n",
       "      <td>-7.064288</td>\n",
       "      <td>0.143263</td>\n",
       "      <td>0.156288</td>\n",
       "      <td>0.245424</td>\n",
       "      <td>-0.241704</td>\n",
       "      <td>2</td>\n",
       "    </tr>\n",
       "    <tr>\n",
       "      <th>XGBoost</th>\n",
       "      <td>-66.616092</td>\n",
       "      <td>57.173220</td>\n",
       "      <td>-17.503397</td>\n",
       "      <td>0.268964</td>\n",
       "      <td>0.256873</td>\n",
       "      <td>0.322968</td>\n",
       "      <td>-0.171391</td>\n",
       "      <td>0</td>\n",
       "    </tr>\n",
       "    <tr>\n",
       "      <th rowspan=\"2\" valign=\"top\">17</th>\n",
       "      <th rowspan=\"2\" valign=\"top\">True</th>\n",
       "      <th>EA-LSTM</th>\n",
       "      <td>-83.224881</td>\n",
       "      <td>55.385314</td>\n",
       "      <td>-32.381579</td>\n",
       "      <td>0.070254</td>\n",
       "      <td>0.120861</td>\n",
       "      <td>0.211425</td>\n",
       "      <td>-0.248707</td>\n",
       "      <td>2</td>\n",
       "    </tr>\n",
       "    <tr>\n",
       "      <th>XGBoost</th>\n",
       "      <td>-66.710682</td>\n",
       "      <td>78.253518</td>\n",
       "      <td>-36.199602</td>\n",
       "      <td>0.297779</td>\n",
       "      <td>0.274098</td>\n",
       "      <td>0.326498</td>\n",
       "      <td>-0.083138</td>\n",
       "      <td>0</td>\n",
       "    </tr>\n",
       "    <tr>\n",
       "      <th rowspan=\"2\" valign=\"top\">18</th>\n",
       "      <th rowspan=\"2\" valign=\"top\">True</th>\n",
       "      <th>EA-LSTM</th>\n",
       "      <td>-76.485334</td>\n",
       "      <td>28.926126</td>\n",
       "      <td>-34.606947</td>\n",
       "      <td>0.220863</td>\n",
       "      <td>0.246034</td>\n",
       "      <td>0.307289</td>\n",
       "      <td>-0.142499</td>\n",
       "      <td>1</td>\n",
       "    </tr>\n",
       "    <tr>\n",
       "      <th>XGBoost</th>\n",
       "      <td>-64.319971</td>\n",
       "      <td>-13.559986</td>\n",
       "      <td>-30.358124</td>\n",
       "      <td>0.319753</td>\n",
       "      <td>0.296819</td>\n",
       "      <td>0.365189</td>\n",
       "      <td>-0.065685</td>\n",
       "      <td>0</td>\n",
       "    </tr>\n",
       "    <tr>\n",
       "      <th rowspan=\"2\" valign=\"top\">19</th>\n",
       "      <th rowspan=\"2\" valign=\"top\">True</th>\n",
       "      <th>EA-LSTM</th>\n",
       "      <td>-76.745154</td>\n",
       "      <td>50.035367</td>\n",
       "      <td>-39.801505</td>\n",
       "      <td>0.220451</td>\n",
       "      <td>0.219641</td>\n",
       "      <td>0.291006</td>\n",
       "      <td>-0.165892</td>\n",
       "      <td>0</td>\n",
       "    </tr>\n",
       "    <tr>\n",
       "      <th>XGBoost</th>\n",
       "      <td>-60.882933</td>\n",
       "      <td>40.492599</td>\n",
       "      <td>-19.068273</td>\n",
       "      <td>0.341739</td>\n",
       "      <td>0.385460</td>\n",
       "      <td>0.423051</td>\n",
       "      <td>-0.113960</td>\n",
       "      <td>0</td>\n",
       "    </tr>\n",
       "    <tr>\n",
       "      <th rowspan=\"2\" valign=\"top\">20</th>\n",
       "      <th rowspan=\"2\" valign=\"top\">True</th>\n",
       "      <th>EA-LSTM</th>\n",
       "      <td>-79.238823</td>\n",
       "      <td>19.099648</td>\n",
       "      <td>-38.944420</td>\n",
       "      <td>0.083943</td>\n",
       "      <td>0.173834</td>\n",
       "      <td>0.254292</td>\n",
       "      <td>-0.178971</td>\n",
       "      <td>3</td>\n",
       "    </tr>\n",
       "    <tr>\n",
       "      <th>XGBoost</th>\n",
       "      <td>-56.211224</td>\n",
       "      <td>52.307292</td>\n",
       "      <td>-24.980372</td>\n",
       "      <td>0.302795</td>\n",
       "      <td>0.403225</td>\n",
       "      <td>0.423424</td>\n",
       "      <td>-0.076644</td>\n",
       "      <td>1</td>\n",
       "    </tr>\n",
       "    <tr>\n",
       "      <th rowspan=\"10\" valign=\"top\">26</th>\n",
       "      <th rowspan=\"2\" valign=\"top\">11</th>\n",
       "      <th rowspan=\"2\" valign=\"top\">True</th>\n",
       "      <th>EA-LSTM</th>\n",
       "      <td>-64.926029</td>\n",
       "      <td>66.365148</td>\n",
       "      <td>-36.392907</td>\n",
       "      <td>0.266254</td>\n",
       "      <td>0.306571</td>\n",
       "      <td>0.366881</td>\n",
       "      <td>-0.157205</td>\n",
       "      <td>0</td>\n",
       "    </tr>\n",
       "    <tr>\n",
       "      <th>XGBoost</th>\n",
       "      <td>-55.896249</td>\n",
       "      <td>28.509062</td>\n",
       "      <td>-19.958477</td>\n",
       "      <td>0.361639</td>\n",
       "      <td>0.413597</td>\n",
       "      <td>0.471713</td>\n",
       "      <td>-0.113105</td>\n",
       "      <td>1</td>\n",
       "    </tr>\n",
       "    <tr>\n",
       "      <th rowspan=\"2\" valign=\"top\">12</th>\n",
       "      <th rowspan=\"2\" valign=\"top\">True</th>\n",
       "      <th>EA-LSTM</th>\n",
       "      <td>-54.669438</td>\n",
       "      <td>62.226942</td>\n",
       "      <td>-34.029949</td>\n",
       "      <td>0.379478</td>\n",
       "      <td>0.388314</td>\n",
       "      <td>0.461906</td>\n",
       "      <td>-0.096213</td>\n",
       "      <td>0</td>\n",
       "    </tr>\n",
       "    <tr>\n",
       "      <th>XGBoost</th>\n",
       "      <td>-51.107923</td>\n",
       "      <td>27.955271</td>\n",
       "      <td>-26.111570</td>\n",
       "      <td>0.361991</td>\n",
       "      <td>0.390703</td>\n",
       "      <td>0.502186</td>\n",
       "      <td>-0.056682</td>\n",
       "      <td>1</td>\n",
       "    </tr>\n",
       "    <tr>\n",
       "      <th rowspan=\"2\" valign=\"top\">13</th>\n",
       "      <th rowspan=\"2\" valign=\"top\">True</th>\n",
       "      <th>EA-LSTM</th>\n",
       "      <td>-62.760398</td>\n",
       "      <td>65.889296</td>\n",
       "      <td>-41.931440</td>\n",
       "      <td>0.297189</td>\n",
       "      <td>0.277996</td>\n",
       "      <td>0.340503</td>\n",
       "      <td>-0.102479</td>\n",
       "      <td>1</td>\n",
       "    </tr>\n",
       "    <tr>\n",
       "      <th>XGBoost</th>\n",
       "      <td>-55.433735</td>\n",
       "      <td>-106.207424</td>\n",
       "      <td>-28.644571</td>\n",
       "      <td>0.324606</td>\n",
       "      <td>0.422432</td>\n",
       "      <td>0.437592</td>\n",
       "      <td>-0.079729</td>\n",
       "      <td>1</td>\n",
       "    </tr>\n",
       "    <tr>\n",
       "      <th rowspan=\"2\" valign=\"top\">14</th>\n",
       "      <th rowspan=\"2\" valign=\"top\">True</th>\n",
       "      <th>EA-LSTM</th>\n",
       "      <td>-64.588574</td>\n",
       "      <td>56.155176</td>\n",
       "      <td>-35.854739</td>\n",
       "      <td>0.326649</td>\n",
       "      <td>0.339598</td>\n",
       "      <td>0.359586</td>\n",
       "      <td>-0.121578</td>\n",
       "      <td>0</td>\n",
       "    </tr>\n",
       "    <tr>\n",
       "      <th>XGBoost</th>\n",
       "      <td>-57.439035</td>\n",
       "      <td>17.717096</td>\n",
       "      <td>-25.879116</td>\n",
       "      <td>0.403314</td>\n",
       "      <td>0.403142</td>\n",
       "      <td>0.455429</td>\n",
       "      <td>-0.088966</td>\n",
       "      <td>0</td>\n",
       "    </tr>\n",
       "    <tr>\n",
       "      <th rowspan=\"2\" valign=\"top\">15</th>\n",
       "      <th rowspan=\"2\" valign=\"top\">True</th>\n",
       "      <th>EA-LSTM</th>\n",
       "      <td>-70.458729</td>\n",
       "      <td>46.420954</td>\n",
       "      <td>-40.531523</td>\n",
       "      <td>0.229077</td>\n",
       "      <td>0.215336</td>\n",
       "      <td>0.323671</td>\n",
       "      <td>-0.138721</td>\n",
       "      <td>0</td>\n",
       "    </tr>\n",
       "    <tr>\n",
       "      <th>XGBoost</th>\n",
       "      <td>-61.229783</td>\n",
       "      <td>-59.208426</td>\n",
       "      <td>-32.252403</td>\n",
       "      <td>0.334104</td>\n",
       "      <td>0.366713</td>\n",
       "      <td>0.410095</td>\n",
       "      <td>-0.082828</td>\n",
       "      <td>0</td>\n",
       "    </tr>\n",
       "    <tr>\n",
       "      <th rowspan=\"10\" valign=\"top\">53</th>\n",
       "      <th rowspan=\"2\" valign=\"top\">6</th>\n",
       "      <th rowspan=\"2\" valign=\"top\">True</th>\n",
       "      <th>EA-LSTM</th>\n",
       "      <td>-50.112745</td>\n",
       "      <td>64.439637</td>\n",
       "      <td>-36.632613</td>\n",
       "      <td>0.402337</td>\n",
       "      <td>0.426813</td>\n",
       "      <td>0.495830</td>\n",
       "      <td>-0.086322</td>\n",
       "      <td>1</td>\n",
       "    </tr>\n",
       "    <tr>\n",
       "      <th>XGBoost</th>\n",
       "      <td>-50.360174</td>\n",
       "      <td>-63.267588</td>\n",
       "      <td>-11.881162</td>\n",
       "      <td>0.372776</td>\n",
       "      <td>0.441748</td>\n",
       "      <td>0.522913</td>\n",
       "      <td>-0.080626</td>\n",
       "      <td>3</td>\n",
       "    </tr>\n",
       "    <tr>\n",
       "      <th rowspan=\"2\" valign=\"top\">7</th>\n",
       "      <th rowspan=\"2\" valign=\"top\">True</th>\n",
       "      <th>EA-LSTM</th>\n",
       "      <td>-42.894217</td>\n",
       "      <td>67.737679</td>\n",
       "      <td>-29.216723</td>\n",
       "      <td>0.499447</td>\n",
       "      <td>0.506424</td>\n",
       "      <td>0.584961</td>\n",
       "      <td>-0.087368</td>\n",
       "      <td>0</td>\n",
       "    </tr>\n",
       "    <tr>\n",
       "      <th>XGBoost</th>\n",
       "      <td>-47.386170</td>\n",
       "      <td>-125.975948</td>\n",
       "      <td>-23.633411</td>\n",
       "      <td>0.487848</td>\n",
       "      <td>0.488135</td>\n",
       "      <td>0.527304</td>\n",
       "      <td>-0.074840</td>\n",
       "      <td>0</td>\n",
       "    </tr>\n",
       "    <tr>\n",
       "      <th rowspan=\"2\" valign=\"top\">8</th>\n",
       "      <th rowspan=\"2\" valign=\"top\">True</th>\n",
       "      <th>EA-LSTM</th>\n",
       "      <td>-45.056339</td>\n",
       "      <td>18.625027</td>\n",
       "      <td>-23.203414</td>\n",
       "      <td>0.501825</td>\n",
       "      <td>0.508376</td>\n",
       "      <td>0.562833</td>\n",
       "      <td>-0.083070</td>\n",
       "      <td>0</td>\n",
       "    </tr>\n",
       "    <tr>\n",
       "      <th>XGBoost</th>\n",
       "      <td>-47.998350</td>\n",
       "      <td>-42.458319</td>\n",
       "      <td>-18.825525</td>\n",
       "      <td>0.465945</td>\n",
       "      <td>0.478396</td>\n",
       "      <td>0.510470</td>\n",
       "      <td>-0.070069</td>\n",
       "      <td>0</td>\n",
       "    </tr>\n",
       "    <tr>\n",
       "      <th rowspan=\"2\" valign=\"top\">9</th>\n",
       "      <th rowspan=\"2\" valign=\"top\">True</th>\n",
       "      <th>EA-LSTM</th>\n",
       "      <td>-52.685311</td>\n",
       "      <td>46.947656</td>\n",
       "      <td>-34.737674</td>\n",
       "      <td>0.455741</td>\n",
       "      <td>0.465532</td>\n",
       "      <td>0.532002</td>\n",
       "      <td>-0.078089</td>\n",
       "      <td>0</td>\n",
       "    </tr>\n",
       "    <tr>\n",
       "      <th>XGBoost</th>\n",
       "      <td>-50.844001</td>\n",
       "      <td>-1.885940</td>\n",
       "      <td>-17.271350</td>\n",
       "      <td>0.442092</td>\n",
       "      <td>0.441987</td>\n",
       "      <td>0.500674</td>\n",
       "      <td>-0.079683</td>\n",
       "      <td>1</td>\n",
       "    </tr>\n",
       "    <tr>\n",
       "      <th rowspan=\"2\" valign=\"top\">10</th>\n",
       "      <th rowspan=\"2\" valign=\"top\">True</th>\n",
       "      <th>EA-LSTM</th>\n",
       "      <td>-47.819991</td>\n",
       "      <td>52.005957</td>\n",
       "      <td>-33.793298</td>\n",
       "      <td>0.453839</td>\n",
       "      <td>0.502662</td>\n",
       "      <td>0.525680</td>\n",
       "      <td>-0.058155</td>\n",
       "      <td>0</td>\n",
       "    </tr>\n",
       "    <tr>\n",
       "      <th>XGBoost</th>\n",
       "      <td>-50.531399</td>\n",
       "      <td>-117.049176</td>\n",
       "      <td>-21.720951</td>\n",
       "      <td>0.455445</td>\n",
       "      <td>0.502367</td>\n",
       "      <td>0.510202</td>\n",
       "      <td>-0.068534</td>\n",
       "      <td>1</td>\n",
       "    </tr>\n",
       "    <tr>\n",
       "      <th>...</th>\n",
       "      <th>...</th>\n",
       "      <th>...</th>\n",
       "      <th>...</th>\n",
       "      <th>...</th>\n",
       "      <td>...</td>\n",
       "      <td>...</td>\n",
       "      <td>...</td>\n",
       "      <td>...</td>\n",
       "      <td>...</td>\n",
       "      <td>...</td>\n",
       "      <td>...</td>\n",
       "      <td>...</td>\n",
       "    </tr>\n",
       "    <tr>\n",
       "      <th rowspan=\"30\" valign=\"top\">9</th>\n",
       "      <th rowspan=\"8\" valign=\"top\">26</th>\n",
       "      <th rowspan=\"2\" valign=\"top\">12</th>\n",
       "      <th rowspan=\"2\" valign=\"top\">True</th>\n",
       "      <th>EA-LSTM</th>\n",
       "      <td>-28.087524</td>\n",
       "      <td>43.597607</td>\n",
       "      <td>-16.879492</td>\n",
       "      <td>0.607255</td>\n",
       "      <td>0.652095</td>\n",
       "      <td>0.710199</td>\n",
       "      <td>-0.030946</td>\n",
       "      <td>0</td>\n",
       "    </tr>\n",
       "    <tr>\n",
       "      <th>XGBoost</th>\n",
       "      <td>-29.107049</td>\n",
       "      <td>-157.452976</td>\n",
       "      <td>-10.952337</td>\n",
       "      <td>0.508555</td>\n",
       "      <td>0.563024</td>\n",
       "      <td>0.709736</td>\n",
       "      <td>-0.009831</td>\n",
       "      <td>1</td>\n",
       "    </tr>\n",
       "    <tr>\n",
       "      <th rowspan=\"2\" valign=\"top\">13</th>\n",
       "      <th rowspan=\"2\" valign=\"top\">True</th>\n",
       "      <th>EA-LSTM</th>\n",
       "      <td>-29.899328</td>\n",
       "      <td>43.776107</td>\n",
       "      <td>-27.956974</td>\n",
       "      <td>0.579150</td>\n",
       "      <td>0.626371</td>\n",
       "      <td>0.686687</td>\n",
       "      <td>-0.024601</td>\n",
       "      <td>1</td>\n",
       "    </tr>\n",
       "    <tr>\n",
       "      <th>XGBoost</th>\n",
       "      <td>-34.281963</td>\n",
       "      <td>-211.088347</td>\n",
       "      <td>-8.383491</td>\n",
       "      <td>0.459204</td>\n",
       "      <td>0.588440</td>\n",
       "      <td>0.700214</td>\n",
       "      <td>-0.017912</td>\n",
       "      <td>1</td>\n",
       "    </tr>\n",
       "    <tr>\n",
       "      <th rowspan=\"2\" valign=\"top\">14</th>\n",
       "      <th rowspan=\"2\" valign=\"top\">True</th>\n",
       "      <th>EA-LSTM</th>\n",
       "      <td>-23.788976</td>\n",
       "      <td>49.046977</td>\n",
       "      <td>-14.142964</td>\n",
       "      <td>0.615571</td>\n",
       "      <td>0.654071</td>\n",
       "      <td>0.702176</td>\n",
       "      <td>-0.014057</td>\n",
       "      <td>0</td>\n",
       "    </tr>\n",
       "    <tr>\n",
       "      <th>XGBoost</th>\n",
       "      <td>-33.192652</td>\n",
       "      <td>-266.121266</td>\n",
       "      <td>-18.239840</td>\n",
       "      <td>0.547098</td>\n",
       "      <td>0.578169</td>\n",
       "      <td>0.701561</td>\n",
       "      <td>-0.019473</td>\n",
       "      <td>1</td>\n",
       "    </tr>\n",
       "    <tr>\n",
       "      <th rowspan=\"2\" valign=\"top\">15</th>\n",
       "      <th rowspan=\"2\" valign=\"top\">True</th>\n",
       "      <th>EA-LSTM</th>\n",
       "      <td>-34.116292</td>\n",
       "      <td>32.138406</td>\n",
       "      <td>-29.450291</td>\n",
       "      <td>0.510430</td>\n",
       "      <td>0.576396</td>\n",
       "      <td>0.643943</td>\n",
       "      <td>-0.031799</td>\n",
       "      <td>0</td>\n",
       "    </tr>\n",
       "    <tr>\n",
       "      <th>XGBoost</th>\n",
       "      <td>-40.620746</td>\n",
       "      <td>-486.459804</td>\n",
       "      <td>-22.935505</td>\n",
       "      <td>0.493695</td>\n",
       "      <td>0.525073</td>\n",
       "      <td>0.630241</td>\n",
       "      <td>-0.031840</td>\n",
       "      <td>0</td>\n",
       "    </tr>\n",
       "    <tr>\n",
       "      <th rowspan=\"10\" valign=\"top\">53</th>\n",
       "      <th rowspan=\"2\" valign=\"top\">6</th>\n",
       "      <th rowspan=\"2\" valign=\"top\">True</th>\n",
       "      <th>EA-LSTM</th>\n",
       "      <td>-27.628843</td>\n",
       "      <td>48.578432</td>\n",
       "      <td>-20.220381</td>\n",
       "      <td>0.596604</td>\n",
       "      <td>0.631896</td>\n",
       "      <td>0.707568</td>\n",
       "      <td>-0.034065</td>\n",
       "      <td>1</td>\n",
       "    </tr>\n",
       "    <tr>\n",
       "      <th>XGBoost</th>\n",
       "      <td>-34.273511</td>\n",
       "      <td>-145.732261</td>\n",
       "      <td>-2.572890</td>\n",
       "      <td>0.499926</td>\n",
       "      <td>0.584375</td>\n",
       "      <td>0.708268</td>\n",
       "      <td>-0.040522</td>\n",
       "      <td>3</td>\n",
       "    </tr>\n",
       "    <tr>\n",
       "      <th rowspan=\"2\" valign=\"top\">7</th>\n",
       "      <th rowspan=\"2\" valign=\"top\">True</th>\n",
       "      <th>EA-LSTM</th>\n",
       "      <td>-28.205634</td>\n",
       "      <td>22.725944</td>\n",
       "      <td>-17.429132</td>\n",
       "      <td>0.640675</td>\n",
       "      <td>0.669767</td>\n",
       "      <td>0.708238</td>\n",
       "      <td>-0.043496</td>\n",
       "      <td>0</td>\n",
       "    </tr>\n",
       "    <tr>\n",
       "      <th>XGBoost</th>\n",
       "      <td>-32.495015</td>\n",
       "      <td>-393.437750</td>\n",
       "      <td>-5.978947</td>\n",
       "      <td>0.602508</td>\n",
       "      <td>0.612933</td>\n",
       "      <td>0.679757</td>\n",
       "      <td>-0.040507</td>\n",
       "      <td>0</td>\n",
       "    </tr>\n",
       "    <tr>\n",
       "      <th rowspan=\"2\" valign=\"top\">8</th>\n",
       "      <th rowspan=\"2\" valign=\"top\">True</th>\n",
       "      <th>EA-LSTM</th>\n",
       "      <td>-25.961028</td>\n",
       "      <td>20.961180</td>\n",
       "      <td>-18.462063</td>\n",
       "      <td>0.657234</td>\n",
       "      <td>0.678736</td>\n",
       "      <td>0.742411</td>\n",
       "      <td>-0.033470</td>\n",
       "      <td>0</td>\n",
       "    </tr>\n",
       "    <tr>\n",
       "      <th>XGBoost</th>\n",
       "      <td>-31.345180</td>\n",
       "      <td>-489.273098</td>\n",
       "      <td>-11.917205</td>\n",
       "      <td>0.615965</td>\n",
       "      <td>0.621527</td>\n",
       "      <td>0.692073</td>\n",
       "      <td>-0.034738</td>\n",
       "      <td>0</td>\n",
       "    </tr>\n",
       "    <tr>\n",
       "      <th rowspan=\"2\" valign=\"top\">9</th>\n",
       "      <th rowspan=\"2\" valign=\"top\">True</th>\n",
       "      <th>EA-LSTM</th>\n",
       "      <td>-25.243888</td>\n",
       "      <td>30.731261</td>\n",
       "      <td>-21.441916</td>\n",
       "      <td>0.633187</td>\n",
       "      <td>0.688500</td>\n",
       "      <td>0.765270</td>\n",
       "      <td>-0.016301</td>\n",
       "      <td>0</td>\n",
       "    </tr>\n",
       "    <tr>\n",
       "      <th>XGBoost</th>\n",
       "      <td>-32.919632</td>\n",
       "      <td>-156.020339</td>\n",
       "      <td>-9.327115</td>\n",
       "      <td>0.576230</td>\n",
       "      <td>0.613430</td>\n",
       "      <td>0.713938</td>\n",
       "      <td>-0.022578</td>\n",
       "      <td>0</td>\n",
       "    </tr>\n",
       "    <tr>\n",
       "      <th rowspan=\"2\" valign=\"top\">10</th>\n",
       "      <th rowspan=\"2\" valign=\"top\">True</th>\n",
       "      <th>EA-LSTM</th>\n",
       "      <td>-24.593847</td>\n",
       "      <td>44.919745</td>\n",
       "      <td>-22.311768</td>\n",
       "      <td>0.635486</td>\n",
       "      <td>0.674800</td>\n",
       "      <td>0.750012</td>\n",
       "      <td>-0.009674</td>\n",
       "      <td>0</td>\n",
       "    </tr>\n",
       "    <tr>\n",
       "      <th>XGBoost</th>\n",
       "      <td>-32.681354</td>\n",
       "      <td>-202.833729</td>\n",
       "      <td>-11.234494</td>\n",
       "      <td>0.586659</td>\n",
       "      <td>0.618757</td>\n",
       "      <td>0.673246</td>\n",
       "      <td>-0.030492</td>\n",
       "      <td>0</td>\n",
       "    </tr>\n",
       "    <tr>\n",
       "      <th rowspan=\"10\" valign=\"top\">265</th>\n",
       "      <th rowspan=\"2\" valign=\"top\">1</th>\n",
       "      <th rowspan=\"2\" valign=\"top\">True</th>\n",
       "      <th>EA-LSTM</th>\n",
       "      <td>-19.190300</td>\n",
       "      <td>39.592975</td>\n",
       "      <td>-13.646507</td>\n",
       "      <td>0.700492</td>\n",
       "      <td>0.729584</td>\n",
       "      <td>0.800263</td>\n",
       "      <td>-0.029740</td>\n",
       "      <td>1</td>\n",
       "    </tr>\n",
       "    <tr>\n",
       "      <th>XGBoost</th>\n",
       "      <td>-28.524719</td>\n",
       "      <td>-455.793669</td>\n",
       "      <td>-5.912705</td>\n",
       "      <td>0.597890</td>\n",
       "      <td>0.652977</td>\n",
       "      <td>0.725340</td>\n",
       "      <td>-0.022080</td>\n",
       "      <td>4</td>\n",
       "    </tr>\n",
       "    <tr>\n",
       "      <th rowspan=\"2\" valign=\"top\">2</th>\n",
       "      <th rowspan=\"2\" valign=\"top\">True</th>\n",
       "      <th>EA-LSTM</th>\n",
       "      <td>-19.303852</td>\n",
       "      <td>42.407059</td>\n",
       "      <td>-13.211486</td>\n",
       "      <td>0.690127</td>\n",
       "      <td>0.729470</td>\n",
       "      <td>0.799256</td>\n",
       "      <td>-0.029316</td>\n",
       "      <td>0</td>\n",
       "    </tr>\n",
       "    <tr>\n",
       "      <th>XGBoost</th>\n",
       "      <td>-28.331430</td>\n",
       "      <td>-368.762799</td>\n",
       "      <td>-7.469763</td>\n",
       "      <td>0.606245</td>\n",
       "      <td>0.650453</td>\n",
       "      <td>0.732950</td>\n",
       "      <td>-0.020821</td>\n",
       "      <td>4</td>\n",
       "    </tr>\n",
       "    <tr>\n",
       "      <th rowspan=\"2\" valign=\"top\">3</th>\n",
       "      <th rowspan=\"2\" valign=\"top\">True</th>\n",
       "      <th>EA-LSTM</th>\n",
       "      <td>-17.948238</td>\n",
       "      <td>30.017272</td>\n",
       "      <td>-14.871127</td>\n",
       "      <td>0.689284</td>\n",
       "      <td>0.734511</td>\n",
       "      <td>0.817955</td>\n",
       "      <td>-0.022754</td>\n",
       "      <td>2</td>\n",
       "    </tr>\n",
       "    <tr>\n",
       "      <th>XGBoost</th>\n",
       "      <td>-26.509073</td>\n",
       "      <td>-466.832497</td>\n",
       "      <td>-9.139941</td>\n",
       "      <td>0.608549</td>\n",
       "      <td>0.655960</td>\n",
       "      <td>0.732156</td>\n",
       "      <td>-0.023025</td>\n",
       "      <td>4</td>\n",
       "    </tr>\n",
       "    <tr>\n",
       "      <th rowspan=\"2\" valign=\"top\">4</th>\n",
       "      <th rowspan=\"2\" valign=\"top\">True</th>\n",
       "      <th>EA-LSTM</th>\n",
       "      <td>-19.927106</td>\n",
       "      <td>43.671231</td>\n",
       "      <td>-13.441842</td>\n",
       "      <td>0.678526</td>\n",
       "      <td>0.720004</td>\n",
       "      <td>0.803450</td>\n",
       "      <td>-0.033344</td>\n",
       "      <td>1</td>\n",
       "    </tr>\n",
       "    <tr>\n",
       "      <th>XGBoost</th>\n",
       "      <td>-28.455486</td>\n",
       "      <td>-424.165086</td>\n",
       "      <td>-7.621833</td>\n",
       "      <td>0.591418</td>\n",
       "      <td>0.643796</td>\n",
       "      <td>0.731084</td>\n",
       "      <td>-0.027953</td>\n",
       "      <td>5</td>\n",
       "    </tr>\n",
       "    <tr>\n",
       "      <th rowspan=\"2\" valign=\"top\">5</th>\n",
       "      <th rowspan=\"2\" valign=\"top\">True</th>\n",
       "      <th>EA-LSTM</th>\n",
       "      <td>-17.837878</td>\n",
       "      <td>37.004159</td>\n",
       "      <td>-12.990988</td>\n",
       "      <td>0.688864</td>\n",
       "      <td>0.720976</td>\n",
       "      <td>0.815950</td>\n",
       "      <td>-0.031195</td>\n",
       "      <td>0</td>\n",
       "    </tr>\n",
       "    <tr>\n",
       "      <th>XGBoost</th>\n",
       "      <td>-27.696894</td>\n",
       "      <td>-419.466395</td>\n",
       "      <td>-6.526511</td>\n",
       "      <td>0.607876</td>\n",
       "      <td>0.646359</td>\n",
       "      <td>0.742035</td>\n",
       "      <td>-0.026562</td>\n",
       "      <td>2</td>\n",
       "    </tr>\n",
       "    <tr>\n",
       "      <th rowspan=\"2\" valign=\"top\">531</th>\n",
       "      <th rowspan=\"2\" valign=\"top\">0</th>\n",
       "      <th rowspan=\"2\" valign=\"top\">True</th>\n",
       "      <th>EA-LSTM</th>\n",
       "      <td>-18.945755</td>\n",
       "      <td>33.280720</td>\n",
       "      <td>-11.947723</td>\n",
       "      <td>0.702461</td>\n",
       "      <td>0.736502</td>\n",
       "      <td>0.804942</td>\n",
       "      <td>-0.036867</td>\n",
       "      <td>2</td>\n",
       "    </tr>\n",
       "    <tr>\n",
       "      <th>XGBoost</th>\n",
       "      <td>-27.791360</td>\n",
       "      <td>-446.951514</td>\n",
       "      <td>-7.064706</td>\n",
       "      <td>0.619139</td>\n",
       "      <td>0.658524</td>\n",
       "      <td>0.736109</td>\n",
       "      <td>-0.025601</td>\n",
       "      <td>6</td>\n",
       "    </tr>\n",
       "  </tbody>\n",
       "</table>\n",
       "<p>126 rows × 8 columns</p>\n",
       "</div>"
      ],
      "text/plain": [
       "                                                       FHV median  FLV median  \\\n",
       "training_years n_basins basin_subset ensemble model                             \n",
       "3              13       16           True     EA-LSTM  -76.132173   40.880673   \n",
       "                                              XGBoost  -66.616092   57.173220   \n",
       "                        17           True     EA-LSTM  -83.224881   55.385314   \n",
       "                                              XGBoost  -66.710682   78.253518   \n",
       "                        18           True     EA-LSTM  -76.485334   28.926126   \n",
       "                                              XGBoost  -64.319971  -13.559986   \n",
       "                        19           True     EA-LSTM  -76.745154   50.035367   \n",
       "                                              XGBoost  -60.882933   40.492599   \n",
       "                        20           True     EA-LSTM  -79.238823   19.099648   \n",
       "                                              XGBoost  -56.211224   52.307292   \n",
       "               26       11           True     EA-LSTM  -64.926029   66.365148   \n",
       "                                              XGBoost  -55.896249   28.509062   \n",
       "                        12           True     EA-LSTM  -54.669438   62.226942   \n",
       "                                              XGBoost  -51.107923   27.955271   \n",
       "                        13           True     EA-LSTM  -62.760398   65.889296   \n",
       "                                              XGBoost  -55.433735 -106.207424   \n",
       "                        14           True     EA-LSTM  -64.588574   56.155176   \n",
       "                                              XGBoost  -57.439035   17.717096   \n",
       "                        15           True     EA-LSTM  -70.458729   46.420954   \n",
       "                                              XGBoost  -61.229783  -59.208426   \n",
       "               53       6            True     EA-LSTM  -50.112745   64.439637   \n",
       "                                              XGBoost  -50.360174  -63.267588   \n",
       "                        7            True     EA-LSTM  -42.894217   67.737679   \n",
       "                                              XGBoost  -47.386170 -125.975948   \n",
       "                        8            True     EA-LSTM  -45.056339   18.625027   \n",
       "                                              XGBoost  -47.998350  -42.458319   \n",
       "                        9            True     EA-LSTM  -52.685311   46.947656   \n",
       "                                              XGBoost  -50.844001   -1.885940   \n",
       "                        10           True     EA-LSTM  -47.819991   52.005957   \n",
       "                                              XGBoost  -50.531399 -117.049176   \n",
       "...                                                           ...         ...   \n",
       "9              26       12           True     EA-LSTM  -28.087524   43.597607   \n",
       "                                              XGBoost  -29.107049 -157.452976   \n",
       "                        13           True     EA-LSTM  -29.899328   43.776107   \n",
       "                                              XGBoost  -34.281963 -211.088347   \n",
       "                        14           True     EA-LSTM  -23.788976   49.046977   \n",
       "                                              XGBoost  -33.192652 -266.121266   \n",
       "                        15           True     EA-LSTM  -34.116292   32.138406   \n",
       "                                              XGBoost  -40.620746 -486.459804   \n",
       "               53       6            True     EA-LSTM  -27.628843   48.578432   \n",
       "                                              XGBoost  -34.273511 -145.732261   \n",
       "                        7            True     EA-LSTM  -28.205634   22.725944   \n",
       "                                              XGBoost  -32.495015 -393.437750   \n",
       "                        8            True     EA-LSTM  -25.961028   20.961180   \n",
       "                                              XGBoost  -31.345180 -489.273098   \n",
       "                        9            True     EA-LSTM  -25.243888   30.731261   \n",
       "                                              XGBoost  -32.919632 -156.020339   \n",
       "                        10           True     EA-LSTM  -24.593847   44.919745   \n",
       "                                              XGBoost  -32.681354 -202.833729   \n",
       "               265      1            True     EA-LSTM  -19.190300   39.592975   \n",
       "                                              XGBoost  -28.524719 -455.793669   \n",
       "                        2            True     EA-LSTM  -19.303852   42.407059   \n",
       "                                              XGBoost  -28.331430 -368.762799   \n",
       "                        3            True     EA-LSTM  -17.948238   30.017272   \n",
       "                                              XGBoost  -26.509073 -466.832497   \n",
       "                        4            True     EA-LSTM  -19.927106   43.671231   \n",
       "                                              XGBoost  -28.455486 -424.165086   \n",
       "                        5            True     EA-LSTM  -17.837878   37.004159   \n",
       "                                              XGBoost  -27.696894 -419.466395   \n",
       "               531      0            True     EA-LSTM  -18.945755   33.280720   \n",
       "                                              XGBoost  -27.791360 -446.951514   \n",
       "\n",
       "                                                       FMS median  NSE mean  \\\n",
       "training_years n_basins basin_subset ensemble model                           \n",
       "3              13       16           True     EA-LSTM   -7.064288  0.143263   \n",
       "                                              XGBoost  -17.503397  0.268964   \n",
       "                        17           True     EA-LSTM  -32.381579  0.070254   \n",
       "                                              XGBoost  -36.199602  0.297779   \n",
       "                        18           True     EA-LSTM  -34.606947  0.220863   \n",
       "                                              XGBoost  -30.358124  0.319753   \n",
       "                        19           True     EA-LSTM  -39.801505  0.220451   \n",
       "                                              XGBoost  -19.068273  0.341739   \n",
       "                        20           True     EA-LSTM  -38.944420  0.083943   \n",
       "                                              XGBoost  -24.980372  0.302795   \n",
       "               26       11           True     EA-LSTM  -36.392907  0.266254   \n",
       "                                              XGBoost  -19.958477  0.361639   \n",
       "                        12           True     EA-LSTM  -34.029949  0.379478   \n",
       "                                              XGBoost  -26.111570  0.361991   \n",
       "                        13           True     EA-LSTM  -41.931440  0.297189   \n",
       "                                              XGBoost  -28.644571  0.324606   \n",
       "                        14           True     EA-LSTM  -35.854739  0.326649   \n",
       "                                              XGBoost  -25.879116  0.403314   \n",
       "                        15           True     EA-LSTM  -40.531523  0.229077   \n",
       "                                              XGBoost  -32.252403  0.334104   \n",
       "               53       6            True     EA-LSTM  -36.632613  0.402337   \n",
       "                                              XGBoost  -11.881162  0.372776   \n",
       "                        7            True     EA-LSTM  -29.216723  0.499447   \n",
       "                                              XGBoost  -23.633411  0.487848   \n",
       "                        8            True     EA-LSTM  -23.203414  0.501825   \n",
       "                                              XGBoost  -18.825525  0.465945   \n",
       "                        9            True     EA-LSTM  -34.737674  0.455741   \n",
       "                                              XGBoost  -17.271350  0.442092   \n",
       "                        10           True     EA-LSTM  -33.793298  0.453839   \n",
       "                                              XGBoost  -21.720951  0.455445   \n",
       "...                                                           ...       ...   \n",
       "9              26       12           True     EA-LSTM  -16.879492  0.607255   \n",
       "                                              XGBoost  -10.952337  0.508555   \n",
       "                        13           True     EA-LSTM  -27.956974  0.579150   \n",
       "                                              XGBoost   -8.383491  0.459204   \n",
       "                        14           True     EA-LSTM  -14.142964  0.615571   \n",
       "                                              XGBoost  -18.239840  0.547098   \n",
       "                        15           True     EA-LSTM  -29.450291  0.510430   \n",
       "                                              XGBoost  -22.935505  0.493695   \n",
       "               53       6            True     EA-LSTM  -20.220381  0.596604   \n",
       "                                              XGBoost   -2.572890  0.499926   \n",
       "                        7            True     EA-LSTM  -17.429132  0.640675   \n",
       "                                              XGBoost   -5.978947  0.602508   \n",
       "                        8            True     EA-LSTM  -18.462063  0.657234   \n",
       "                                              XGBoost  -11.917205  0.615965   \n",
       "                        9            True     EA-LSTM  -21.441916  0.633187   \n",
       "                                              XGBoost   -9.327115  0.576230   \n",
       "                        10           True     EA-LSTM  -22.311768  0.635486   \n",
       "                                              XGBoost  -11.234494  0.586659   \n",
       "               265      1            True     EA-LSTM  -13.646507  0.700492   \n",
       "                                              XGBoost   -5.912705  0.597890   \n",
       "                        2            True     EA-LSTM  -13.211486  0.690127   \n",
       "                                              XGBoost   -7.469763  0.606245   \n",
       "                        3            True     EA-LSTM  -14.871127  0.689284   \n",
       "                                              XGBoost   -9.139941  0.608549   \n",
       "                        4            True     EA-LSTM  -13.441842  0.678526   \n",
       "                                              XGBoost   -7.621833  0.591418   \n",
       "                        5            True     EA-LSTM  -12.990988  0.688864   \n",
       "                                              XGBoost   -6.526511  0.607876   \n",
       "               531      0            True     EA-LSTM  -11.947723  0.702461   \n",
       "                                              XGBoost   -7.064706  0.619139   \n",
       "\n",
       "                                                       NSE median  \\\n",
       "training_years n_basins basin_subset ensemble model                 \n",
       "3              13       16           True     EA-LSTM    0.156288   \n",
       "                                              XGBoost    0.256873   \n",
       "                        17           True     EA-LSTM    0.120861   \n",
       "                                              XGBoost    0.274098   \n",
       "                        18           True     EA-LSTM    0.246034   \n",
       "                                              XGBoost    0.296819   \n",
       "                        19           True     EA-LSTM    0.219641   \n",
       "                                              XGBoost    0.385460   \n",
       "                        20           True     EA-LSTM    0.173834   \n",
       "                                              XGBoost    0.403225   \n",
       "               26       11           True     EA-LSTM    0.306571   \n",
       "                                              XGBoost    0.413597   \n",
       "                        12           True     EA-LSTM    0.388314   \n",
       "                                              XGBoost    0.390703   \n",
       "                        13           True     EA-LSTM    0.277996   \n",
       "                                              XGBoost    0.422432   \n",
       "                        14           True     EA-LSTM    0.339598   \n",
       "                                              XGBoost    0.403142   \n",
       "                        15           True     EA-LSTM    0.215336   \n",
       "                                              XGBoost    0.366713   \n",
       "               53       6            True     EA-LSTM    0.426813   \n",
       "                                              XGBoost    0.441748   \n",
       "                        7            True     EA-LSTM    0.506424   \n",
       "                                              XGBoost    0.488135   \n",
       "                        8            True     EA-LSTM    0.508376   \n",
       "                                              XGBoost    0.478396   \n",
       "                        9            True     EA-LSTM    0.465532   \n",
       "                                              XGBoost    0.441987   \n",
       "                        10           True     EA-LSTM    0.502662   \n",
       "                                              XGBoost    0.502367   \n",
       "...                                                           ...   \n",
       "9              26       12           True     EA-LSTM    0.652095   \n",
       "                                              XGBoost    0.563024   \n",
       "                        13           True     EA-LSTM    0.626371   \n",
       "                                              XGBoost    0.588440   \n",
       "                        14           True     EA-LSTM    0.654071   \n",
       "                                              XGBoost    0.578169   \n",
       "                        15           True     EA-LSTM    0.576396   \n",
       "                                              XGBoost    0.525073   \n",
       "               53       6            True     EA-LSTM    0.631896   \n",
       "                                              XGBoost    0.584375   \n",
       "                        7            True     EA-LSTM    0.669767   \n",
       "                                              XGBoost    0.612933   \n",
       "                        8            True     EA-LSTM    0.678736   \n",
       "                                              XGBoost    0.621527   \n",
       "                        9            True     EA-LSTM    0.688500   \n",
       "                                              XGBoost    0.613430   \n",
       "                        10           True     EA-LSTM    0.674800   \n",
       "                                              XGBoost    0.618757   \n",
       "               265      1            True     EA-LSTM    0.729584   \n",
       "                                              XGBoost    0.652977   \n",
       "                        2            True     EA-LSTM    0.729470   \n",
       "                                              XGBoost    0.650453   \n",
       "                        3            True     EA-LSTM    0.734511   \n",
       "                                              XGBoost    0.655960   \n",
       "                        4            True     EA-LSTM    0.720004   \n",
       "                                              XGBoost    0.643796   \n",
       "                        5            True     EA-LSTM    0.720976   \n",
       "                                              XGBoost    0.646359   \n",
       "               531      0            True     EA-LSTM    0.736502   \n",
       "                                              XGBoost    0.658524   \n",
       "\n",
       "                                                       alpha_nse median  \\\n",
       "training_years n_basins basin_subset ensemble model                       \n",
       "3              13       16           True     EA-LSTM          0.245424   \n",
       "                                              XGBoost          0.322968   \n",
       "                        17           True     EA-LSTM          0.211425   \n",
       "                                              XGBoost          0.326498   \n",
       "                        18           True     EA-LSTM          0.307289   \n",
       "                                              XGBoost          0.365189   \n",
       "                        19           True     EA-LSTM          0.291006   \n",
       "                                              XGBoost          0.423051   \n",
       "                        20           True     EA-LSTM          0.254292   \n",
       "                                              XGBoost          0.423424   \n",
       "               26       11           True     EA-LSTM          0.366881   \n",
       "                                              XGBoost          0.471713   \n",
       "                        12           True     EA-LSTM          0.461906   \n",
       "                                              XGBoost          0.502186   \n",
       "                        13           True     EA-LSTM          0.340503   \n",
       "                                              XGBoost          0.437592   \n",
       "                        14           True     EA-LSTM          0.359586   \n",
       "                                              XGBoost          0.455429   \n",
       "                        15           True     EA-LSTM          0.323671   \n",
       "                                              XGBoost          0.410095   \n",
       "               53       6            True     EA-LSTM          0.495830   \n",
       "                                              XGBoost          0.522913   \n",
       "                        7            True     EA-LSTM          0.584961   \n",
       "                                              XGBoost          0.527304   \n",
       "                        8            True     EA-LSTM          0.562833   \n",
       "                                              XGBoost          0.510470   \n",
       "                        9            True     EA-LSTM          0.532002   \n",
       "                                              XGBoost          0.500674   \n",
       "                        10           True     EA-LSTM          0.525680   \n",
       "                                              XGBoost          0.510202   \n",
       "...                                                                 ...   \n",
       "9              26       12           True     EA-LSTM          0.710199   \n",
       "                                              XGBoost          0.709736   \n",
       "                        13           True     EA-LSTM          0.686687   \n",
       "                                              XGBoost          0.700214   \n",
       "                        14           True     EA-LSTM          0.702176   \n",
       "                                              XGBoost          0.701561   \n",
       "                        15           True     EA-LSTM          0.643943   \n",
       "                                              XGBoost          0.630241   \n",
       "               53       6            True     EA-LSTM          0.707568   \n",
       "                                              XGBoost          0.708268   \n",
       "                        7            True     EA-LSTM          0.708238   \n",
       "                                              XGBoost          0.679757   \n",
       "                        8            True     EA-LSTM          0.742411   \n",
       "                                              XGBoost          0.692073   \n",
       "                        9            True     EA-LSTM          0.765270   \n",
       "                                              XGBoost          0.713938   \n",
       "                        10           True     EA-LSTM          0.750012   \n",
       "                                              XGBoost          0.673246   \n",
       "               265      1            True     EA-LSTM          0.800263   \n",
       "                                              XGBoost          0.725340   \n",
       "                        2            True     EA-LSTM          0.799256   \n",
       "                                              XGBoost          0.732950   \n",
       "                        3            True     EA-LSTM          0.817955   \n",
       "                                              XGBoost          0.732156   \n",
       "                        4            True     EA-LSTM          0.803450   \n",
       "                                              XGBoost          0.731084   \n",
       "                        5            True     EA-LSTM          0.815950   \n",
       "                                              XGBoost          0.742035   \n",
       "               531      0            True     EA-LSTM          0.804942   \n",
       "                                              XGBoost          0.736109   \n",
       "\n",
       "                                                       beta_nse median  \\\n",
       "training_years n_basins basin_subset ensemble model                      \n",
       "3              13       16           True     EA-LSTM        -0.241704   \n",
       "                                              XGBoost        -0.171391   \n",
       "                        17           True     EA-LSTM        -0.248707   \n",
       "                                              XGBoost        -0.083138   \n",
       "                        18           True     EA-LSTM        -0.142499   \n",
       "                                              XGBoost        -0.065685   \n",
       "                        19           True     EA-LSTM        -0.165892   \n",
       "                                              XGBoost        -0.113960   \n",
       "                        20           True     EA-LSTM        -0.178971   \n",
       "                                              XGBoost        -0.076644   \n",
       "               26       11           True     EA-LSTM        -0.157205   \n",
       "                                              XGBoost        -0.113105   \n",
       "                        12           True     EA-LSTM        -0.096213   \n",
       "                                              XGBoost        -0.056682   \n",
       "                        13           True     EA-LSTM        -0.102479   \n",
       "                                              XGBoost        -0.079729   \n",
       "                        14           True     EA-LSTM        -0.121578   \n",
       "                                              XGBoost        -0.088966   \n",
       "                        15           True     EA-LSTM        -0.138721   \n",
       "                                              XGBoost        -0.082828   \n",
       "               53       6            True     EA-LSTM        -0.086322   \n",
       "                                              XGBoost        -0.080626   \n",
       "                        7            True     EA-LSTM        -0.087368   \n",
       "                                              XGBoost        -0.074840   \n",
       "                        8            True     EA-LSTM        -0.083070   \n",
       "                                              XGBoost        -0.070069   \n",
       "                        9            True     EA-LSTM        -0.078089   \n",
       "                                              XGBoost        -0.079683   \n",
       "                        10           True     EA-LSTM        -0.058155   \n",
       "                                              XGBoost        -0.068534   \n",
       "...                                                                ...   \n",
       "9              26       12           True     EA-LSTM        -0.030946   \n",
       "                                              XGBoost        -0.009831   \n",
       "                        13           True     EA-LSTM        -0.024601   \n",
       "                                              XGBoost        -0.017912   \n",
       "                        14           True     EA-LSTM        -0.014057   \n",
       "                                              XGBoost        -0.019473   \n",
       "                        15           True     EA-LSTM        -0.031799   \n",
       "                                              XGBoost        -0.031840   \n",
       "               53       6            True     EA-LSTM        -0.034065   \n",
       "                                              XGBoost        -0.040522   \n",
       "                        7            True     EA-LSTM        -0.043496   \n",
       "                                              XGBoost        -0.040507   \n",
       "                        8            True     EA-LSTM        -0.033470   \n",
       "                                              XGBoost        -0.034738   \n",
       "                        9            True     EA-LSTM        -0.016301   \n",
       "                                              XGBoost        -0.022578   \n",
       "                        10           True     EA-LSTM        -0.009674   \n",
       "                                              XGBoost        -0.030492   \n",
       "               265      1            True     EA-LSTM        -0.029740   \n",
       "                                              XGBoost        -0.022080   \n",
       "                        2            True     EA-LSTM        -0.029316   \n",
       "                                              XGBoost        -0.020821   \n",
       "                        3            True     EA-LSTM        -0.022754   \n",
       "                                              XGBoost        -0.023025   \n",
       "                        4            True     EA-LSTM        -0.033344   \n",
       "                                              XGBoost        -0.027953   \n",
       "                        5            True     EA-LSTM        -0.031195   \n",
       "                                              XGBoost        -0.026562   \n",
       "               531      0            True     EA-LSTM        -0.036867   \n",
       "                                              XGBoost        -0.025601   \n",
       "\n",
       "                                                       failures  \n",
       "training_years n_basins basin_subset ensemble model              \n",
       "3              13       16           True     EA-LSTM         2  \n",
       "                                              XGBoost         0  \n",
       "                        17           True     EA-LSTM         2  \n",
       "                                              XGBoost         0  \n",
       "                        18           True     EA-LSTM         1  \n",
       "                                              XGBoost         0  \n",
       "                        19           True     EA-LSTM         0  \n",
       "                                              XGBoost         0  \n",
       "                        20           True     EA-LSTM         3  \n",
       "                                              XGBoost         1  \n",
       "               26       11           True     EA-LSTM         0  \n",
       "                                              XGBoost         1  \n",
       "                        12           True     EA-LSTM         0  \n",
       "                                              XGBoost         1  \n",
       "                        13           True     EA-LSTM         1  \n",
       "                                              XGBoost         1  \n",
       "                        14           True     EA-LSTM         0  \n",
       "                                              XGBoost         0  \n",
       "                        15           True     EA-LSTM         0  \n",
       "                                              XGBoost         0  \n",
       "               53       6            True     EA-LSTM         1  \n",
       "                                              XGBoost         3  \n",
       "                        7            True     EA-LSTM         0  \n",
       "                                              XGBoost         0  \n",
       "                        8            True     EA-LSTM         0  \n",
       "                                              XGBoost         0  \n",
       "                        9            True     EA-LSTM         0  \n",
       "                                              XGBoost         1  \n",
       "                        10           True     EA-LSTM         0  \n",
       "                                              XGBoost         1  \n",
       "...                                                         ...  \n",
       "9              26       12           True     EA-LSTM         0  \n",
       "                                              XGBoost         1  \n",
       "                        13           True     EA-LSTM         1  \n",
       "                                              XGBoost         1  \n",
       "                        14           True     EA-LSTM         0  \n",
       "                                              XGBoost         1  \n",
       "                        15           True     EA-LSTM         0  \n",
       "                                              XGBoost         0  \n",
       "               53       6            True     EA-LSTM         1  \n",
       "                                              XGBoost         3  \n",
       "                        7            True     EA-LSTM         0  \n",
       "                                              XGBoost         0  \n",
       "                        8            True     EA-LSTM         0  \n",
       "                                              XGBoost         0  \n",
       "                        9            True     EA-LSTM         0  \n",
       "                                              XGBoost         0  \n",
       "                        10           True     EA-LSTM         0  \n",
       "                                              XGBoost         0  \n",
       "               265      1            True     EA-LSTM         1  \n",
       "                                              XGBoost         4  \n",
       "                        2            True     EA-LSTM         0  \n",
       "                                              XGBoost         4  \n",
       "                        3            True     EA-LSTM         2  \n",
       "                                              XGBoost         4  \n",
       "                        4            True     EA-LSTM         1  \n",
       "                                              XGBoost         5  \n",
       "                        5            True     EA-LSTM         0  \n",
       "                                              XGBoost         2  \n",
       "               531      0            True     EA-LSTM         2  \n",
       "                                              XGBoost         6  \n",
       "\n",
       "[126 rows x 8 columns]"
      ]
     },
     "execution_count": 13,
     "metadata": {},
     "output_type": "execute_result"
    }
   ],
   "source": [
    "data = []\n",
    "for model, desc in [(\"ealstm\", \"EA-LSTM\"), (\"xgboost\", \"XGBoost\")]:\n",
    "    for training_years, n_basins in itertools.product(model_specs_gridEvaluation['training_years'],\n",
    "                                                      model_specs_gridEvaluation['n_basins']):\n",
    "        for basin_subset in model_specs_gridEvaluation['basin_subsets'][n_basins]:\n",
    "            single_model = {'model': desc, 'ensemble': False,\n",
    "                            'training_years': training_years,\n",
    "                            'n_basins': n_basins,\n",
    "                            'basin_subset': basin_subset}\n",
    "            ensemble_mean = {'model': desc, 'ensemble': True,\n",
    "                             'training_years': training_years,\n",
    "                             'n_basins': n_basins,\n",
    "                             'basin_subset': basin_subset}\n",
    "            # average over single models\n",
    "            for metric, metric_data in all_metrics.items():\n",
    "                seeds = [k for k in metric_data[model][training_years][basin_subset].keys() if \"seed\" in k]\n",
    "                seed_vals = defaultdict(list)\n",
    "                for seed in seeds:\n",
    "                    values = list(metric_data[model][training_years][basin_subset][seed].values())\n",
    "                    seed_vals[f\"{metric} median\"].append(np.median(values))\n",
    "                    if metric == \"NSE\":\n",
    "                        seed_vals[f\"{metric} mean\"].append(np.mean(values))\n",
    "                        seed_vals[\"failures\"].append(len([v for v in values if v <= 0]))\n",
    "                    single_model[f\"{metric} median\"] = np.mean(seed_vals[f\"{metric} median\"])\n",
    "                    single_model[f\"{metric} median std\"] = np.std(seed_vals[f\"{metric} median\"])\n",
    "                    if metric == \"NSE\":\n",
    "                        single_model[f\"{metric} mean\"] = np.mean(seed_vals[f\"{metric} mean\"])\n",
    "                        single_model[f\"{metric} mean std\"] = np.std(seed_vals[f\"{metric} mean\"])\n",
    "                        single_model[f\"failures\"] = np.mean(seed_vals[\"failures\"])\n",
    "                        single_model[f\"failures std\"] = np.std(seed_vals[\"failures\"])\n",
    "\n",
    "                # ensemble mean\n",
    "                values = list(metric_data[model][training_years][basin_subset][\"ensemble\"].values())\n",
    "                ensemble_mean[f\"{metric} median\"] = np.median(values)\n",
    "                if metric == \"NSE\":\n",
    "                    ensemble_mean[\"NSE mean\"] = np.mean(values)\n",
    "                    ensemble_mean[\"failures\"] = len([v for v in values if v <= 0])\n",
    "            #data.append(single_model)\n",
    "            data.append(ensemble_mean)\n",
    "        \n",
    "df = pd.DataFrame(data)\n",
    "df = df.set_index(keys=[\"training_years\", \"n_basins\", \"basin_subset\", \"ensemble\", \"model\"])\n",
    "df.sort_values([\"training_years\", \"n_basins\", \"basin_subset\", \"ensemble\", \"model\"], inplace=True)\n",
    "df"
   ]
  },
  {
   "cell_type": "code",
   "execution_count": null,
   "metadata": {},
   "outputs": [],
   "source": []
  }
 ],
 "metadata": {
  "kernelspec": {
   "display_name": "Python 3",
   "language": "python",
   "name": "python3"
  },
  "language_info": {
   "codemirror_mode": {
    "name": "ipython",
    "version": 3
   },
   "file_extension": ".py",
   "mimetype": "text/x-python",
   "name": "python",
   "nbconvert_exporter": "python",
   "pygments_lexer": "ipython3",
   "version": "3.7.3"
  }
 },
 "nbformat": 4,
 "nbformat_minor": 2
}
